{
 "cells": [
  {
   "cell_type": "code",
   "execution_count": 1,
   "metadata": {
    "collapsed": true
   },
   "outputs": [],
   "source": [
    "import pandas as pd\n",
    "import numpy as np\n",
    "import seaborn as sns\n",
    "import matplotlib.pyplot as plt\n",
    "import datetime as dt\n",
    "from datetime import date\n",
    "from scipy import stats\n",
    "import warnings\n",
    "warnings.filterwarnings('ignore')\n",
    "\n",
    "%matplotlib inline"
   ]
  },
  {
   "cell_type": "code",
   "execution_count": 3,
   "outputs": [],
   "source": [
    "off_train = pd.read_csv('./dataset/ccf_offline_stage1_train.csv', keep_default_na=True)\n",
    "off_train.columns = [\n",
    "    'user_id', 'merchant_id', 'coupon_id', 'discount_rate', 'distance', 'date_received', 'date'\n",
    "]\n",
    "off_test = pd.read_csv('./dataset/ccf_offline_stage1_test_revised.csv', keep_default_na=True)\n",
    "off_test.columns = [\n",
    "    'user_id', 'merchant_id', 'coupon_id', 'discount_rate', 'distance', 'date_received'\n",
    "]\n",
    "on_train = pd.read_csv('./dataset/ccf_online_stage1_train.csv', keep_default_na=True)\n",
    "on_train.columns = [\n",
    "    'user_id', 'merchant_id', 'coupon_id', 'discount_rate', 'distance', 'date_received', 'date'\n",
    "]"
   ],
   "metadata": {
    "collapsed": false,
    "pycharm": {
     "name": "#%%\n"
    }
   }
  },
  {
   "cell_type": "code",
   "execution_count": 4,
   "outputs": [
    {
     "data": {
      "text/plain": "   user_id  merchant_id  coupon_id discount_rate  distance  date_received  \\\n0  1439408         2632        NaN           NaN       0.0            NaN   \n1  1439408         4663    11002.0        150:20       1.0     20160528.0   \n2  1439408         2632     8591.0          20:1       0.0     20160217.0   \n3  1439408         2632     1078.0          20:1       0.0     20160319.0   \n4  1439408         2632     8591.0          20:1       0.0     20160613.0   \n\n         date  \n0  20160217.0  \n1         NaN  \n2         NaN  \n3         NaN  \n4         NaN  ",
      "text/html": "<div>\n<style scoped>\n    .dataframe tbody tr th:only-of-type {\n        vertical-align: middle;\n    }\n\n    .dataframe tbody tr th {\n        vertical-align: top;\n    }\n\n    .dataframe thead th {\n        text-align: right;\n    }\n</style>\n<table border=\"1\" class=\"dataframe\">\n  <thead>\n    <tr style=\"text-align: right;\">\n      <th></th>\n      <th>user_id</th>\n      <th>merchant_id</th>\n      <th>coupon_id</th>\n      <th>discount_rate</th>\n      <th>distance</th>\n      <th>date_received</th>\n      <th>date</th>\n    </tr>\n  </thead>\n  <tbody>\n    <tr>\n      <th>0</th>\n      <td>1439408</td>\n      <td>2632</td>\n      <td>NaN</td>\n      <td>NaN</td>\n      <td>0.0</td>\n      <td>NaN</td>\n      <td>20160217.0</td>\n    </tr>\n    <tr>\n      <th>1</th>\n      <td>1439408</td>\n      <td>4663</td>\n      <td>11002.0</td>\n      <td>150:20</td>\n      <td>1.0</td>\n      <td>20160528.0</td>\n      <td>NaN</td>\n    </tr>\n    <tr>\n      <th>2</th>\n      <td>1439408</td>\n      <td>2632</td>\n      <td>8591.0</td>\n      <td>20:1</td>\n      <td>0.0</td>\n      <td>20160217.0</td>\n      <td>NaN</td>\n    </tr>\n    <tr>\n      <th>3</th>\n      <td>1439408</td>\n      <td>2632</td>\n      <td>1078.0</td>\n      <td>20:1</td>\n      <td>0.0</td>\n      <td>20160319.0</td>\n      <td>NaN</td>\n    </tr>\n    <tr>\n      <th>4</th>\n      <td>1439408</td>\n      <td>2632</td>\n      <td>8591.0</td>\n      <td>20:1</td>\n      <td>0.0</td>\n      <td>20160613.0</td>\n      <td>NaN</td>\n    </tr>\n  </tbody>\n</table>\n</div>"
     },
     "execution_count": 4,
     "metadata": {},
     "output_type": "execute_result"
    }
   ],
   "source": [
    "off_train.head()"
   ],
   "metadata": {
    "collapsed": false,
    "pycharm": {
     "name": "#%%\n"
    }
   }
  },
  {
   "cell_type": "code",
   "execution_count": 5,
   "outputs": [
    {
     "data": {
      "text/plain": "    user_id  merchant_id  coupon_id discount_rate distance  date_received  \\\n0  13740231        18907          2     100017492   500:50     20160513.0   \n1  13740231        34805          1           NaN      NaN            NaN   \n2  14336199        18907          0           NaN      NaN            NaN   \n3  14336199        18907          0           NaN      NaN            NaN   \n4  14336199        18907          0           NaN      NaN            NaN   \n\n         date  \n0         NaN  \n1  20160321.0  \n2  20160618.0  \n3  20160618.0  \n4  20160618.0  ",
      "text/html": "<div>\n<style scoped>\n    .dataframe tbody tr th:only-of-type {\n        vertical-align: middle;\n    }\n\n    .dataframe tbody tr th {\n        vertical-align: top;\n    }\n\n    .dataframe thead th {\n        text-align: right;\n    }\n</style>\n<table border=\"1\" class=\"dataframe\">\n  <thead>\n    <tr style=\"text-align: right;\">\n      <th></th>\n      <th>user_id</th>\n      <th>merchant_id</th>\n      <th>coupon_id</th>\n      <th>discount_rate</th>\n      <th>distance</th>\n      <th>date_received</th>\n      <th>date</th>\n    </tr>\n  </thead>\n  <tbody>\n    <tr>\n      <th>0</th>\n      <td>13740231</td>\n      <td>18907</td>\n      <td>2</td>\n      <td>100017492</td>\n      <td>500:50</td>\n      <td>20160513.0</td>\n      <td>NaN</td>\n    </tr>\n    <tr>\n      <th>1</th>\n      <td>13740231</td>\n      <td>34805</td>\n      <td>1</td>\n      <td>NaN</td>\n      <td>NaN</td>\n      <td>NaN</td>\n      <td>20160321.0</td>\n    </tr>\n    <tr>\n      <th>2</th>\n      <td>14336199</td>\n      <td>18907</td>\n      <td>0</td>\n      <td>NaN</td>\n      <td>NaN</td>\n      <td>NaN</td>\n      <td>20160618.0</td>\n    </tr>\n    <tr>\n      <th>3</th>\n      <td>14336199</td>\n      <td>18907</td>\n      <td>0</td>\n      <td>NaN</td>\n      <td>NaN</td>\n      <td>NaN</td>\n      <td>20160618.0</td>\n    </tr>\n    <tr>\n      <th>4</th>\n      <td>14336199</td>\n      <td>18907</td>\n      <td>0</td>\n      <td>NaN</td>\n      <td>NaN</td>\n      <td>NaN</td>\n      <td>20160618.0</td>\n    </tr>\n  </tbody>\n</table>\n</div>"
     },
     "execution_count": 5,
     "metadata": {},
     "output_type": "execute_result"
    }
   ],
   "source": [
    "on_train.head()"
   ],
   "metadata": {
    "collapsed": false,
    "pycharm": {
     "name": "#%%\n"
    }
   }
  },
  {
   "cell_type": "code",
   "execution_count": 6,
   "outputs": [
    {
     "data": {
      "text/plain": "   user_id  merchant_id  coupon_id discount_rate  distance  date_received\n0  4129537          450       9983          30:5       1.0       20160712\n1  6949378         1300       3429          30:5       NaN       20160706\n2  2166529         7113       6928        200:20       5.0       20160727\n3  2166529         7113       1808        100:10       5.0       20160727\n4  6172162         7605       6500          30:1       2.0       20160708",
      "text/html": "<div>\n<style scoped>\n    .dataframe tbody tr th:only-of-type {\n        vertical-align: middle;\n    }\n\n    .dataframe tbody tr th {\n        vertical-align: top;\n    }\n\n    .dataframe thead th {\n        text-align: right;\n    }\n</style>\n<table border=\"1\" class=\"dataframe\">\n  <thead>\n    <tr style=\"text-align: right;\">\n      <th></th>\n      <th>user_id</th>\n      <th>merchant_id</th>\n      <th>coupon_id</th>\n      <th>discount_rate</th>\n      <th>distance</th>\n      <th>date_received</th>\n    </tr>\n  </thead>\n  <tbody>\n    <tr>\n      <th>0</th>\n      <td>4129537</td>\n      <td>450</td>\n      <td>9983</td>\n      <td>30:5</td>\n      <td>1.0</td>\n      <td>20160712</td>\n    </tr>\n    <tr>\n      <th>1</th>\n      <td>6949378</td>\n      <td>1300</td>\n      <td>3429</td>\n      <td>30:5</td>\n      <td>NaN</td>\n      <td>20160706</td>\n    </tr>\n    <tr>\n      <th>2</th>\n      <td>2166529</td>\n      <td>7113</td>\n      <td>6928</td>\n      <td>200:20</td>\n      <td>5.0</td>\n      <td>20160727</td>\n    </tr>\n    <tr>\n      <th>3</th>\n      <td>2166529</td>\n      <td>7113</td>\n      <td>1808</td>\n      <td>100:10</td>\n      <td>5.0</td>\n      <td>20160727</td>\n    </tr>\n    <tr>\n      <th>4</th>\n      <td>6172162</td>\n      <td>7605</td>\n      <td>6500</td>\n      <td>30:1</td>\n      <td>2.0</td>\n      <td>20160708</td>\n    </tr>\n  </tbody>\n</table>\n</div>"
     },
     "execution_count": 6,
     "metadata": {},
     "output_type": "execute_result"
    }
   ],
   "source": [
    "off_test.head()"
   ],
   "metadata": {
    "collapsed": false,
    "pycharm": {
     "name": "#%%\n"
    }
   }
  },
  {
   "cell_type": "code",
   "execution_count": 7,
   "outputs": [
    {
     "name": "stdout",
     "output_type": "stream",
     "text": [
      "<class 'pandas.core.frame.DataFrame'>\n",
      "RangeIndex: 1754884 entries, 0 to 1754883\n",
      "Data columns (total 7 columns):\n",
      " #   Column         Dtype  \n",
      "---  ------         -----  \n",
      " 0   user_id        int64  \n",
      " 1   merchant_id    int64  \n",
      " 2   coupon_id      float64\n",
      " 3   discount_rate  object \n",
      " 4   distance       float64\n",
      " 5   date_received  float64\n",
      " 6   date           float64\n",
      "dtypes: float64(4), int64(2), object(1)\n",
      "memory usage: 93.7+ MB\n"
     ]
    }
   ],
   "source": [
    "off_train.info()"
   ],
   "metadata": {
    "collapsed": false,
    "pycharm": {
     "name": "#%%\n"
    }
   }
  },
  {
   "cell_type": "code",
   "execution_count": 8,
   "outputs": [
    {
     "name": "stdout",
     "output_type": "stream",
     "text": [
      "<class 'pandas.core.frame.DataFrame'>\n",
      "RangeIndex: 11429826 entries, 0 to 11429825\n",
      "Data columns (total 7 columns):\n",
      " #   Column         Dtype  \n",
      "---  ------         -----  \n",
      " 0   user_id        int64  \n",
      " 1   merchant_id    int64  \n",
      " 2   coupon_id      int64  \n",
      " 3   discount_rate  object \n",
      " 4   distance       object \n",
      " 5   date_received  float64\n",
      " 6   date           float64\n",
      "dtypes: float64(2), int64(3), object(2)\n",
      "memory usage: 610.4+ MB\n"
     ]
    }
   ],
   "source": [
    "on_train.info()"
   ],
   "metadata": {
    "collapsed": false,
    "pycharm": {
     "name": "#%%\n"
    }
   }
  },
  {
   "cell_type": "code",
   "execution_count": 11,
   "outputs": [
    {
     "name": "stdout",
     "output_type": "stream",
     "text": [
      "<class 'pandas.core.frame.DataFrame'>\n",
      "RangeIndex: 113640 entries, 0 to 113639\n",
      "Data columns (total 6 columns):\n",
      " #   Column         Non-Null Count   Dtype  \n",
      "---  ------         --------------   -----  \n",
      " 0   user_id        113640 non-null  int64  \n",
      " 1   merchant_id    113640 non-null  int64  \n",
      " 2   coupon_id      113640 non-null  int64  \n",
      " 3   discount_rate  113640 non-null  object \n",
      " 4   distance       101576 non-null  float64\n",
      " 5   date_received  113640 non-null  int64  \n",
      "dtypes: float64(1), int64(4), object(1)\n",
      "memory usage: 5.2+ MB\n"
     ]
    }
   ],
   "source": [
    "off_test.info()"
   ],
   "metadata": {
    "collapsed": false,
    "pycharm": {
     "name": "#%%\n"
    }
   }
  },
  {
   "cell_type": "code",
   "execution_count": 12,
   "outputs": [
    {
     "data": {
      "text/plain": "            user_id   merchant_id     coupon_id      distance  date_received  \\\ncount  1.754884e+06  1.754884e+06  1.053282e+06  1.648881e+06   1.053282e+06   \nmean   3.689255e+06  4.038808e+03  6.815398e+03  2.361636e+00   2.016032e+07   \nstd    2.123428e+06  2.435963e+03  4.174276e+03  3.483974e+00   1.771416e+02   \nmin    4.000000e+00  1.000000e+00  1.000000e+00  0.000000e+00   2.016010e+07   \n25%    1.845052e+06  1.983000e+03  2.840000e+03  0.000000e+00   2.016013e+07   \n50%    3.694446e+06  3.532000e+03  7.430000e+03  0.000000e+00   2.016032e+07   \n75%    5.528759e+06  6.329000e+03  1.032300e+04  3.000000e+00   2.016051e+07   \nmax    7.361032e+06  8.856000e+03  1.404500e+04  1.000000e+01   2.016062e+07   \n\n               date  \ncount  7.769840e+05  \nmean   2.016040e+07  \nstd    1.621500e+02  \nmin    2.016010e+07  \n25%    2.016031e+07  \n50%    2.016042e+07  \n75%    2.016052e+07  \nmax    2.016063e+07  ",
      "text/html": "<div>\n<style scoped>\n    .dataframe tbody tr th:only-of-type {\n        vertical-align: middle;\n    }\n\n    .dataframe tbody tr th {\n        vertical-align: top;\n    }\n\n    .dataframe thead th {\n        text-align: right;\n    }\n</style>\n<table border=\"1\" class=\"dataframe\">\n  <thead>\n    <tr style=\"text-align: right;\">\n      <th></th>\n      <th>user_id</th>\n      <th>merchant_id</th>\n      <th>coupon_id</th>\n      <th>distance</th>\n      <th>date_received</th>\n      <th>date</th>\n    </tr>\n  </thead>\n  <tbody>\n    <tr>\n      <th>count</th>\n      <td>1.754884e+06</td>\n      <td>1.754884e+06</td>\n      <td>1.053282e+06</td>\n      <td>1.648881e+06</td>\n      <td>1.053282e+06</td>\n      <td>7.769840e+05</td>\n    </tr>\n    <tr>\n      <th>mean</th>\n      <td>3.689255e+06</td>\n      <td>4.038808e+03</td>\n      <td>6.815398e+03</td>\n      <td>2.361636e+00</td>\n      <td>2.016032e+07</td>\n      <td>2.016040e+07</td>\n    </tr>\n    <tr>\n      <th>std</th>\n      <td>2.123428e+06</td>\n      <td>2.435963e+03</td>\n      <td>4.174276e+03</td>\n      <td>3.483974e+00</td>\n      <td>1.771416e+02</td>\n      <td>1.621500e+02</td>\n    </tr>\n    <tr>\n      <th>min</th>\n      <td>4.000000e+00</td>\n      <td>1.000000e+00</td>\n      <td>1.000000e+00</td>\n      <td>0.000000e+00</td>\n      <td>2.016010e+07</td>\n      <td>2.016010e+07</td>\n    </tr>\n    <tr>\n      <th>25%</th>\n      <td>1.845052e+06</td>\n      <td>1.983000e+03</td>\n      <td>2.840000e+03</td>\n      <td>0.000000e+00</td>\n      <td>2.016013e+07</td>\n      <td>2.016031e+07</td>\n    </tr>\n    <tr>\n      <th>50%</th>\n      <td>3.694446e+06</td>\n      <td>3.532000e+03</td>\n      <td>7.430000e+03</td>\n      <td>0.000000e+00</td>\n      <td>2.016032e+07</td>\n      <td>2.016042e+07</td>\n    </tr>\n    <tr>\n      <th>75%</th>\n      <td>5.528759e+06</td>\n      <td>6.329000e+03</td>\n      <td>1.032300e+04</td>\n      <td>3.000000e+00</td>\n      <td>2.016051e+07</td>\n      <td>2.016052e+07</td>\n    </tr>\n    <tr>\n      <th>max</th>\n      <td>7.361032e+06</td>\n      <td>8.856000e+03</td>\n      <td>1.404500e+04</td>\n      <td>1.000000e+01</td>\n      <td>2.016062e+07</td>\n      <td>2.016063e+07</td>\n    </tr>\n  </tbody>\n</table>\n</div>"
     },
     "execution_count": 12,
     "metadata": {},
     "output_type": "execute_result"
    }
   ],
   "source": [
    "off_train.describe()"
   ],
   "metadata": {
    "collapsed": false,
    "pycharm": {
     "name": "#%%\n"
    }
   }
  },
  {
   "cell_type": "code",
   "execution_count": 13,
   "outputs": [
    {
     "data": {
      "text/plain": "            user_id   merchant_id     coupon_id  date_received          date\ncount  1.142983e+07  1.142983e+07  1.142983e+07   8.723570e+05  1.077393e+07\nmean   1.074683e+07  3.436686e+04  2.348193e-01   2.016037e+07  2.016039e+07\nstd    4.137712e+06  1.441243e+04  5.426314e-01   1.560031e+02  1.732371e+02\nmin    4.000000e+00  1.000100e+04  0.000000e+00   2.016010e+07  2.016010e+07\n25%    1.019827e+07  2.090100e+04  0.000000e+00   2.016023e+07  2.016023e+07\n50%    1.196970e+07  3.420000e+04  0.000000e+00   2.016040e+07  2.016041e+07\n75%    1.373506e+07  4.741500e+04  0.000000e+00   2.016051e+07  2.016052e+07\nmax    1.550000e+07  6.000000e+04  2.000000e+00   2.016062e+07  2.016063e+07",
      "text/html": "<div>\n<style scoped>\n    .dataframe tbody tr th:only-of-type {\n        vertical-align: middle;\n    }\n\n    .dataframe tbody tr th {\n        vertical-align: top;\n    }\n\n    .dataframe thead th {\n        text-align: right;\n    }\n</style>\n<table border=\"1\" class=\"dataframe\">\n  <thead>\n    <tr style=\"text-align: right;\">\n      <th></th>\n      <th>user_id</th>\n      <th>merchant_id</th>\n      <th>coupon_id</th>\n      <th>date_received</th>\n      <th>date</th>\n    </tr>\n  </thead>\n  <tbody>\n    <tr>\n      <th>count</th>\n      <td>1.142983e+07</td>\n      <td>1.142983e+07</td>\n      <td>1.142983e+07</td>\n      <td>8.723570e+05</td>\n      <td>1.077393e+07</td>\n    </tr>\n    <tr>\n      <th>mean</th>\n      <td>1.074683e+07</td>\n      <td>3.436686e+04</td>\n      <td>2.348193e-01</td>\n      <td>2.016037e+07</td>\n      <td>2.016039e+07</td>\n    </tr>\n    <tr>\n      <th>std</th>\n      <td>4.137712e+06</td>\n      <td>1.441243e+04</td>\n      <td>5.426314e-01</td>\n      <td>1.560031e+02</td>\n      <td>1.732371e+02</td>\n    </tr>\n    <tr>\n      <th>min</th>\n      <td>4.000000e+00</td>\n      <td>1.000100e+04</td>\n      <td>0.000000e+00</td>\n      <td>2.016010e+07</td>\n      <td>2.016010e+07</td>\n    </tr>\n    <tr>\n      <th>25%</th>\n      <td>1.019827e+07</td>\n      <td>2.090100e+04</td>\n      <td>0.000000e+00</td>\n      <td>2.016023e+07</td>\n      <td>2.016023e+07</td>\n    </tr>\n    <tr>\n      <th>50%</th>\n      <td>1.196970e+07</td>\n      <td>3.420000e+04</td>\n      <td>0.000000e+00</td>\n      <td>2.016040e+07</td>\n      <td>2.016041e+07</td>\n    </tr>\n    <tr>\n      <th>75%</th>\n      <td>1.373506e+07</td>\n      <td>4.741500e+04</td>\n      <td>0.000000e+00</td>\n      <td>2.016051e+07</td>\n      <td>2.016052e+07</td>\n    </tr>\n    <tr>\n      <th>max</th>\n      <td>1.550000e+07</td>\n      <td>6.000000e+04</td>\n      <td>2.000000e+00</td>\n      <td>2.016062e+07</td>\n      <td>2.016063e+07</td>\n    </tr>\n  </tbody>\n</table>\n</div>"
     },
     "execution_count": 13,
     "metadata": {},
     "output_type": "execute_result"
    }
   ],
   "source": [
    "on_train.describe()"
   ],
   "metadata": {
    "collapsed": false,
    "pycharm": {
     "name": "#%%\n"
    }
   }
  },
  {
   "cell_type": "code",
   "execution_count": 14,
   "outputs": [
    {
     "data": {
      "text/plain": "            user_id    merchant_id      coupon_id       distance  \\\ncount  1.136400e+05  113640.000000  113640.000000  101576.000000   \nmean   3.684858e+06    2962.283853    9053.810929       2.328040   \nstd    2.126259e+06    2494.450802    4145.873088       3.260755   \nmin    2.090000e+02       6.000000       3.000000       0.000000   \n25%    1.844191e+06     760.000000    5023.000000       0.000000   \n50%    3.683266e+06    2050.000000    9983.000000       1.000000   \n75%    5.525845e+06    5138.000000   13602.000000       3.000000   \nmax    7.361024e+06    8856.000000   14045.000000      10.000000   \n\n       date_received  \ncount   1.136400e+05  \nmean    2.016072e+07  \nstd     9.019508e+00  \nmin     2.016070e+07  \n25%     2.016071e+07  \n50%     2.016072e+07  \n75%     2.016072e+07  \nmax     2.016073e+07  ",
      "text/html": "<div>\n<style scoped>\n    .dataframe tbody tr th:only-of-type {\n        vertical-align: middle;\n    }\n\n    .dataframe tbody tr th {\n        vertical-align: top;\n    }\n\n    .dataframe thead th {\n        text-align: right;\n    }\n</style>\n<table border=\"1\" class=\"dataframe\">\n  <thead>\n    <tr style=\"text-align: right;\">\n      <th></th>\n      <th>user_id</th>\n      <th>merchant_id</th>\n      <th>coupon_id</th>\n      <th>distance</th>\n      <th>date_received</th>\n    </tr>\n  </thead>\n  <tbody>\n    <tr>\n      <th>count</th>\n      <td>1.136400e+05</td>\n      <td>113640.000000</td>\n      <td>113640.000000</td>\n      <td>101576.000000</td>\n      <td>1.136400e+05</td>\n    </tr>\n    <tr>\n      <th>mean</th>\n      <td>3.684858e+06</td>\n      <td>2962.283853</td>\n      <td>9053.810929</td>\n      <td>2.328040</td>\n      <td>2.016072e+07</td>\n    </tr>\n    <tr>\n      <th>std</th>\n      <td>2.126259e+06</td>\n      <td>2494.450802</td>\n      <td>4145.873088</td>\n      <td>3.260755</td>\n      <td>9.019508e+00</td>\n    </tr>\n    <tr>\n      <th>min</th>\n      <td>2.090000e+02</td>\n      <td>6.000000</td>\n      <td>3.000000</td>\n      <td>0.000000</td>\n      <td>2.016070e+07</td>\n    </tr>\n    <tr>\n      <th>25%</th>\n      <td>1.844191e+06</td>\n      <td>760.000000</td>\n      <td>5023.000000</td>\n      <td>0.000000</td>\n      <td>2.016071e+07</td>\n    </tr>\n    <tr>\n      <th>50%</th>\n      <td>3.683266e+06</td>\n      <td>2050.000000</td>\n      <td>9983.000000</td>\n      <td>1.000000</td>\n      <td>2.016072e+07</td>\n    </tr>\n    <tr>\n      <th>75%</th>\n      <td>5.525845e+06</td>\n      <td>5138.000000</td>\n      <td>13602.000000</td>\n      <td>3.000000</td>\n      <td>2.016072e+07</td>\n    </tr>\n    <tr>\n      <th>max</th>\n      <td>7.361024e+06</td>\n      <td>8856.000000</td>\n      <td>14045.000000</td>\n      <td>10.000000</td>\n      <td>2.016073e+07</td>\n    </tr>\n  </tbody>\n</table>\n</div>"
     },
     "execution_count": 14,
     "metadata": {},
     "output_type": "execute_result"
    }
   ],
   "source": [
    "off_test.describe()"
   ],
   "metadata": {
    "collapsed": false,
    "pycharm": {
     "name": "#%%\n"
    }
   }
  },
  {
   "cell_type": "code",
   "execution_count": 15,
   "outputs": [
    {
     "data": {
      "text/plain": "user_id               0\nmerchant_id           0\ncoupon_id        701602\ndiscount_rate    701602\ndistance         106003\ndate_received    701602\ndate             977900\ndtype: int64"
     },
     "execution_count": 15,
     "metadata": {},
     "output_type": "execute_result"
    }
   ],
   "source": [
    "off_train.isnull().sum()"
   ],
   "metadata": {
    "collapsed": false,
    "pycharm": {
     "name": "#%%\n"
    }
   }
  },
  {
   "cell_type": "code",
   "execution_count": 16,
   "outputs": [
    {
     "data": {
      "text/plain": "user_id                 0\nmerchant_id             0\ncoupon_id               0\ndiscount_rate    10557469\ndistance         10557469\ndate_received    10557469\ndate               655898\ndtype: int64"
     },
     "execution_count": 16,
     "metadata": {},
     "output_type": "execute_result"
    }
   ],
   "source": [
    "on_train.isnull().sum()"
   ],
   "metadata": {
    "collapsed": false,
    "pycharm": {
     "name": "#%%\n"
    }
   }
  },
  {
   "cell_type": "code",
   "execution_count": 17,
   "outputs": [
    {
     "data": {
      "text/plain": "user_id              0\nmerchant_id          0\ncoupon_id            0\ndiscount_rate        0\ndistance         12064\ndate_received        0\ndtype: int64"
     },
     "execution_count": 17,
     "metadata": {},
     "output_type": "execute_result"
    }
   ],
   "source": [
    "off_test.isnull().sum()"
   ],
   "metadata": {
    "collapsed": false,
    "pycharm": {
     "name": "#%%\n"
    }
   }
  },
  {
   "cell_type": "code",
   "execution_count": 18,
   "outputs": [
    {
     "name": "stdout",
     "output_type": "stream",
     "text": [
      "offline train date_received\n",
      "20160101.0\n",
      "20160615.0\n",
      "online train date_received\n",
      "20160101.0\n",
      "20160615.0\n",
      "test date_received\n",
      "20160701\n",
      "20160731\n"
     ]
    }
   ],
   "source": [
    "# 数据集的领券日期范围\n",
    "print('offline train date_received')\n",
    "print(off_train[off_train['date_received'] != 'null']['date_received'].min())\n",
    "print(off_train[off_train['date_received'] != 'null']['date_received'].max())\n",
    "\n",
    "print('online train date_received')\n",
    "print(on_train[on_train['date_received'] != 'null']['date_received'].min())\n",
    "print(on_train[on_train['date_received'] != 'null']['date_received'].max())\n",
    "\n",
    "print('test date_received')\n",
    "print(off_test[off_test['date_received'] != 'null']['date_received'].min())\n",
    "print(off_test[off_test['date_received'] != 'null']['date_received'].max())"
   ],
   "metadata": {
    "collapsed": false,
    "pycharm": {
     "name": "#%%\n"
    }
   }
  },
  {
   "cell_type": "code",
   "execution_count": 19,
   "outputs": [
    {
     "name": "stdout",
     "output_type": "stream",
     "text": [
      "offline train date\n",
      "20160101.0\n",
      "20160630.0\n",
      "online train date\n",
      "20160101.0\n",
      "20160630.0\n"
     ]
    }
   ],
   "source": [
    "# 查看训练集的用券日期范围\n",
    "print('offline train date')\n",
    "print(off_train[off_train['date'] != 'null']['date'].min())\n",
    "print(off_train[off_train['date'] != 'null']['date'].max())\n",
    "\n",
    "print('online train date')\n",
    "print(on_train[on_train['date'] != 'null']['date'].min())\n",
    "print(on_train[on_train['date'] != 'null']['date'].max())"
   ],
   "metadata": {
    "collapsed": false,
    "pycharm": {
     "name": "#%%\n"
    }
   }
  },
  {
   "cell_type": "markdown",
   "source": [
    "#### 训练集和测试集的相关性"
   ],
   "metadata": {
    "collapsed": false,
    "pycharm": {
     "name": "#%% md\n"
    }
   }
  },
  {
   "cell_type": "code",
   "execution_count": 20,
   "outputs": [
    {
     "name": "stdout",
     "output_type": "stream",
     "text": [
      "offline 训练集用户id数量\n",
      "539438\n",
      "offline 测试集用户id数量\n",
      "76309\n",
      "online 训练集用户id数量\n",
      "762858\n",
      "offline 训练集用户和测试集用户的重复数量\n",
      "76307.0\n",
      "offline 训练集用户与测试集重复用户在总测试集用户中的占比\n",
      "0.9999737907717308\n",
      "online 训练集用户和测试集用户的重复数量\n",
      "43155.0\n",
      "online 训练集用户与测试集重复用户在总测试集用户中的占比\n",
      "0.5655296229802513\n"
     ]
    }
   ],
   "source": [
    "# 查看online和offline训练集的user_id与测试集的重合度\n",
    "off_train_user = off_train[['user_id']].copy().drop_duplicates()\n",
    "off_test_user = off_test[['user_id']].copy().drop_duplicates()\n",
    "on_train_user = on_train[['user_id']].copy().drop_duplicates()\n",
    "print('offline 训练集用户id数量')\n",
    "print(off_train_user.user_id.count())\n",
    "print('offline 测试集用户id数量')\n",
    "print(off_test_user.user_id.count())\n",
    "print('online 训练集用户id数量')\n",
    "print(on_train_user.user_id.count())\n",
    "\n",
    "off_train_user['off_train_flag'] = 1\n",
    "off_merge = off_test_user.merge(off_train_user, on='user_id', how='left').reset_index().fillna(0)\n",
    "print('offline 训练集用户和测试集用户的重复数量')\n",
    "print(off_merge['off_train_flag'].sum())\n",
    "print('offline 训练集用户与测试集重复用户在总测试集用户中的占比')\n",
    "print(off_merge['off_train_flag'].sum() / off_merge['off_train_flag'].count())\n",
    "\n",
    "on_train_user['on_train_flag'] = 1\n",
    "on_merge = off_test_user.merge(on_train_user, on='user_id', how='left').reset_index().fillna(0)\n",
    "print('online 训练集用户和测试集用户的重复数量')\n",
    "print(on_merge['on_train_flag'].sum())\n",
    "print('online 训练集用户与测试集重复用户在总测试集用户中的占比')\n",
    "print(on_merge['on_train_flag'].sum() / on_merge['on_train_flag'].count())"
   ],
   "metadata": {
    "collapsed": false,
    "pycharm": {
     "name": "#%%\n"
    }
   }
  },
  {
   "cell_type": "code",
   "execution_count": 22,
   "outputs": [
    {
     "name": "stdout",
     "output_type": "stream",
     "text": [
      "offline 训练集商家id数量\n",
      "8415\n",
      "online 训练集商家id数量\n",
      "7999\n",
      "offline 测试集商家id数量\n",
      "1559\n",
      "offline 训练集用户和测试集商家的重复数量\n",
      "1558.0\n",
      "offline 训练集用户与测试集重复商家在总测试集用户中的占比\n",
      "0.9993585631815266\n",
      "online 训练集用户和测试集商家的重复数量\n",
      "0.0\n",
      "online 训练集用户与测试集重复商家在总测试集用户中的占比\n",
      "0.0\n"
     ]
    }
   ],
   "source": [
    "# 查看online和offline训练集的merchant_id与测试集的重合度\n",
    "off_train_merchant = off_train[['merchant_id']].copy().drop_duplicates()\n",
    "off_test_merchant = off_test[['merchant_id']].copy().drop_duplicates()\n",
    "on_train_merchant = on_train[['merchant_id']].copy().drop_duplicates()\n",
    "print('offline 训练集商家id数量')\n",
    "print(off_train_merchant.merchant_id.count())\n",
    "print('online 训练集商家id数量')\n",
    "print(on_train_merchant.merchant_id.count())\n",
    "print('offline 测试集商家id数量')\n",
    "print(off_test_merchant.merchant_id.count())\n",
    "\n",
    "off_train_merchant['off_train_flag'] = 1\n",
    "off_merge = off_test_merchant.merge(off_train_merchant, on='merchant_id', how='left').reset_index().fillna(0)\n",
    "print('offline 训练集用户和测试集商家的重复数量')\n",
    "print(off_merge['off_train_flag'].sum())\n",
    "print('offline 训练集用户与测试集重复商家在总测试集用户中的占比')\n",
    "print(off_merge['off_train_flag'].sum() / off_merge['off_train_flag'].count())\n",
    "\n",
    "on_train_merchant['on_train_flag'] = 1\n",
    "on_merge = off_test_merchant.merge(on_train_merchant, on='merchant_id', how='left').reset_index().fillna(0)\n",
    "print('online 训练集用户和测试集商家的重复数量')\n",
    "print(on_merge['on_train_flag'].sum())\n",
    "print('online 训练集用户与测试集重复商家在总测试集用户中的占比')\n",
    "print(on_merge['on_train_flag'].sum() / on_merge['on_train_flag'].count())"
   ],
   "metadata": {
    "collapsed": false,
    "pycharm": {
     "name": "#%%\n"
    }
   }
  },
  {
   "cell_type": "code",
   "execution_count": 23,
   "outputs": [
    {
     "name": "stdout",
     "output_type": "stream",
     "text": [
      "offline 训练集优惠券id数量\n",
      "9738\n",
      "online 训练集优惠券id数量\n",
      "3\n",
      "offline 测试集优惠券id数量\n",
      "2050\n",
      "offline 训练集用户和测试集优惠券的重复数量\n",
      "1118.0\n",
      "offline 训练集用户与测试集重复优惠券在总测试集用户中的占比\n",
      "0.5453658536585366\n",
      "online 训练集用户和测试集优惠券的重复数量\n",
      "0.0\n",
      "online 训练集用户与测试集重复优惠券在总测试集用户中的占比\n",
      "0.0\n"
     ]
    }
   ],
   "source": [
    "# 查看online和offline训练集的coupon_id与测试集的重合度\n",
    "off_train_coupon = off_train[['coupon_id']].copy().drop_duplicates()\n",
    "off_test_coupon = off_test[['coupon_id']].copy().drop_duplicates()\n",
    "on_train_coupon = on_train[['coupon_id']].copy().drop_duplicates()\n",
    "print('offline 训练集优惠券id数量')\n",
    "print(off_train_coupon.coupon_id.count())\n",
    "print('online 训练集优惠券id数量')\n",
    "print(on_train_coupon.coupon_id.count())\n",
    "print('offline 测试集优惠券id数量')\n",
    "print(off_test_coupon.coupon_id.count())\n",
    "\n",
    "off_train_coupon['off_train_flag'] = 1\n",
    "off_merge = off_test_coupon.merge(off_train_coupon, on='coupon_id', how='left').reset_index().fillna(0)\n",
    "print('offline 训练集用户和测试集优惠券的重复数量')\n",
    "print(off_merge['off_train_flag'].sum())\n",
    "print('offline 训练集用户与测试集重复优惠券在总测试集用户中的占比')\n",
    "print(off_merge['off_train_flag'].sum() / off_merge['off_train_flag'].count())\n",
    "\n",
    "on_train_coupon['on_train_flag'] = 1\n",
    "on_merge = off_test_coupon.merge(on_train_coupon, on='coupon_id', how='left').reset_index().fillna(0)\n",
    "print('online 训练集用户和测试集优惠券的重复数量')\n",
    "print(on_merge['on_train_flag'].sum())\n",
    "print('online 训练集用户与测试集重复优惠券在总测试集用户中的占比')\n",
    "print(on_merge['on_train_flag'].sum() / on_merge['on_train_flag'].count())"
   ],
   "metadata": {
    "collapsed": false,
    "pycharm": {
     "name": "#%%\n"
    }
   }
  },
  {
   "cell_type": "markdown",
   "source": [
    "#### 数据统计"
   ],
   "metadata": {
    "collapsed": false,
    "pycharm": {
     "name": "#%% md\n"
    }
   }
  },
  {
   "cell_type": "code",
   "execution_count": 28,
   "outputs": [
    {
     "data": {
      "text/plain": "30:5       270712\n100:10     182554\n200:20     111046\n20:5        91013\n20:1        51705\n50:5        47379\n100:30      38196\n200:30      29327\n300:30      28979\n50:10       28452\n10:5        25925\n0.95        20568\n10:1        17842\n30:1        17654\n150:20      17437\n100:20      14297\n30:10       12692\n50:20        8203\n0.9          8085\n200:50       5585\n150:10       5325\n100:5        5053\n0.8          3441\n50:1         3354\n5:1          2526\n100:50       1774\n150:30        654\n0.85          649\n200:10        575\n100:1         537\n20:10         514\n150:50        306\n300:50        206\n0.5           186\n0.75          121\n0.2           110\n0.6            58\n200:5          57\n300:20         56\n0.7            54\n30:20          24\n300:10         23\n200:100        12\n50:30           9\n150:5           7\nName: discount_rate, dtype: int64"
     },
     "execution_count": 28,
     "metadata": {},
     "output_type": "execute_result"
    }
   ],
   "source": [
    "# 折扣率\n",
    "off_train['discount_rate'].value_counts()"
   ],
   "metadata": {
    "collapsed": false,
    "pycharm": {
     "name": "#%%\n"
    }
   }
  },
  {
   "cell_type": "code",
   "execution_count": 30,
   "outputs": [
    {
     "data": {
      "text/plain": "30:5       59318\n20:1       11273\n50:10       7476\n20:5        7026\n200:20      5496\n30:1        4016\n10:1        3758\n100:10      3706\n50:5        2693\n100:20      2327\n0.95         991\n0.9          827\n0.8          735\n150:5        495\n100:5        467\n30:10        407\n10:5         346\n50:1         339\n200:30       258\n150:20       248\n100:30       229\n150:30       181\n5:1          171\n300:30       136\n200:50       124\n20:10        114\n100:50        97\n50:20         97\n150:50        92\n150:10        61\n30:20         32\n200:10        26\n300:50        19\n200:5         18\n100:1         14\n0.5           10\n300:20        10\n200:100        3\n0.6            1\n0.85           1\n500:30         1\n0.7            1\nName: discount_rate, dtype: int64"
     },
     "execution_count": 30,
     "metadata": {},
     "output_type": "execute_result"
    }
   ],
   "source": [
    "off_test.discount_rate.value_counts()"
   ],
   "metadata": {
    "collapsed": false,
    "pycharm": {
     "name": "#%%\n"
    }
   }
  },
  {
   "cell_type": "code",
   "execution_count": 31,
   "outputs": [
    {
     "data": {
      "text/plain": "<Figure size 1800x288 with 1 Axes>",
      "image/png": "[encoded data removed]"
     },
     "metadata": {
      "needs_background": "light"
     },
     "output_type": "display_data"
    }
   ],
   "source": [
    "# 可视化\n",
    "plt.rcParams['figure.figsize'] = (25., 4.)\n",
    "plt.title('Value Distribution', fontsize=24)\n",
    "plt.xlabel('value', fontsize=14)\n",
    "plt.ylabel('count', fontsize=14)\n",
    "plt.tick_params(axis='both', labelsize=14) # 设置横纵的刻度标记\n",
    "plt.xticks(size='small', rotation=68, fontsize=8) # 设置x轴标签\n",
    "plt.plot(off_train['discount_rate'].value_counts(), linewidth=2)\n",
    "plt.show()"
   ],
   "metadata": {
    "collapsed": false,
    "pycharm": {
     "name": "#%%\n"
    }
   }
  },
  {
   "cell_type": "code",
   "execution_count": 32,
   "outputs": [
    {
     "data": {
      "text/plain": "<Figure size 1800x288 with 1 Axes>",
      "image/png": "[encoded data removed]"
     },
     "metadata": {
      "needs_background": "light"
     },
     "output_type": "display_data"
    }
   ],
   "source": [
    "plt.rcParams['figure.figsize'] = (25., 4.)\n",
    "plt.title('Value Distribution', fontsize=24)\n",
    "plt.xlabel('value', fontsize=14)\n",
    "plt.ylabel('count', fontsize=14)\n",
    "plt.tick_params(axis='both', labelsize=14) # 设置横纵的刻度标记\n",
    "plt.xticks(size='small', rotation=68, fontsize=8) # 设置x轴标签\n",
    "plt.plot(off_test['discount_rate'].value_counts(), linewidth=2)\n",
    "plt.show()"
   ],
   "metadata": {
    "collapsed": false,
    "pycharm": {
     "name": "#%%\n"
    }
   }
  },
  {
   "cell_type": "code",
   "execution_count": 33,
   "outputs": [
    {
     "data": {
      "text/plain": "0.0     826070\n1.0     227221\n10.0    206484\n2.0     118413\n3.0      76598\n4.0      55085\n5.0      41452\n6.0      32483\n7.0      25681\n8.0      21436\n9.0      17958\nName: distance, dtype: int64"
     },
     "execution_count": 33,
     "metadata": {},
     "output_type": "execute_result"
    }
   ],
   "source": [
    "# 对距离distance一项进行统计\n",
    "off_train['distance'].value_counts()"
   ],
   "metadata": {
    "collapsed": false,
    "pycharm": {
     "name": "#%%\n"
    }
   }
  },
  {
   "cell_type": "code",
   "execution_count": 34,
   "outputs": [
    {
     "data": {
      "text/plain": "0.0     43867\n1.0     18474\n10.0    10353\n2.0      9523\n3.0      5934\n4.0      4006\n5.0      2977\n6.0      2179\n7.0      1685\n8.0      1359\n9.0      1219\nName: distance, dtype: int64"
     },
     "execution_count": 34,
     "metadata": {},
     "output_type": "execute_result"
    }
   ],
   "source": [
    "off_test['distance'].value_counts()"
   ],
   "metadata": {
    "collapsed": false,
    "pycharm": {
     "name": "#%%\n"
    }
   }
  },
  {
   "cell_type": "markdown",
   "source": [
    "### 数据分布"
   ],
   "metadata": {
    "collapsed": false,
    "pycharm": {
     "name": "#%% md\n"
    }
   }
  },
  {
   "cell_type": "code",
   "execution_count": 67,
   "outputs": [],
   "source": [
    "# 对文本数据对数值化处理\n",
    "separator = ':'\n",
    "# 计算折扣率， 将满减和折扣统一\n",
    "# 当discount_rate为Null时一般都是没有使用优惠券，这时折扣应该是1\n",
    "def get_discount_rate(s):\n",
    "    s = str(s)\n",
    "    if s == 'null' or s == 'nan': # 和书上不一样，加上 or s == 'nan'。 以下同样加上\n",
    "        return -1\n",
    "    s = s.split(separator)\n",
    "    if len(s) == 1:\n",
    "        return float(s[0])\n",
    "    else:\n",
    "        return 1.0 - float(s[1]) / float(s[0])\n",
    "\n",
    "# 获取是否满减\n",
    "def get_if_fd(s):\n",
    "    s = str(s)\n",
    "    s = s.split(separator)\n",
    "    if len(s) == 1:\n",
    "        return 0\n",
    "    else:\n",
    "        return 1\n",
    "\n",
    "# 获取满减的条件\n",
    "def get_full_value(s):\n",
    "    s = str(s)\n",
    "    s = s.split(separator)\n",
    "    if len(s) == 1:\n",
    "        return -1\n",
    "    else:\n",
    "        return int(s[0])\n",
    "\n",
    "# 获取满减的优惠\n",
    "def get_reduction_value(s):\n",
    "    s = str(s)\n",
    "    s = s.split(separator)\n",
    "    if len(s) == 1:\n",
    "        return -1\n",
    "    else:\n",
    "        return int(s[1])\n",
    "\n",
    "# 获取月份\n",
    "def get_month(s):\n",
    "    if s[0] == 'null' or s[0] == 'nan':\n",
    "        return -1\n",
    "    else:\n",
    "        return int(s[4:6])\n",
    "\n",
    "# 获取日期\n",
    "def get_day(s):\n",
    "    if s[0] == 'null' or s[0] == 'nan':\n",
    "        return -1\n",
    "    else:\n",
    "        return int(s[6:8])\n",
    "\n",
    "# 获取日期间隔，输入内容为：Date:Date_received\n",
    "def get_day_gap(s):\n",
    "    s = s.split(separator)\n",
    "    if s[0] == 'null' or s[0] == 'nan':\n",
    "        return -1\n",
    "    if s[1] == 'null' or s[1] == 'nan':\n",
    "        return -1\n",
    "    else:\n",
    "        return (date(int(s[0][0:4]), int(s[0][4:6]), int(s[0][6:8])) -\n",
    "                date(int(s[1][0:4]), int(s[1][4:6]), int(s[1][6:8]))).days\n",
    "\n",
    "# 获取label， 输入格式为: Date:Date_received\n",
    "def get_label(s):\n",
    "    s = s.split(separator)\n",
    "    if s[0] == 'null' or s[0] == 'nan':\n",
    "        return 0\n",
    "    if s[1] == 'null' or s[1] == 'nan':\n",
    "        return -1\n",
    "    elif (date(int(s[0][0:4]), int(s[0][4:6]), int(s[0][6:8])) -\n",
    "                date(int(s[1][0:4]), int(s[1][4:6]), int(s[1][6:8]))).days <= 15:\n",
    "        return 1\n",
    "    else:\n",
    "        return -1"
   ],
   "metadata": {
    "collapsed": false,
    "pycharm": {
     "name": "#%%\n"
    }
   }
  },
  {
   "cell_type": "code",
   "execution_count": 68,
   "outputs": [],
   "source": [
    "# 通过pandas.apply()函数调用，对数据进行处理\n",
    "def add_feature(df):\n",
    "    df['if_fd'] = df['discount_rate'].apply(get_if_fd)  # 是否满减\n",
    "    df['full_value'] = df['discount_rate'].apply(get_full_value) # 满减的条件\n",
    "    df['reduction_value'] = df['discount_rate'].apply(get_reduction_value) # 满减的优惠\n",
    "    df['discount_rate'] = df['discount_rate'].apply(get_discount_rate) # 折扣率\n",
    "    df['distance'] = df['distance'].fillna(-1).astype(int)\n",
    "    # df['month_received'] = df['date_received'].apply(get_month)\n",
    "    # df['month'] = df['date'].apply(get_month)\n",
    "    return df\n",
    "\n",
    "def add_label(df):\n",
    "    df['day_gap'] = df['date'].astype('str') + ':' + df['date_received'].astype('str') # 日期间隔 Date:Date_received\n",
    "    df['label'] = df['day_gap'].apply(get_label)\n",
    "    df['day_gap'] = df['day_gap'].apply(get_day_gap) # 间隔了几天\n",
    "    return df"
   ],
   "metadata": {
    "collapsed": false,
    "pycharm": {
     "name": "#%%\n"
    }
   }
  },
  {
   "cell_type": "code",
   "execution_count": 69,
   "outputs": [],
   "source": [
    "# 拷贝数据，以免在调试时重读文件\n",
    "dftrain = off_train.copy()\n",
    "dftest = off_test.copy()\n",
    "\n",
    "dftrain = add_feature(dftrain)\n",
    "dftrain = add_label(dftrain)\n",
    "\n",
    "dftest = add_feature(dftest)"
   ],
   "metadata": {
    "collapsed": false,
    "pycharm": {
     "name": "#%%\n"
    }
   }
  },
  {
   "cell_type": "code",
   "execution_count": 70,
   "outputs": [
    {
     "data": {
      "text/plain": "            user_id   merchant_id     coupon_id  discount_rate      distance  \\\ncount  1.754884e+06  1.754884e+06  1.053282e+06   1.754884e+06  1.754884e+06   \nmean   3.689255e+06  4.038808e+03  6.815398e+03   1.069696e-01  2.158577e+00   \nstd    2.123428e+06  2.435963e+03  4.174276e+03   9.061683e-01  3.470772e+00   \nmin    4.000000e+00  1.000000e+00  1.000000e+00  -1.000000e+00 -1.000000e+00   \n25%    1.845052e+06  1.983000e+03  2.840000e+03  -1.000000e+00  0.000000e+00   \n50%    3.694446e+06  3.532000e+03  7.430000e+03   7.500000e-01  0.000000e+00   \n75%    5.528759e+06  6.329000e+03  1.032300e+04   9.000000e-01  3.000000e+00   \nmax    7.361032e+06  8.856000e+03  1.404500e+04   9.900000e-01  1.000000e+01   \n\n       date_received          date         if_fd    full_value  \\\ncount   1.053282e+06  7.769840e+05  1.754884e+06  1.754884e+06   \nmean    2.016032e+07  2.016040e+07  5.812407e-01  4.665974e+01   \nstd     1.771416e+02  1.621500e+02  4.933559e-01  6.830349e+01   \nmin     2.016010e+07  2.016010e+07  0.000000e+00 -1.000000e+00   \n25%     2.016013e+07  2.016031e+07  0.000000e+00 -1.000000e+00   \n50%     2.016032e+07  2.016042e+07  1.000000e+00  2.000000e+01   \n75%     2.016051e+07  2.016052e+07  1.000000e+00  1.000000e+02   \nmax     2.016062e+07  2.016063e+07  1.000000e+00  3.000000e+02   \n\n       reduction_value       day_gap         label  \ncount     1.754884e+06  1.754884e+06  1.754884e+06  \nmean      5.807668e+00 -6.212582e-01 -3.693657e-01  \nstd       9.037305e+00  2.414021e+00  5.534657e-01  \nmin      -1.000000e+00 -1.000000e+00 -1.000000e+00  \n25%      -1.000000e+00 -1.000000e+00 -1.000000e+00  \n50%       5.000000e+00 -1.000000e+00  0.000000e+00  \n75%       1.000000e+01 -1.000000e+00  0.000000e+00  \nmax       1.000000e+02  9.600000e+01  1.000000e+00  ",
      "text/html": "<div>\n<style scoped>\n    .dataframe tbody tr th:only-of-type {\n        vertical-align: middle;\n    }\n\n    .dataframe tbody tr th {\n        vertical-align: top;\n    }\n\n    .dataframe thead th {\n        text-align: right;\n    }\n</style>\n<table border=\"1\" class=\"dataframe\">\n  <thead>\n    <tr style=\"text-align: right;\">\n      <th></th>\n      <th>user_id</th>\n      <th>merchant_id</th>\n      <th>coupon_id</th>\n      <th>discount_rate</th>\n      <th>distance</th>\n      <th>date_received</th>\n      <th>date</th>\n      <th>if_fd</th>\n      <th>full_value</th>\n      <th>reduction_value</th>\n      <th>day_gap</th>\n      <th>label</th>\n    </tr>\n  </thead>\n  <tbody>\n    <tr>\n      <th>count</th>\n      <td>1.754884e+06</td>\n      <td>1.754884e+06</td>\n      <td>1.053282e+06</td>\n      <td>1.754884e+06</td>\n      <td>1.754884e+06</td>\n      <td>1.053282e+06</td>\n      <td>7.769840e+05</td>\n      <td>1.754884e+06</td>\n      <td>1.754884e+06</td>\n      <td>1.754884e+06</td>\n      <td>1.754884e+06</td>\n      <td>1.754884e+06</td>\n    </tr>\n    <tr>\n      <th>mean</th>\n      <td>3.689255e+06</td>\n      <td>4.038808e+03</td>\n      <td>6.815398e+03</td>\n      <td>1.069696e-01</td>\n      <td>2.158577e+00</td>\n      <td>2.016032e+07</td>\n      <td>2.016040e+07</td>\n      <td>5.812407e-01</td>\n      <td>4.665974e+01</td>\n      <td>5.807668e+00</td>\n      <td>-6.212582e-01</td>\n      <td>-3.693657e-01</td>\n    </tr>\n    <tr>\n      <th>std</th>\n      <td>2.123428e+06</td>\n      <td>2.435963e+03</td>\n      <td>4.174276e+03</td>\n      <td>9.061683e-01</td>\n      <td>3.470772e+00</td>\n      <td>1.771416e+02</td>\n      <td>1.621500e+02</td>\n      <td>4.933559e-01</td>\n      <td>6.830349e+01</td>\n      <td>9.037305e+00</td>\n      <td>2.414021e+00</td>\n      <td>5.534657e-01</td>\n    </tr>\n    <tr>\n      <th>min</th>\n      <td>4.000000e+00</td>\n      <td>1.000000e+00</td>\n      <td>1.000000e+00</td>\n      <td>-1.000000e+00</td>\n      <td>-1.000000e+00</td>\n      <td>2.016010e+07</td>\n      <td>2.016010e+07</td>\n      <td>0.000000e+00</td>\n      <td>-1.000000e+00</td>\n      <td>-1.000000e+00</td>\n      <td>-1.000000e+00</td>\n      <td>-1.000000e+00</td>\n    </tr>\n    <tr>\n      <th>25%</th>\n      <td>1.845052e+06</td>\n      <td>1.983000e+03</td>\n      <td>2.840000e+03</td>\n      <td>-1.000000e+00</td>\n      <td>0.000000e+00</td>\n      <td>2.016013e+07</td>\n      <td>2.016031e+07</td>\n      <td>0.000000e+00</td>\n      <td>-1.000000e+00</td>\n      <td>-1.000000e+00</td>\n      <td>-1.000000e+00</td>\n      <td>-1.000000e+00</td>\n    </tr>\n    <tr>\n      <th>50%</th>\n      <td>3.694446e+06</td>\n      <td>3.532000e+03</td>\n      <td>7.430000e+03</td>\n      <td>7.500000e-01</td>\n      <td>0.000000e+00</td>\n      <td>2.016032e+07</td>\n      <td>2.016042e+07</td>\n      <td>1.000000e+00</td>\n      <td>2.000000e+01</td>\n      <td>5.000000e+00</td>\n      <td>-1.000000e+00</td>\n      <td>0.000000e+00</td>\n    </tr>\n    <tr>\n      <th>75%</th>\n      <td>5.528759e+06</td>\n      <td>6.329000e+03</td>\n      <td>1.032300e+04</td>\n      <td>9.000000e-01</td>\n      <td>3.000000e+00</td>\n      <td>2.016051e+07</td>\n      <td>2.016052e+07</td>\n      <td>1.000000e+00</td>\n      <td>1.000000e+02</td>\n      <td>1.000000e+01</td>\n      <td>-1.000000e+00</td>\n      <td>0.000000e+00</td>\n    </tr>\n    <tr>\n      <th>max</th>\n      <td>7.361032e+06</td>\n      <td>8.856000e+03</td>\n      <td>1.404500e+04</td>\n      <td>9.900000e-01</td>\n      <td>1.000000e+01</td>\n      <td>2.016062e+07</td>\n      <td>2.016063e+07</td>\n      <td>1.000000e+00</td>\n      <td>3.000000e+02</td>\n      <td>1.000000e+02</td>\n      <td>9.600000e+01</td>\n      <td>1.000000e+00</td>\n    </tr>\n  </tbody>\n</table>\n</div>"
     },
     "execution_count": 70,
     "metadata": {},
     "output_type": "execute_result"
    }
   ],
   "source": [
    "dftrain.describe()"
   ],
   "metadata": {
    "collapsed": false,
    "pycharm": {
     "name": "#%%\n"
    }
   }
  },
  {
   "cell_type": "code",
   "execution_count": 71,
   "outputs": [
    {
     "data": {
      "text/plain": "            user_id    merchant_id      coupon_id  discount_rate  \\\ncount  1.136400e+05  113640.000000  113640.000000  113640.000000   \nmean   3.684858e+06    2962.283853    9053.810929       0.850671   \nstd    2.126259e+06    2494.450802    4145.873088       0.063551   \nmin    2.090000e+02       6.000000       3.000000       0.333333   \n25%    1.844191e+06     760.000000    5023.000000       0.833333   \n50%    3.683266e+06    2050.000000    9983.000000       0.833333   \n75%    5.525845e+06    5138.000000   13602.000000       0.900000   \nmax    7.361024e+06    8856.000000   14045.000000       0.990000   \n\n            distance  date_received          if_fd     full_value  \\\ncount  113640.000000   1.136400e+05  113640.000000  113640.000000   \nmean        1.974736   2.016072e+07       0.977420      43.396507   \nstd         3.248809   9.019508e+00       0.148561      44.239815   \nmin        -1.000000   2.016070e+07       0.000000      -1.000000   \n25%         0.000000   2.016071e+07       1.000000      30.000000   \n50%         1.000000   2.016072e+07       1.000000      30.000000   \n75%         3.000000   2.016072e+07       1.000000      30.000000   \nmax        10.000000   2.016073e+07       1.000000     500.000000   \n\n       reduction_value  \ncount    113640.000000  \nmean          6.089141  \nstd           5.640310  \nmin          -1.000000  \n25%           5.000000  \n50%           5.000000  \n75%           5.000000  \nmax         100.000000  ",
      "text/html": "<div>\n<style scoped>\n    .dataframe tbody tr th:only-of-type {\n        vertical-align: middle;\n    }\n\n    .dataframe tbody tr th {\n        vertical-align: top;\n    }\n\n    .dataframe thead th {\n        text-align: right;\n    }\n</style>\n<table border=\"1\" class=\"dataframe\">\n  <thead>\n    <tr style=\"text-align: right;\">\n      <th></th>\n      <th>user_id</th>\n      <th>merchant_id</th>\n      <th>coupon_id</th>\n      <th>discount_rate</th>\n      <th>distance</th>\n      <th>date_received</th>\n      <th>if_fd</th>\n      <th>full_value</th>\n      <th>reduction_value</th>\n    </tr>\n  </thead>\n  <tbody>\n    <tr>\n      <th>count</th>\n      <td>1.136400e+05</td>\n      <td>113640.000000</td>\n      <td>113640.000000</td>\n      <td>113640.000000</td>\n      <td>113640.000000</td>\n      <td>1.136400e+05</td>\n      <td>113640.000000</td>\n      <td>113640.000000</td>\n      <td>113640.000000</td>\n    </tr>\n    <tr>\n      <th>mean</th>\n      <td>3.684858e+06</td>\n      <td>2962.283853</td>\n      <td>9053.810929</td>\n      <td>0.850671</td>\n      <td>1.974736</td>\n      <td>2.016072e+07</td>\n      <td>0.977420</td>\n      <td>43.396507</td>\n      <td>6.089141</td>\n    </tr>\n    <tr>\n      <th>std</th>\n      <td>2.126259e+06</td>\n      <td>2494.450802</td>\n      <td>4145.873088</td>\n      <td>0.063551</td>\n      <td>3.248809</td>\n      <td>9.019508e+00</td>\n      <td>0.148561</td>\n      <td>44.239815</td>\n      <td>5.640310</td>\n    </tr>\n    <tr>\n      <th>min</th>\n      <td>2.090000e+02</td>\n      <td>6.000000</td>\n      <td>3.000000</td>\n      <td>0.333333</td>\n      <td>-1.000000</td>\n      <td>2.016070e+07</td>\n      <td>0.000000</td>\n      <td>-1.000000</td>\n      <td>-1.000000</td>\n    </tr>\n    <tr>\n      <th>25%</th>\n      <td>1.844191e+06</td>\n      <td>760.000000</td>\n      <td>5023.000000</td>\n      <td>0.833333</td>\n      <td>0.000000</td>\n      <td>2.016071e+07</td>\n      <td>1.000000</td>\n      <td>30.000000</td>\n      <td>5.000000</td>\n    </tr>\n    <tr>\n      <th>50%</th>\n      <td>3.683266e+06</td>\n      <td>2050.000000</td>\n      <td>9983.000000</td>\n      <td>0.833333</td>\n      <td>1.000000</td>\n      <td>2.016072e+07</td>\n      <td>1.000000</td>\n      <td>30.000000</td>\n      <td>5.000000</td>\n    </tr>\n    <tr>\n      <th>75%</th>\n      <td>5.525845e+06</td>\n      <td>5138.000000</td>\n      <td>13602.000000</td>\n      <td>0.900000</td>\n      <td>3.000000</td>\n      <td>2.016072e+07</td>\n      <td>1.000000</td>\n      <td>30.000000</td>\n      <td>5.000000</td>\n    </tr>\n    <tr>\n      <th>max</th>\n      <td>7.361024e+06</td>\n      <td>8856.000000</td>\n      <td>14045.000000</td>\n      <td>0.990000</td>\n      <td>10.000000</td>\n      <td>2.016073e+07</td>\n      <td>1.000000</td>\n      <td>500.000000</td>\n      <td>100.000000</td>\n    </tr>\n  </tbody>\n</table>\n</div>"
     },
     "execution_count": 71,
     "metadata": {},
     "output_type": "execute_result"
    }
   ],
   "source": [
    "dftest.describe()"
   ],
   "metadata": {
    "collapsed": false,
    "pycharm": {
     "name": "#%%\n"
    }
   }
  },
  {
   "cell_type": "code",
   "execution_count": 65,
   "outputs": [
    {
     "data": {
      "text/plain": "user_id            75382\nmerchant_id        75382\ncoupon_id          75382\ndiscount_rate      75382\ndistance           75382\ndate_received      75382\ndate               75382\nif_fd              75382\nfull_value         75382\nreduction_value    75382\nday_gap            75382\nlabel              75382\ndtype: int64"
     },
     "execution_count": 65,
     "metadata": {},
     "output_type": "execute_result"
    }
   ],
   "source": [
    "# dftrain[dftrain['date'].notnull() & dftrain['date_received'].notnull()].count() # date和date_received都不为空的样本"
   ],
   "metadata": {
    "collapsed": false,
    "pycharm": {
     "name": "#%%\n"
    }
   }
  },
  {
   "cell_type": "code",
   "execution_count": 66,
   "outputs": [
    {
     "data": {
      "text/plain": "user_id            1754884\nmerchant_id        1754884\ncoupon_id          1053282\ndiscount_rate      1754884\ndistance           1754884\ndate_received      1053282\ndate                776984\nif_fd              1754884\nfull_value         1754884\nreduction_value    1754884\nday_gap            1754884\nlabel              1754884\ndtype: int64"
     },
     "execution_count": 66,
     "metadata": {},
     "output_type": "execute_result"
    }
   ],
   "source": [
    "# dftrain.count()"
   ],
   "metadata": {
    "collapsed": false,
    "pycharm": {
     "name": "#%%\n"
    }
   }
  },
  {
   "cell_type": "code",
   "execution_count": 72,
   "outputs": [
    {
     "name": "stdout",
     "output_type": "stream",
     "text": [
      "offline 训练集满减情况\n"
     ]
    },
    {
     "data": {
      "text/plain": "1    0.581241\n0    0.418759\nName: if_fd, dtype: float64"
     },
     "execution_count": 72,
     "metadata": {},
     "output_type": "execute_result"
    }
   ],
   "source": [
    "# if_fd 是否满减在训练集和测试集上分布相差较大\n",
    "# offline 训练集\n",
    "print('offline 训练集满减情况')\n",
    "dftrain.if_fd.value_counts() / dftrain.if_fd.count()"
   ],
   "metadata": {
    "collapsed": false,
    "pycharm": {
     "name": "#%%\n"
    }
   }
  },
  {
   "cell_type": "code",
   "execution_count": 73,
   "outputs": [
    {
     "data": {
      "text/plain": "1    1020010\n0     734874\nName: if_fd, dtype: int64"
     },
     "execution_count": 73,
     "metadata": {},
     "output_type": "execute_result"
    }
   ],
   "source": [
    "dftrain.if_fd.value_counts()"
   ],
   "metadata": {
    "collapsed": false,
    "pycharm": {
     "name": "#%%\n"
    }
   }
  },
  {
   "cell_type": "code",
   "execution_count": 74,
   "outputs": [
    {
     "data": {
      "text/plain": "1754884"
     },
     "execution_count": 74,
     "metadata": {},
     "output_type": "execute_result"
    }
   ],
   "source": [
    "dftrain.if_fd.count()"
   ],
   "metadata": {
    "collapsed": false,
    "pycharm": {
     "name": "#%%\n"
    }
   }
  },
  {
   "cell_type": "code",
   "execution_count": 75,
   "outputs": [
    {
     "name": "stdout",
     "output_type": "stream",
     "text": [
      "offline 训练集满减情况\n"
     ]
    },
    {
     "data": {
      "text/plain": "1    0.97742\n0    0.02258\nName: if_fd, dtype: float64"
     },
     "execution_count": 75,
     "metadata": {},
     "output_type": "execute_result"
    }
   ],
   "source": [
    "# 测试集\n",
    "print('offline 训练集满减情况')\n",
    "dftest.if_fd.value_counts() / dftest.if_fd.count()"
   ],
   "metadata": {
    "collapsed": false,
    "pycharm": {
     "name": "#%%\n"
    }
   }
  },
  {
   "cell_type": "markdown",
   "source": [
    "#### 数据分布可视化"
   ],
   "metadata": {
    "collapsed": false,
    "pycharm": {
     "name": "#%% md\n"
    }
   }
  },
  {
   "cell_type": "code",
   "execution_count": 89,
   "outputs": [
    {
     "data": {
      "text/plain": "<AxesSubplot:>"
     },
     "execution_count": 89,
     "metadata": {},
     "output_type": "execute_result"
    },
    {
     "data": {
      "text/plain": "<Figure size 288x432 with 1 Axes>",
      "image/png": "[encoded data removed]"
     },
     "metadata": {
      "needs_background": "light"
     },
     "output_type": "display_data"
    }
   ],
   "source": [
    "# 1. 箱线图\n",
    "fig = plt.figure(figsize=(4,6))\n",
    "sns.boxplot(data=dftrain[(dftrain.label >= 0) & (dftrain.distance >= 0)][['distance']], # 此处与书上不一样[['distance']]\n",
    "            orient='v',\n",
    "            width=0.5)"
   ],
   "metadata": {
    "collapsed": false,
    "pycharm": {
     "name": "#%%\n"
    }
   }
  },
  {
   "cell_type": "code",
   "execution_count": 92,
   "outputs": [
    {
     "data": {
      "text/plain": "<Figure size 720x360 with 2 Axes>",
      "image/png": "[encoded data removed]"
     },
     "metadata": {
      "needs_background": "light"
     },
     "output_type": "display_data"
    }
   ],
   "source": [
    "# 2. 直方图和Q-Q图\n",
    "plt.figure(figsize=(10, 5))\n",
    "ax = plt.subplot(1,2,1)\n",
    "sns.distplot(dftrain[(dftrain.label >= 0) & (dftrain.distance >=0)]['distance'],\n",
    "             fit=stats.norm)\n",
    "ax = plt.subplot(1,2,2)\n",
    "res = stats.probplot(dftrain[(dftrain.label >= 0) & (dftrain.distance >=0)]['distance'],\n",
    "                     plot=plt)"
   ],
   "metadata": {
    "collapsed": false,
    "pycharm": {
     "name": "#%%\n"
    }
   }
  },
  {
   "cell_type": "code",
   "execution_count": 97,
   "outputs": [
    {
     "data": {
      "text/plain": "<Figure size 576x432 with 1 Axes>",
      "image/png": "[encoded data removed]"
     },
     "metadata": {
      "needs_background": "light"
     },
     "output_type": "display_data"
    }
   ],
   "source": [
    "# 3. 分布对比 Kdeplot\n",
    "plt.figure(figsize=(8,6))\n",
    "ax = sns.kdeplot(dftrain[(dftrain.label >= 0) & (dftrain.discount_rate >=0)]['discount_rate'],\n",
    "                 color='Red',\n",
    "                 shade=True)\n",
    "ax = sns.kdeplot(dftest[(dftest.discount_rate >=0)]['discount_rate'],\n",
    "                 color='Blue',\n",
    "                 shade=True)\n",
    "ax.set_xlabel('discount_rate')\n",
    "ax.set_ylabel('Frequency')\n",
    "ax = ax.legend(['train', 'test'])"
   ],
   "metadata": {
    "collapsed": false,
    "pycharm": {
     "name": "#%%\n"
    }
   }
  },
  {
   "cell_type": "code",
   "execution_count": 99,
   "outputs": [
    {
     "data": {
      "text/plain": "<Figure size 576x288 with 2 Axes>",
      "image/png": "[encoded data removed]"
     },
     "metadata": {
      "needs_background": "light"
     },
     "output_type": "display_data"
    }
   ],
   "source": [
    "# 4. 线性关系 regplot()\n",
    "# !!! 风扇起飞 大约运行1分钟\n",
    "fcols = 2\n",
    "frows = 1\n",
    "plt.figure(figsize=(8,4))\n",
    "ax = plt.subplot(1,2,1)\n",
    "sns.regplot(x='distance',\n",
    "            y='label',\n",
    "            data=dftrain[(dftrain.label >= 0) & (dftrain.distance >=0)][['distance', 'label']],\n",
    "            ax=ax,\n",
    "            scatter_kws={\n",
    "                'marker': '.',\n",
    "                's': 3,\n",
    "                'alpha': 0.3\n",
    "            },\n",
    "            line_kws={'color': 'k'})\n",
    "plt.xlabel('distance')\n",
    "plt.ylabel('label')\n",
    "ax = plt.subplot(1,2,2)\n",
    "sns.distplot(dftrain[(dftrain.label >= 0) & (dftrain.distance >=0)]['distance'].dropna())\n",
    "plt.xlabel('distance')\n",
    "plt.show()"
   ],
   "metadata": {
    "collapsed": false,
    "pycharm": {
     "name": "#%%\n"
    }
   }
  },
  {
   "cell_type": "code",
   "execution_count": null,
   "outputs": [],
   "source": [],
   "metadata": {
    "collapsed": false,
    "pycharm": {
     "name": "#%%\n"
    }
   }
  }
 ],
 "metadata": {
  "kernelspec": {
   "display_name": "Python 3",
   "language": "python",
   "name": "python3"
  },
  "language_info": {
   "codemirror_mode": {
    "name": "ipython",
    "version": 2
   },
   "file_extension": ".py",
   "mimetype": "text/x-python",
   "name": "python",
   "nbconvert_exporter": "python",
   "pygments_lexer": "ipython2",
   "version": "2.7.6"
  }
 },
 "nbformat": 4,
 "nbformat_minor": 0
}