{
 "cells": [
  {
   "cell_type": "markdown",
   "metadata": {
    "collapsed": true,
    "pycharm": {
     "name": "#%% md\n"
    }
   },
   "source": [
    "## 赛题特征优化"
   ]
  },
  {
   "cell_type": "code",
   "execution_count": 6,
   "outputs": [],
   "source": [
    "import pandas as pd\n",
    "# 导入数据\n",
    "train_data_file = './dataset/zhengqi_train.txt'\n",
    "test_data_file = './dataset/zhengqi_test.txt'\n",
    "train_data = pd.read_csv(train_data_file, sep='\\t', encoding='utf-8')\n",
    "test_data = pd.read_csv(test_data_file, sep='\\t', encoding='utf-8')"
   ],
   "metadata": {
    "collapsed": false,
    "pycharm": {
     "name": "#%%\n"
    }
   }
  },
  {
   "cell_type": "code",
   "execution_count": 9,
   "outputs": [],
   "source": [
    "# 特征构造方法\n",
    "epsilon = 1e-5\n",
    "# 组合交叉特征，可以自行定义，如增加x*x/y. log(x)/y 等\n",
    "func_dict = {\n",
    "    'add': lambda x, y: x + y,\n",
    "    'mins': lambda x, y: x - y,\n",
    "    'div': lambda x, y: x / (y + epsilon),\n",
    "    'multi': lambda x, y: x * y\n",
    "}"
   ],
   "metadata": {
    "collapsed": false,
    "pycharm": {
     "name": "#%%\n"
    }
   }
  },
  {
   "cell_type": "code",
   "execution_count": 12,
   "outputs": [],
   "source": [
    "# 特征构造函数\n",
    "def auto_features_make(train_data, test_data, func_dict, col_list):\n",
    "    train_data, test_data = train_data.copy(), test_data.copy()\n",
    "    for col_i in col_list:\n",
    "        for col_j in col_list:\n",
    "            for func_name, func in func_dict.items():\n",
    "                for data in [train_data, test_data]:\n",
    "                    func_features = func(data[col_i], data[col_j])\n",
    "                    col_func_features = '-'.join([col_i, func_name, col_j])\n",
    "                    data[col_func_features] = func_features\n",
    "    return train_data, test_data"
   ],
   "metadata": {
    "collapsed": false,
    "pycharm": {
     "name": "#%%\n"
    }
   }
  },
  {
   "cell_type": "code",
   "execution_count": 13,
   "outputs": [],
   "source": [
    "# 特征降维处理\n",
    "train_data2, test_data2 = auto_features_make(\n",
    "    train_data, test_data, func_dict, col_list=test_data.columns\n",
    ")\n",
    "from sklearn.decomposition import PCA\n",
    "\n",
    "# PCA 降维\n",
    "pca = PCA(n_components=500)\n",
    "train_data2_pca = pca.fit_transform(train_data2.iloc[:, 0:-1])\n",
    "test_data2_pca = pca.transform(test_data2)\n",
    "train_data2_pca = pd.DataFrame(train_data2_pca)\n",
    "test_data2_pca = pd.DataFrame(test_data2_pca)\n",
    "train_data2_pca['target'] = train_data2['target']\n",
    "X_train2 = train_data2[test_data2.columns].values\n",
    "y_train = train_data2['target']"
   ],
   "metadata": {
    "collapsed": false,
    "pycharm": {
     "name": "#%%\n"
    }
   }
  },
  {
   "cell_type": "code",
   "execution_count": 17,
   "outputs": [
    {
     "data": {
      "text/plain": "         V0     V1     V2     V3     V4     V5     V6     V7     V8     V9  \\\n0     0.566  0.016 -0.143  0.407  0.452 -0.901 -1.812 -2.360 -0.436 -2.114   \n1     0.968  0.437  0.066  0.566  0.194 -0.893 -1.566 -2.360  0.332 -2.114   \n2     1.013  0.568  0.235  0.370  0.112 -0.797 -1.367 -2.360  0.396 -2.114   \n3     0.733  0.368  0.283  0.165  0.599 -0.679 -1.200 -2.086  0.403 -2.114   \n4     0.684  0.638  0.260  0.209  0.337 -0.454 -1.073 -2.086  0.314 -2.114   \n...     ...    ...    ...    ...    ...    ...    ...    ...    ...    ...   \n2883  0.190 -0.025 -0.138  0.161  0.600 -0.212  0.757  0.584 -0.026  0.904   \n2884  0.507  0.557  0.296  0.183  0.530 -0.237  0.749  0.584  0.537  0.904   \n2885 -0.394 -0.721 -0.485  0.084  0.136  0.034  0.655  0.614 -0.818  0.904   \n2886 -0.219 -0.282 -0.344 -0.049  0.449 -0.140  0.560  0.583 -0.596  0.904   \n2887  0.368  0.380 -0.225 -0.049  0.379  0.092  0.550  0.551  0.244  0.904   \n\n      ...  V37-div-V35  V37-multi-V35  V37-add-V36  V37-mins-V36  V37-div-V36  \\\n0     ...     0.687710      17.894308       -6.116        -0.900     1.345097   \n1     ...    -2.005439      -0.265720       -1.065        -0.395     2.179170   \n2     ...    -1.618087      -0.214396        0.176        -1.354    -0.769925   \n3     ...    -0.307684      -0.040768        0.221        -0.445    -0.336326   \n4     ...    -0.076921      -0.010192       -0.308         0.252     0.100004   \n...   ...          ...            ...          ...           ...          ...   \n2883  ...    -1.965672      -0.239414        1.262         0.110     1.190952   \n2884  ...     1.088856       0.132620       -0.995         0.235     0.617896   \n2885  ...    -2.143328      -0.261052        1.699        -0.203     0.786532   \n2886  ...    -2.413148      -0.127650        0.254         0.856    -1.843915   \n2887  ...    -2.042213      -0.073720       -0.179         0.955    -0.684315   \n\n      V37-multi-V36  V37-add-V37  V37-mins-V37  V37-div-V37  V37-multi-V37  \n0          9.148864       -7.016           0.0     1.000003      12.306064  \n1          0.244550       -1.460           0.0     1.000014       0.532900  \n2         -0.450585       -1.178           0.0     1.000017       0.346921  \n3         -0.037296       -0.224           0.0     1.000089       0.012544  \n4          0.007840       -0.056           0.0     1.000357       0.000784  \n...             ...          ...           ...          ...            ...  \n2883       0.395136        1.372           0.0     0.999985       0.470596  \n2884       0.233700       -0.760           0.0     1.000026       0.144400  \n2885       0.711348        1.496           0.0     0.999987       0.559504  \n2886      -0.167055        1.110           0.0     0.999982       0.308025  \n2887      -0.219996        0.776           0.0     0.999974       0.150544  \n\n[2888 rows x 5815 columns]",
      "text/html": "<div>\n<style scoped>\n    .dataframe tbody tr th:only-of-type {\n        vertical-align: middle;\n    }\n\n    .dataframe tbody tr th {\n        vertical-align: top;\n    }\n\n    .dataframe thead th {\n        text-align: right;\n    }\n</style>\n<table border=\"1\" class=\"dataframe\">\n  <thead>\n    <tr style=\"text-align: right;\">\n      <th></th>\n      <th>V0</th>\n      <th>V1</th>\n      <th>V2</th>\n      <th>V3</th>\n      <th>V4</th>\n      <th>V5</th>\n      <th>V6</th>\n      <th>V7</th>\n      <th>V8</th>\n      <th>V9</th>\n      <th>...</th>\n      <th>V37-div-V35</th>\n      <th>V37-multi-V35</th>\n      <th>V37-add-V36</th>\n      <th>V37-mins-V36</th>\n      <th>V37-div-V36</th>\n      <th>V37-multi-V36</th>\n      <th>V37-add-V37</th>\n      <th>V37-mins-V37</th>\n      <th>V37-div-V37</th>\n      <th>V37-multi-V37</th>\n    </tr>\n  </thead>\n  <tbody>\n    <tr>\n      <th>0</th>\n      <td>0.566</td>\n      <td>0.016</td>\n      <td>-0.143</td>\n      <td>0.407</td>\n      <td>0.452</td>\n      <td>-0.901</td>\n      <td>-1.812</td>\n      <td>-2.360</td>\n      <td>-0.436</td>\n      <td>-2.114</td>\n      <td>...</td>\n      <td>0.687710</td>\n      <td>17.894308</td>\n      <td>-6.116</td>\n      <td>-0.900</td>\n      <td>1.345097</td>\n      <td>9.148864</td>\n      <td>-7.016</td>\n      <td>0.0</td>\n      <td>1.000003</td>\n      <td>12.306064</td>\n    </tr>\n    <tr>\n      <th>1</th>\n      <td>0.968</td>\n      <td>0.437</td>\n      <td>0.066</td>\n      <td>0.566</td>\n      <td>0.194</td>\n      <td>-0.893</td>\n      <td>-1.566</td>\n      <td>-2.360</td>\n      <td>0.332</td>\n      <td>-2.114</td>\n      <td>...</td>\n      <td>-2.005439</td>\n      <td>-0.265720</td>\n      <td>-1.065</td>\n      <td>-0.395</td>\n      <td>2.179170</td>\n      <td>0.244550</td>\n      <td>-1.460</td>\n      <td>0.0</td>\n      <td>1.000014</td>\n      <td>0.532900</td>\n    </tr>\n    <tr>\n      <th>2</th>\n      <td>1.013</td>\n      <td>0.568</td>\n      <td>0.235</td>\n      <td>0.370</td>\n      <td>0.112</td>\n      <td>-0.797</td>\n      <td>-1.367</td>\n      <td>-2.360</td>\n      <td>0.396</td>\n      <td>-2.114</td>\n      <td>...</td>\n      <td>-1.618087</td>\n      <td>-0.214396</td>\n      <td>0.176</td>\n      <td>-1.354</td>\n      <td>-0.769925</td>\n      <td>-0.450585</td>\n      <td>-1.178</td>\n      <td>0.0</td>\n      <td>1.000017</td>\n      <td>0.346921</td>\n    </tr>\n    <tr>\n      <th>3</th>\n      <td>0.733</td>\n      <td>0.368</td>\n      <td>0.283</td>\n      <td>0.165</td>\n      <td>0.599</td>\n      <td>-0.679</td>\n      <td>-1.200</td>\n      <td>-2.086</td>\n      <td>0.403</td>\n      <td>-2.114</td>\n      <td>...</td>\n      <td>-0.307684</td>\n      <td>-0.040768</td>\n      <td>0.221</td>\n      <td>-0.445</td>\n      <td>-0.336326</td>\n      <td>-0.037296</td>\n      <td>-0.224</td>\n      <td>0.0</td>\n      <td>1.000089</td>\n      <td>0.012544</td>\n    </tr>\n    <tr>\n      <th>4</th>\n      <td>0.684</td>\n      <td>0.638</td>\n      <td>0.260</td>\n      <td>0.209</td>\n      <td>0.337</td>\n      <td>-0.454</td>\n      <td>-1.073</td>\n      <td>-2.086</td>\n      <td>0.314</td>\n      <td>-2.114</td>\n      <td>...</td>\n      <td>-0.076921</td>\n      <td>-0.010192</td>\n      <td>-0.308</td>\n      <td>0.252</td>\n      <td>0.100004</td>\n      <td>0.007840</td>\n      <td>-0.056</td>\n      <td>0.0</td>\n      <td>1.000357</td>\n      <td>0.000784</td>\n    </tr>\n    <tr>\n      <th>...</th>\n      <td>...</td>\n      <td>...</td>\n      <td>...</td>\n      <td>...</td>\n      <td>...</td>\n      <td>...</td>\n      <td>...</td>\n      <td>...</td>\n      <td>...</td>\n      <td>...</td>\n      <td>...</td>\n      <td>...</td>\n      <td>...</td>\n      <td>...</td>\n      <td>...</td>\n      <td>...</td>\n      <td>...</td>\n      <td>...</td>\n      <td>...</td>\n      <td>...</td>\n      <td>...</td>\n    </tr>\n    <tr>\n      <th>2883</th>\n      <td>0.190</td>\n      <td>-0.025</td>\n      <td>-0.138</td>\n      <td>0.161</td>\n      <td>0.600</td>\n      <td>-0.212</td>\n      <td>0.757</td>\n      <td>0.584</td>\n      <td>-0.026</td>\n      <td>0.904</td>\n      <td>...</td>\n      <td>-1.965672</td>\n      <td>-0.239414</td>\n      <td>1.262</td>\n      <td>0.110</td>\n      <td>1.190952</td>\n      <td>0.395136</td>\n      <td>1.372</td>\n      <td>0.0</td>\n      <td>0.999985</td>\n      <td>0.470596</td>\n    </tr>\n    <tr>\n      <th>2884</th>\n      <td>0.507</td>\n      <td>0.557</td>\n      <td>0.296</td>\n      <td>0.183</td>\n      <td>0.530</td>\n      <td>-0.237</td>\n      <td>0.749</td>\n      <td>0.584</td>\n      <td>0.537</td>\n      <td>0.904</td>\n      <td>...</td>\n      <td>1.088856</td>\n      <td>0.132620</td>\n      <td>-0.995</td>\n      <td>0.235</td>\n      <td>0.617896</td>\n      <td>0.233700</td>\n      <td>-0.760</td>\n      <td>0.0</td>\n      <td>1.000026</td>\n      <td>0.144400</td>\n    </tr>\n    <tr>\n      <th>2885</th>\n      <td>-0.394</td>\n      <td>-0.721</td>\n      <td>-0.485</td>\n      <td>0.084</td>\n      <td>0.136</td>\n      <td>0.034</td>\n      <td>0.655</td>\n      <td>0.614</td>\n      <td>-0.818</td>\n      <td>0.904</td>\n      <td>...</td>\n      <td>-2.143328</td>\n      <td>-0.261052</td>\n      <td>1.699</td>\n      <td>-0.203</td>\n      <td>0.786532</td>\n      <td>0.711348</td>\n      <td>1.496</td>\n      <td>0.0</td>\n      <td>0.999987</td>\n      <td>0.559504</td>\n    </tr>\n    <tr>\n      <th>2886</th>\n      <td>-0.219</td>\n      <td>-0.282</td>\n      <td>-0.344</td>\n      <td>-0.049</td>\n      <td>0.449</td>\n      <td>-0.140</td>\n      <td>0.560</td>\n      <td>0.583</td>\n      <td>-0.596</td>\n      <td>0.904</td>\n      <td>...</td>\n      <td>-2.413148</td>\n      <td>-0.127650</td>\n      <td>0.254</td>\n      <td>0.856</td>\n      <td>-1.843915</td>\n      <td>-0.167055</td>\n      <td>1.110</td>\n      <td>0.0</td>\n      <td>0.999982</td>\n      <td>0.308025</td>\n    </tr>\n    <tr>\n      <th>2887</th>\n      <td>0.368</td>\n      <td>0.380</td>\n      <td>-0.225</td>\n      <td>-0.049</td>\n      <td>0.379</td>\n      <td>0.092</td>\n      <td>0.550</td>\n      <td>0.551</td>\n      <td>0.244</td>\n      <td>0.904</td>\n      <td>...</td>\n      <td>-2.042213</td>\n      <td>-0.073720</td>\n      <td>-0.179</td>\n      <td>0.955</td>\n      <td>-0.684315</td>\n      <td>-0.219996</td>\n      <td>0.776</td>\n      <td>0.0</td>\n      <td>0.999974</td>\n      <td>0.150544</td>\n    </tr>\n  </tbody>\n</table>\n<p>2888 rows × 5815 columns</p>\n</div>"
     },
     "execution_count": 17,
     "metadata": {},
     "output_type": "execute_result"
    }
   ],
   "source": [
    "train_data2"
   ],
   "metadata": {
    "collapsed": false,
    "pycharm": {
     "name": "#%%\n"
    }
   }
  },
  {
   "cell_type": "code",
   "execution_count": 18,
   "outputs": [
    {
     "data": {
      "text/plain": "                 0             1            2           3           4  \\\n0    -12256.984223  1.062884e+06  3384.526732  492.181659  755.058519   \n1     -3700.404138  2.904250e+05   435.268484 -182.127640 -326.943890   \n2      -400.794599 -4.804747e+02  -520.505918 -282.465779 -472.893128   \n3      -374.839243 -4.833002e+02  -520.289854 -281.931934 -472.155638   \n4      -379.456705 -4.848447e+02  -520.206871 -281.568939 -468.852123   \n...            ...           ...          ...         ...         ...   \n2883   -385.042290 -4.799649e+02  -518.225731 -281.815435 -469.190313   \n2884   -368.915696 -4.775296e+02  -518.382450 -282.313167 -469.878579   \n2885   -379.566154 -4.750647e+02  -519.837822 -280.352795 -471.180622   \n2886   -378.755063 -4.759571e+02  -521.005429 -281.151985 -471.086527   \n2887   -380.434261 -4.735253e+02  -519.606619 -282.166127 -470.320700   \n\n               5          6           7           8           9  ...  \\\n0     176.172654  52.889313  223.894855  243.994114  194.737438  ...   \n1     -99.553956 -63.187717 -292.848583 -346.912710 -330.297786  ...   \n2    -121.841076 -52.377128 -216.458004 -242.163986 -193.419677  ...   \n3    -120.970863  47.355738 -207.326774 -242.160490 -195.489113  ...   \n4    -121.804713 -57.559685 -151.724643 -243.033735 -198.276163  ...   \n...          ...        ...         ...         ...         ...  ...   \n2883 -122.918416 -54.932413 -218.033043 -245.482561 -196.303135  ...   \n2884 -122.916922 -46.787552 -219.807216 -246.036461 -197.207481  ...   \n2885 -118.069445 -58.031928 -217.147063 -245.325604 -197.118545  ...   \n2886 -121.019342 -49.876102 -216.386182 -243.514385 -200.485135  ...   \n2887 -119.858725 -50.979767 -217.552563 -228.226976 -209.685771  ...   \n\n            491        492        493        494        495        496  \\\n0      0.008695   0.008276  -0.001023  -0.005114  -0.004074   0.000874   \n1     -0.015003  -0.008769  -0.010266   0.047813  -0.011946   0.037371   \n2      2.534576  54.307973 -26.881556  -4.846426  27.445718  -2.193562   \n3      8.899746 -24.686528  22.826315  23.363596  11.467001   8.036323   \n4      3.899612  -5.902992  -0.828168   6.660238  -1.554214  -5.866778   \n...         ...        ...        ...        ...        ...        ...   \n2883   3.148206 -10.080571 -10.675553  12.172861   3.124670   6.251132   \n2884   1.708060  -1.445543  -0.965368   2.754528   4.190212  -2.141675   \n2885   1.348365  -6.279074   3.650062  -3.235274   0.818062  -1.003041   \n2886 -18.363891 -19.401707  22.620676  -3.273006   1.056308  -2.375548   \n2887 -13.639480  21.723917 -20.939735  27.145313 -17.815823  13.750138   \n\n            497        498        499  target  \n0      0.006211  -0.000636   0.001124   0.175  \n1      0.051753  -0.031315   0.018139   0.676  \n2    -33.622737   8.346143 -11.339905   0.633  \n3     33.623845   2.638719 -13.928653   0.206  \n4      3.043772  -4.839015  -6.361681   0.384  \n...         ...        ...        ...     ...  \n2883   0.870390  -1.847565  16.498988   0.235  \n2884   6.191564   0.055531  -2.900506   1.042  \n2885   0.537602  -2.545108   0.803532   0.005  \n2886   7.979227  23.375771  -5.043796   0.350  \n2887  15.015441  -0.323472  17.387336   0.417  \n\n[2888 rows x 501 columns]",
      "text/html": "<div>\n<style scoped>\n    .dataframe tbody tr th:only-of-type {\n        vertical-align: middle;\n    }\n\n    .dataframe tbody tr th {\n        vertical-align: top;\n    }\n\n    .dataframe thead th {\n        text-align: right;\n    }\n</style>\n<table border=\"1\" class=\"dataframe\">\n  <thead>\n    <tr style=\"text-align: right;\">\n      <th></th>\n      <th>0</th>\n      <th>1</th>\n      <th>2</th>\n      <th>3</th>\n      <th>4</th>\n      <th>5</th>\n      <th>6</th>\n      <th>7</th>\n      <th>8</th>\n      <th>9</th>\n      <th>...</th>\n      <th>491</th>\n      <th>492</th>\n      <th>493</th>\n      <th>494</th>\n      <th>495</th>\n      <th>496</th>\n      <th>497</th>\n      <th>498</th>\n      <th>499</th>\n      <th>target</th>\n    </tr>\n  </thead>\n  <tbody>\n    <tr>\n      <th>0</th>\n      <td>-12256.984223</td>\n      <td>1.062884e+06</td>\n      <td>3384.526732</td>\n      <td>492.181659</td>\n      <td>755.058519</td>\n      <td>176.172654</td>\n      <td>52.889313</td>\n      <td>223.894855</td>\n      <td>243.994114</td>\n      <td>194.737438</td>\n      <td>...</td>\n      <td>0.008695</td>\n      <td>0.008276</td>\n      <td>-0.001023</td>\n      <td>-0.005114</td>\n      <td>-0.004074</td>\n      <td>0.000874</td>\n      <td>0.006211</td>\n      <td>-0.000636</td>\n      <td>0.001124</td>\n      <td>0.175</td>\n    </tr>\n    <tr>\n      <th>1</th>\n      <td>-3700.404138</td>\n      <td>2.904250e+05</td>\n      <td>435.268484</td>\n      <td>-182.127640</td>\n      <td>-326.943890</td>\n      <td>-99.553956</td>\n      <td>-63.187717</td>\n      <td>-292.848583</td>\n      <td>-346.912710</td>\n      <td>-330.297786</td>\n      <td>...</td>\n      <td>-0.015003</td>\n      <td>-0.008769</td>\n      <td>-0.010266</td>\n      <td>0.047813</td>\n      <td>-0.011946</td>\n      <td>0.037371</td>\n      <td>0.051753</td>\n      <td>-0.031315</td>\n      <td>0.018139</td>\n      <td>0.676</td>\n    </tr>\n    <tr>\n      <th>2</th>\n      <td>-400.794599</td>\n      <td>-4.804747e+02</td>\n      <td>-520.505918</td>\n      <td>-282.465779</td>\n      <td>-472.893128</td>\n      <td>-121.841076</td>\n      <td>-52.377128</td>\n      <td>-216.458004</td>\n      <td>-242.163986</td>\n      <td>-193.419677</td>\n      <td>...</td>\n      <td>2.534576</td>\n      <td>54.307973</td>\n      <td>-26.881556</td>\n      <td>-4.846426</td>\n      <td>27.445718</td>\n      <td>-2.193562</td>\n      <td>-33.622737</td>\n      <td>8.346143</td>\n      <td>-11.339905</td>\n      <td>0.633</td>\n    </tr>\n    <tr>\n      <th>3</th>\n      <td>-374.839243</td>\n      <td>-4.833002e+02</td>\n      <td>-520.289854</td>\n      <td>-281.931934</td>\n      <td>-472.155638</td>\n      <td>-120.970863</td>\n      <td>47.355738</td>\n      <td>-207.326774</td>\n      <td>-242.160490</td>\n      <td>-195.489113</td>\n      <td>...</td>\n      <td>8.899746</td>\n      <td>-24.686528</td>\n      <td>22.826315</td>\n      <td>23.363596</td>\n      <td>11.467001</td>\n      <td>8.036323</td>\n      <td>33.623845</td>\n      <td>2.638719</td>\n      <td>-13.928653</td>\n      <td>0.206</td>\n    </tr>\n    <tr>\n      <th>4</th>\n      <td>-379.456705</td>\n      <td>-4.848447e+02</td>\n      <td>-520.206871</td>\n      <td>-281.568939</td>\n      <td>-468.852123</td>\n      <td>-121.804713</td>\n      <td>-57.559685</td>\n      <td>-151.724643</td>\n      <td>-243.033735</td>\n      <td>-198.276163</td>\n      <td>...</td>\n      <td>3.899612</td>\n      <td>-5.902992</td>\n      <td>-0.828168</td>\n      <td>6.660238</td>\n      <td>-1.554214</td>\n      <td>-5.866778</td>\n      <td>3.043772</td>\n      <td>-4.839015</td>\n      <td>-6.361681</td>\n      <td>0.384</td>\n    </tr>\n    <tr>\n      <th>...</th>\n      <td>...</td>\n      <td>...</td>\n      <td>...</td>\n      <td>...</td>\n      <td>...</td>\n      <td>...</td>\n      <td>...</td>\n      <td>...</td>\n      <td>...</td>\n      <td>...</td>\n      <td>...</td>\n      <td>...</td>\n      <td>...</td>\n      <td>...</td>\n      <td>...</td>\n      <td>...</td>\n      <td>...</td>\n      <td>...</td>\n      <td>...</td>\n      <td>...</td>\n      <td>...</td>\n    </tr>\n    <tr>\n      <th>2883</th>\n      <td>-385.042290</td>\n      <td>-4.799649e+02</td>\n      <td>-518.225731</td>\n      <td>-281.815435</td>\n      <td>-469.190313</td>\n      <td>-122.918416</td>\n      <td>-54.932413</td>\n      <td>-218.033043</td>\n      <td>-245.482561</td>\n      <td>-196.303135</td>\n      <td>...</td>\n      <td>3.148206</td>\n      <td>-10.080571</td>\n      <td>-10.675553</td>\n      <td>12.172861</td>\n      <td>3.124670</td>\n      <td>6.251132</td>\n      <td>0.870390</td>\n      <td>-1.847565</td>\n      <td>16.498988</td>\n      <td>0.235</td>\n    </tr>\n    <tr>\n      <th>2884</th>\n      <td>-368.915696</td>\n      <td>-4.775296e+02</td>\n      <td>-518.382450</td>\n      <td>-282.313167</td>\n      <td>-469.878579</td>\n      <td>-122.916922</td>\n      <td>-46.787552</td>\n      <td>-219.807216</td>\n      <td>-246.036461</td>\n      <td>-197.207481</td>\n      <td>...</td>\n      <td>1.708060</td>\n      <td>-1.445543</td>\n      <td>-0.965368</td>\n      <td>2.754528</td>\n      <td>4.190212</td>\n      <td>-2.141675</td>\n      <td>6.191564</td>\n      <td>0.055531</td>\n      <td>-2.900506</td>\n      <td>1.042</td>\n    </tr>\n    <tr>\n      <th>2885</th>\n      <td>-379.566154</td>\n      <td>-4.750647e+02</td>\n      <td>-519.837822</td>\n      <td>-280.352795</td>\n      <td>-471.180622</td>\n      <td>-118.069445</td>\n      <td>-58.031928</td>\n      <td>-217.147063</td>\n      <td>-245.325604</td>\n      <td>-197.118545</td>\n      <td>...</td>\n      <td>1.348365</td>\n      <td>-6.279074</td>\n      <td>3.650062</td>\n      <td>-3.235274</td>\n      <td>0.818062</td>\n      <td>-1.003041</td>\n      <td>0.537602</td>\n      <td>-2.545108</td>\n      <td>0.803532</td>\n      <td>0.005</td>\n    </tr>\n    <tr>\n      <th>2886</th>\n      <td>-378.755063</td>\n      <td>-4.759571e+02</td>\n      <td>-521.005429</td>\n      <td>-281.151985</td>\n      <td>-471.086527</td>\n      <td>-121.019342</td>\n      <td>-49.876102</td>\n      <td>-216.386182</td>\n      <td>-243.514385</td>\n      <td>-200.485135</td>\n      <td>...</td>\n      <td>-18.363891</td>\n      <td>-19.401707</td>\n      <td>22.620676</td>\n      <td>-3.273006</td>\n      <td>1.056308</td>\n      <td>-2.375548</td>\n      <td>7.979227</td>\n      <td>23.375771</td>\n      <td>-5.043796</td>\n      <td>0.350</td>\n    </tr>\n    <tr>\n      <th>2887</th>\n      <td>-380.434261</td>\n      <td>-4.735253e+02</td>\n      <td>-519.606619</td>\n      <td>-282.166127</td>\n      <td>-470.320700</td>\n      <td>-119.858725</td>\n      <td>-50.979767</td>\n      <td>-217.552563</td>\n      <td>-228.226976</td>\n      <td>-209.685771</td>\n      <td>...</td>\n      <td>-13.639480</td>\n      <td>21.723917</td>\n      <td>-20.939735</td>\n      <td>27.145313</td>\n      <td>-17.815823</td>\n      <td>13.750138</td>\n      <td>15.015441</td>\n      <td>-0.323472</td>\n      <td>17.387336</td>\n      <td>0.417</td>\n    </tr>\n  </tbody>\n</table>\n<p>2888 rows × 501 columns</p>\n</div>"
     },
     "execution_count": 18,
     "metadata": {},
     "output_type": "execute_result"
    }
   ],
   "source": [
    "train_data2_pca"
   ],
   "metadata": {
    "collapsed": false,
    "pycharm": {
     "name": "#%%\n"
    }
   }
  },
  {
   "cell_type": "code",
   "execution_count": 20,
   "outputs": [
    {
     "name": "stdout",
     "output_type": "stream",
     "text": [
      "Training until validation scores don't improve for 100 rounds\n",
      "[50]\tTrain's l2: 0.419263\tTest's l2: 0.428263\n",
      "[100]\tTrain's l2: 0.199641\tTest's l2: 0.235593\n",
      "[150]\tTrain's l2: 0.108679\tTest's l2: 0.161073\n",
      "[200]\tTrain's l2: 0.0679627\tTest's l2: 0.13033\n",
      "[250]\tTrain's l2: 0.047303\tTest's l2: 0.117391\n",
      "[300]\tTrain's l2: 0.0353126\tTest's l2: 0.111158\n",
      "[350]\tTrain's l2: 0.0275163\tTest's l2: 0.107831\n",
      "[400]\tTrain's l2: 0.0220216\tTest's l2: 0.106154\n",
      "[450]\tTrain's l2: 0.0179068\tTest's l2: 0.105175\n",
      "[500]\tTrain's l2: 0.0147582\tTest's l2: 0.104496\n",
      "[550]\tTrain's l2: 0.0122418\tTest's l2: 0.104084\n",
      "[600]\tTrain's l2: 0.0102208\tTest's l2: 0.103906\n",
      "[650]\tTrain's l2: 0.00858774\tTest's l2: 0.103492\n",
      "[700]\tTrain's l2: 0.00725132\tTest's l2: 0.103369\n",
      "[750]\tTrain's l2: 0.00615626\tTest's l2: 0.103201\n",
      "[800]\tTrain's l2: 0.00524795\tTest's l2: 0.10323\n",
      "[850]\tTrain's l2: 0.00449195\tTest's l2: 0.103197\n",
      "[900]\tTrain's l2: 0.00386922\tTest's l2: 0.103197\n",
      "[950]\tTrain's l2: 0.00333871\tTest's l2: 0.1032\n",
      "[1000]\tTrain's l2: 0.00289426\tTest's l2: 0.103188\n",
      "Did not meet early stopping. Best iteration is:\n",
      "[1000]\tTrain's l2: 0.00289426\tTest's l2: 0.103188\n",
      "第0折 训练和预测 训练MSE 预测MSE\n",
      "------\n",
      " 训练MSE\n",
      " 0.0028942566642483477 \n",
      "------\n",
      "------\n",
      " 预测MSE\n",
      " 0.10318789408906424 \n",
      "------\n",
      "Training until validation scores don't improve for 100 rounds\n",
      "[50]\tTrain's l2: 0.404901\tTest's l2: 0.491759\n",
      "[100]\tTrain's l2: 0.192407\tTest's l2: 0.281109\n",
      "[150]\tTrain's l2: 0.104426\tTest's l2: 0.199468\n",
      "[200]\tTrain's l2: 0.0649894\tTest's l2: 0.165856\n"
     ]
    },
    {
     "ename": "KeyboardInterrupt",
     "evalue": "",
     "output_type": "error",
     "traceback": [
      "\u001B[0;31m---------------------------------------------------------------------------\u001B[0m",
      "\u001B[0;31mKeyboardInterrupt\u001B[0m                         Traceback (most recent call last)",
      "\u001B[0;32m<ipython-input-20-e5270b48a984>\u001B[0m in \u001B[0;36m<module>\u001B[0;34m\u001B[0m\n\u001B[1;32m     39\u001B[0m                 \u001B[0mearly_stopping_rounds\u001B[0m\u001B[0;34m=\u001B[0m\u001B[0;36m100\u001B[0m\u001B[0;34m,\u001B[0m\u001B[0;34m\u001B[0m\u001B[0;34m\u001B[0m\u001B[0m\n\u001B[1;32m     40\u001B[0m                 \u001B[0meval_metric\u001B[0m\u001B[0;34m=\u001B[0m\u001B[0;34m'MSE'\u001B[0m\u001B[0;34m,\u001B[0m\u001B[0;34m\u001B[0m\u001B[0;34m\u001B[0m\u001B[0m\n\u001B[0;32m---> 41\u001B[0;31m                 verbose=50)\n\u001B[0m\u001B[1;32m     42\u001B[0m \u001B[0;34m\u001B[0m\u001B[0m\n\u001B[1;32m     43\u001B[0m     \u001B[0;31m# 训练集和测试集预测\u001B[0m\u001B[0;34m\u001B[0m\u001B[0;34m\u001B[0m\u001B[0;34m\u001B[0m\u001B[0m\n",
      "\u001B[0;32m~/anaconda3/envs/ml/lib/python3.7/site-packages/lightgbm/sklearn.py\u001B[0m in \u001B[0;36mfit\u001B[0;34m(self, X, y, sample_weight, init_score, eval_set, eval_names, eval_sample_weight, eval_init_score, eval_metric, early_stopping_rounds, verbose, feature_name, categorical_feature, callbacks, init_model)\u001B[0m\n\u001B[1;32m    777\u001B[0m                                        \u001B[0mverbose\u001B[0m\u001B[0;34m=\u001B[0m\u001B[0mverbose\u001B[0m\u001B[0;34m,\u001B[0m \u001B[0mfeature_name\u001B[0m\u001B[0;34m=\u001B[0m\u001B[0mfeature_name\u001B[0m\u001B[0;34m,\u001B[0m\u001B[0;34m\u001B[0m\u001B[0;34m\u001B[0m\u001B[0m\n\u001B[1;32m    778\u001B[0m                                        \u001B[0mcategorical_feature\u001B[0m\u001B[0;34m=\u001B[0m\u001B[0mcategorical_feature\u001B[0m\u001B[0;34m,\u001B[0m\u001B[0;34m\u001B[0m\u001B[0;34m\u001B[0m\u001B[0m\n\u001B[0;32m--> 779\u001B[0;31m                                        callbacks=callbacks, init_model=init_model)\n\u001B[0m\u001B[1;32m    780\u001B[0m         \u001B[0;32mreturn\u001B[0m \u001B[0mself\u001B[0m\u001B[0;34m\u001B[0m\u001B[0;34m\u001B[0m\u001B[0m\n\u001B[1;32m    781\u001B[0m \u001B[0;34m\u001B[0m\u001B[0m\n",
      "\u001B[0;32m~/anaconda3/envs/ml/lib/python3.7/site-packages/lightgbm/sklearn.py\u001B[0m in \u001B[0;36mfit\u001B[0;34m(self, X, y, sample_weight, init_score, group, eval_set, eval_names, eval_sample_weight, eval_class_weight, eval_init_score, eval_group, eval_metric, early_stopping_rounds, verbose, feature_name, categorical_feature, callbacks, init_model)\u001B[0m\n\u001B[1;32m    615\u001B[0m                               \u001B[0mevals_result\u001B[0m\u001B[0;34m=\u001B[0m\u001B[0mevals_result\u001B[0m\u001B[0;34m,\u001B[0m \u001B[0mfobj\u001B[0m\u001B[0;34m=\u001B[0m\u001B[0mself\u001B[0m\u001B[0;34m.\u001B[0m\u001B[0m_fobj\u001B[0m\u001B[0;34m,\u001B[0m \u001B[0mfeval\u001B[0m\u001B[0;34m=\u001B[0m\u001B[0meval_metrics_callable\u001B[0m\u001B[0;34m,\u001B[0m\u001B[0;34m\u001B[0m\u001B[0;34m\u001B[0m\u001B[0m\n\u001B[1;32m    616\u001B[0m                               \u001B[0mverbose_eval\u001B[0m\u001B[0;34m=\u001B[0m\u001B[0mverbose\u001B[0m\u001B[0;34m,\u001B[0m \u001B[0mfeature_name\u001B[0m\u001B[0;34m=\u001B[0m\u001B[0mfeature_name\u001B[0m\u001B[0;34m,\u001B[0m\u001B[0;34m\u001B[0m\u001B[0;34m\u001B[0m\u001B[0m\n\u001B[0;32m--> 617\u001B[0;31m                               callbacks=callbacks, init_model=init_model)\n\u001B[0m\u001B[1;32m    618\u001B[0m \u001B[0;34m\u001B[0m\u001B[0m\n\u001B[1;32m    619\u001B[0m         \u001B[0;32mif\u001B[0m \u001B[0mevals_result\u001B[0m\u001B[0;34m:\u001B[0m\u001B[0;34m\u001B[0m\u001B[0;34m\u001B[0m\u001B[0m\n",
      "\u001B[0;32m~/anaconda3/envs/ml/lib/python3.7/site-packages/lightgbm/engine.py\u001B[0m in \u001B[0;36mtrain\u001B[0;34m(params, train_set, num_boost_round, valid_sets, valid_names, fobj, feval, init_model, feature_name, categorical_feature, early_stopping_rounds, evals_result, verbose_eval, learning_rates, keep_training_booster, callbacks)\u001B[0m\n\u001B[1;32m    250\u001B[0m                                     evaluation_result_list=None))\n\u001B[1;32m    251\u001B[0m \u001B[0;34m\u001B[0m\u001B[0m\n\u001B[0;32m--> 252\u001B[0;31m         \u001B[0mbooster\u001B[0m\u001B[0;34m.\u001B[0m\u001B[0mupdate\u001B[0m\u001B[0;34m(\u001B[0m\u001B[0mfobj\u001B[0m\u001B[0;34m=\u001B[0m\u001B[0mfobj\u001B[0m\u001B[0;34m)\u001B[0m\u001B[0;34m\u001B[0m\u001B[0;34m\u001B[0m\u001B[0m\n\u001B[0m\u001B[1;32m    253\u001B[0m \u001B[0;34m\u001B[0m\u001B[0m\n\u001B[1;32m    254\u001B[0m         \u001B[0mevaluation_result_list\u001B[0m \u001B[0;34m=\u001B[0m \u001B[0;34m[\u001B[0m\u001B[0;34m]\u001B[0m\u001B[0;34m\u001B[0m\u001B[0;34m\u001B[0m\u001B[0m\n",
      "\u001B[0;32m~/anaconda3/envs/ml/lib/python3.7/site-packages/lightgbm/basic.py\u001B[0m in \u001B[0;36mupdate\u001B[0;34m(self, train_set, fobj)\u001B[0m\n\u001B[1;32m   2458\u001B[0m             _safe_call(_LIB.LGBM_BoosterUpdateOneIter(\n\u001B[1;32m   2459\u001B[0m                 \u001B[0mself\u001B[0m\u001B[0;34m.\u001B[0m\u001B[0mhandle\u001B[0m\u001B[0;34m,\u001B[0m\u001B[0;34m\u001B[0m\u001B[0;34m\u001B[0m\u001B[0m\n\u001B[0;32m-> 2460\u001B[0;31m                 ctypes.byref(is_finished)))\n\u001B[0m\u001B[1;32m   2461\u001B[0m             \u001B[0mself\u001B[0m\u001B[0;34m.\u001B[0m\u001B[0m__is_predicted_cur_iter\u001B[0m \u001B[0;34m=\u001B[0m \u001B[0;34m[\u001B[0m\u001B[0;32mFalse\u001B[0m \u001B[0;32mfor\u001B[0m \u001B[0m_\u001B[0m \u001B[0;32min\u001B[0m \u001B[0mrange_\u001B[0m\u001B[0;34m(\u001B[0m\u001B[0mself\u001B[0m\u001B[0;34m.\u001B[0m\u001B[0m__num_dataset\u001B[0m\u001B[0;34m)\u001B[0m\u001B[0;34m]\u001B[0m\u001B[0;34m\u001B[0m\u001B[0;34m\u001B[0m\u001B[0m\n\u001B[1;32m   2462\u001B[0m             \u001B[0;32mreturn\u001B[0m \u001B[0mis_finished\u001B[0m\u001B[0;34m.\u001B[0m\u001B[0mvalue\u001B[0m \u001B[0;34m==\u001B[0m \u001B[0;36m1\u001B[0m\u001B[0;34m\u001B[0m\u001B[0;34m\u001B[0m\u001B[0m\n",
      "\u001B[0;31mKeyboardInterrupt\u001B[0m: "
     ]
    }
   ],
   "source": [
    "# 模型训练和评估\n",
    "from sklearn.model_selection import KFold\n",
    "from sklearn.metrics import mean_squared_error\n",
    "import lightgbm as lgb\n",
    "import numpy as np\n",
    "\n",
    "# 5折交叉验证\n",
    "Folds = 5\n",
    "kf = KFold(n_splits=Folds, shuffle=True, random_state=2021)\n",
    "\n",
    "# 记录训练和预测MSE\n",
    "MSE_DICT = {'train_mse':[], 'test_mse':[]}\n",
    "\n",
    "# 线下训练模型\n",
    "for i, (train_index, test_index) in enumerate(kf.split(X_train2)):\n",
    "    # LGB树模型\n",
    "    lgb_reg = lgb.LGBMRegressor(\n",
    "        learning_rate=0.01,\n",
    "        max_depth=-1,\n",
    "        # n_estimators=5000,\n",
    "        n_estimators=1000,\n",
    "        boosting_type='gbdt',\n",
    "        random_state=2021,\n",
    "        objective='regression'\n",
    "    )\n",
    "\n",
    "    # 切分训练集和测试集\n",
    "    X_train_KFold = X_train2[train_index]\n",
    "    X_test_KFold = X_train2[test_index]\n",
    "    y_train_KFold = y_train[train_index]\n",
    "    y_test_KFold = y_train[test_index]\n",
    "\n",
    "    # 训练模型\n",
    "    lgb_reg.fit(X=X_train_KFold,\n",
    "                y=y_train_KFold,\n",
    "                eval_set=[(X_train_KFold, y_train_KFold),\n",
    "                          (X_test_KFold, y_test_KFold)],\n",
    "                eval_names=['Train', 'Test'],\n",
    "                early_stopping_rounds=100,\n",
    "                eval_metric='MSE',\n",
    "                verbose=50)\n",
    "\n",
    "    # 训练集和测试集预测\n",
    "    y_train_KFold_predict = lgb_reg.predict(\n",
    "        X_train_KFold, num_iteration=lgb_reg.best_iteration_)\n",
    "    y_test_KFold_predict = lgb_reg.predict(\n",
    "        X_test_KFold, num_iteration=lgb_reg.best_iteration_)\n",
    "\n",
    "    print('第{}折 训练和预测 训练MSE 预测MSE'.format(i))\n",
    "\n",
    "    train_mse = mean_squared_error(y_train_KFold, y_train_KFold_predict)\n",
    "    print('------\\n', '训练MSE\\n', train_mse, '\\n------')\n",
    "\n",
    "    test_mse = mean_squared_error(y_test_KFold, y_test_KFold_predict)\n",
    "    print('------\\n', '预测MSE\\n', test_mse, '\\n------')\n",
    "\n",
    "    MSE_DICT['train_mse'].append(train_mse)\n",
    "    MSE_DICT['test_mse'].append(test_mse)\n",
    "\n",
    "print('------\\n', '训练MSE\\n', MSE_DICT['train_mse'], '\\n', np.mean(MSE_DICT['train_mse']), '\\n------')\n",
    "\n",
    "print('------\\n', '预测MSE\\n', MSE_DICT['test_mse'], '\\n', np.mean(MSE_DICT['test_mse']), '\\n------')"
   ],
   "metadata": {
    "collapsed": false,
    "pycharm": {
     "name": "#%%\n"
    }
   }
  },
  {
   "cell_type": "code",
   "execution_count": null,
   "outputs": [],
   "source": [],
   "metadata": {
    "collapsed": false,
    "pycharm": {
     "name": "#%%\n"
    }
   }
  }
 ],
 "metadata": {
  "kernelspec": {
   "display_name": "Python 3",
   "language": "python",
   "name": "python3"
  },
  "language_info": {
   "codemirror_mode": {
    "name": "ipython",
    "version": 2
   },
   "file_extension": ".py",
   "mimetype": "text/x-python",
   "name": "python",
   "nbconvert_exporter": "python",
   "pygments_lexer": "ipython2",
   "version": "2.7.6"
  }
 },
 "nbformat": 4,
 "nbformat_minor": 0
}