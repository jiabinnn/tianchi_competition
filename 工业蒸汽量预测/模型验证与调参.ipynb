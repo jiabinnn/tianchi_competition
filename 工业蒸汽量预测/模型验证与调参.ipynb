{
 "cells": [
  {
   "cell_type": "markdown",
   "source": [
    "#### 模型过拟合与欠拟合"
   ],
   "metadata": {
    "collapsed": false,
    "pycharm": {
     "name": "#%% md\n"
    }
   }
  },
  {
   "cell_type": "code",
   "execution_count": 1,
   "metadata": {
    "collapsed": true
   },
   "outputs": [],
   "source": [
    "# 导入工具\n",
    "import numpy as np\n",
    "import pandas as pd\n",
    "import matplotlib.pyplot as plt\n",
    "import seaborn as sns\n",
    "from scipy import stats\n",
    "import warnings\n",
    "warnings.filterwarnings(\"ignore\")\n",
    "from sklearn.linear_model import LinearRegression\n",
    "from sklearn.neighbors import KNeighborsRegressor\n",
    "from sklearn.tree import DecisionTreeRegressor\n",
    "from sklearn.ensemble import RandomForestRegressor\n",
    "from sklearn.svm import SVR\n",
    "import lightgbm as lgb\n",
    "from sklearn.model_selection import train_test_split\n",
    "from sklearn.metrics import mean_squared_error\n",
    "from sklearn.linear_model import SGDRegressor"
   ]
  },
  {
   "cell_type": "code",
   "execution_count": 5,
   "outputs": [],
   "source": [
    "# 读取数据\n",
    "train_data_file = './dataset/zhengqi_train.txt'\n",
    "test_data_file = './dataset/zhengqi_test.txt'\n",
    "train_data = pd.read_csv(train_data_file, sep='\\t', encoding='utf-8')\n",
    "test_data = pd.read_csv(test_data_file, sep='\\t', encoding='utf-8')"
   ],
   "metadata": {
    "collapsed": false,
    "pycharm": {
     "name": "#%%\n"
    }
   }
  },
  {
   "cell_type": "code",
   "execution_count": 7,
   "outputs": [],
   "source": [
    "# 归一化处理\n",
    "from sklearn import preprocessing\n",
    "features_columns = [col for col in train_data.columns if col not in ['target']]\n",
    "min_max_scaler = preprocessing.MinMaxScaler()\n",
    "min_max_scaler = min_max_scaler.fit(train_data[features_columns])\n",
    "train_data_scaler = min_max_scaler.transform(train_data[features_columns])\n",
    "test_data_scaler = min_max_scaler.transform(test_data[features_columns])\n",
    "\n",
    "train_data_scaler = pd.DataFrame(train_data_scaler)\n",
    "train_data_scaler.columns = features_columns\n",
    "train_data_scaler['target'] = train_data['target']\n",
    "test_data_scaler = pd.DataFrame(test_data_scaler)\n",
    "test_data_scaler.columns = features_columns"
   ],
   "metadata": {
    "collapsed": false,
    "pycharm": {
     "name": "#%%\n"
    }
   }
  },
  {
   "cell_type": "code",
   "execution_count": 9,
   "outputs": [],
   "source": [
    "# PCA降维\n",
    "from sklearn.decomposition import PCA\n",
    "\n",
    "pca = PCA(n_components=16)\n",
    "new_train_pca_16 = pca.fit_transform(train_data_scaler.iloc[:, 0:-1])\n",
    "new_test_pca_16 = pca.transform(test_data_scaler)\n",
    "new_train_pca_16 = pd.DataFrame(new_train_pca_16)\n",
    "new_test_pca_16 = pd.DataFrame(new_test_pca_16)\n",
    "new_train_pca_16['target'] = train_data_scaler['target']"
   ],
   "metadata": {
    "collapsed": false,
    "pycharm": {
     "name": "#%%\n"
    }
   }
  },
  {
   "cell_type": "code",
   "execution_count": 11,
   "outputs": [],
   "source": [
    "# 划分训练数据和测试数据\n",
    "new_train_pca_16 = new_train_pca_16.fillna(0)\n",
    "train = new_train_pca_16[new_test_pca_16.columns]\n",
    "target = new_train_pca_16['target']\n",
    "\n",
    "train_data, test_data, train_target, test_target = train_test_split(\n",
    "    train, target, test_size=0.2, random_state=0\n",
    ")"
   ],
   "metadata": {
    "collapsed": false,
    "pycharm": {
     "name": "#%%\n"
    }
   }
  },
  {
   "cell_type": "code",
   "execution_count": 15,
   "outputs": [
    {
     "name": "stdout",
     "output_type": "stream",
     "text": [
      "SGDRegressor train MSE: 0.15140280267489134\n",
      "SGDRegressor test MSE: 0.1558853714739483\n"
     ]
    }
   ],
   "source": [
    "# 欠拟合\n",
    "clf = SGDRegressor(max_iter=500, tol=1e-2)\n",
    "clf.fit(train_data, train_target)\n",
    "score_train = mean_squared_error(train_target, clf.predict(train_data))\n",
    "score_test = mean_squared_error(test_target, clf.predict(test_data))\n",
    "print('SGDRegressor train MSE: {}'.format(score_train))\n",
    "print('SGDRegressor test MSE: {}'.format(score_test))"
   ],
   "metadata": {
    "collapsed": false,
    "pycharm": {
     "name": "#%%\n"
    }
   }
  },
  {
   "cell_type": "code",
   "execution_count": 16,
   "outputs": [
    {
     "name": "stdout",
     "output_type": "stream",
     "text": [
      "SGDRegressor train MSE: 0.13258466014175807\n",
      "SGDRegressor test MSE: 0.14499642034793425\n"
     ]
    }
   ],
   "source": [
    "# 过拟合\n",
    "from sklearn.preprocessing import PolynomialFeatures\n",
    "poly = PolynomialFeatures(5)\n",
    "train_data_poly = poly.fit_transform(train_data)\n",
    "test_data_poly = poly.transform(test_data)\n",
    "clf = SGDRegressor(max_iter=1000, tol=1e-3)\n",
    "clf.fit(train_data_poly, train_target)\n",
    "score_train = mean_squared_error(train_target, clf.predict(train_data_poly))\n",
    "score_test = mean_squared_error(test_target, clf.predict(test_data_poly))\n",
    "print('SGDRegressor train MSE: {}'.format(score_train))\n",
    "print('SGDRegressor test MSE: {}'.format(score_test))"
   ],
   "metadata": {
    "collapsed": false,
    "pycharm": {
     "name": "#%%\n"
    }
   }
  },
  {
   "cell_type": "code",
   "execution_count": 17,
   "outputs": [
    {
     "name": "stdout",
     "output_type": "stream",
     "text": [
      "SGDRegressor train MSE: 0.13419142640173773\n",
      "SGDRegressor test MSE: 0.14262594390594838\n"
     ]
    }
   ],
   "source": [
    "# 正常拟合\n",
    "from sklearn.preprocessing import PolynomialFeatures\n",
    "poly = PolynomialFeatures(3)\n",
    "train_data_poly = poly.fit_transform(train_data)\n",
    "test_data_poly = poly.transform(test_data)\n",
    "clf = SGDRegressor(max_iter=1000, tol=1e-3)\n",
    "clf.fit(train_data_poly, train_target)\n",
    "score_train = mean_squared_error(train_target, clf.predict(train_data_poly))\n",
    "score_test = mean_squared_error(test_target, clf.predict(test_data_poly))\n",
    "print('SGDRegressor train MSE: {}'.format(score_train))\n",
    "print('SGDRegressor test MSE: {}'.format(score_test))"
   ],
   "metadata": {
    "collapsed": false,
    "pycharm": {
     "name": "#%%\n"
    }
   }
  },
  {
   "cell_type": "markdown",
   "source": [
    "#### 模型正则化"
   ],
   "metadata": {
    "collapsed": false,
    "pycharm": {
     "name": "#%% md\n"
    }
   }
  },
  {
   "cell_type": "code",
   "execution_count": 18,
   "outputs": [
    {
     "name": "stdout",
     "output_type": "stream",
     "text": [
      "SGDRegressor train MSE: 0.13429375081749748\n",
      "SGDRegressor test MSE: 0.1426219753395351\n"
     ]
    }
   ],
   "source": [
    "# l2正则\n",
    "poly = PolynomialFeatures(3)\n",
    "train_data_poly = poly.fit_transform(train_data)\n",
    "test_data_poly = poly.transform(test_data)\n",
    "clf = SGDRegressor(max_iter=1000, tol=1e-3, penalty='L2', alpha=0.0001)\n",
    "clf.fit(train_data_poly, train_target)\n",
    "score_train = mean_squared_error(train_target, clf.predict(train_data_poly))\n",
    "score_test = mean_squared_error(test_target, clf.predict(test_data_poly))\n",
    "print('SGDRegressor train MSE: {}'.format(score_train))\n",
    "print('SGDRegressor test MSE: {}'.format(score_test))"
   ],
   "metadata": {
    "collapsed": false,
    "pycharm": {
     "name": "#%%\n"
    }
   }
  },
  {
   "cell_type": "code",
   "execution_count": 19,
   "outputs": [
    {
     "name": "stdout",
     "output_type": "stream",
     "text": [
      "SGDRegressor train MSE: 0.13432003771695525\n",
      "SGDRegressor test MSE: 0.14270760371855284\n"
     ]
    }
   ],
   "source": [
    "# l1正则\n",
    "poly = PolynomialFeatures(3)\n",
    "train_data_poly = poly.fit_transform(train_data)\n",
    "test_data_poly = poly.transform(test_data)\n",
    "clf = SGDRegressor(max_iter=1000, tol=1e-3, penalty='L1', alpha=0.00001)\n",
    "clf.fit(train_data_poly, train_target)\n",
    "score_train = mean_squared_error(train_target, clf.predict(train_data_poly))\n",
    "score_test = mean_squared_error(test_target, clf.predict(test_data_poly))\n",
    "print('SGDRegressor train MSE: {}'.format(score_train))\n",
    "print('SGDRegressor test MSE: {}'.format(score_test))"
   ],
   "metadata": {
    "collapsed": false,
    "pycharm": {
     "name": "#%%\n"
    }
   }
  },
  {
   "cell_type": "code",
   "execution_count": 20,
   "outputs": [
    {
     "name": "stdout",
     "output_type": "stream",
     "text": [
      "SGDRegressor train MSE: 0.13497617221666022\n",
      "SGDRegressor test MSE: 0.1432037898708725\n"
     ]
    }
   ],
   "source": [
    "# ElasticNet联合L1和L2范数加权正则好\n",
    "poly = PolynomialFeatures(3)\n",
    "train_data_poly = poly.fit_transform(train_data)\n",
    "test_data_poly = poly.transform(test_data)\n",
    "clf = SGDRegressor(max_iter=1000, tol=1e-3, penalty='elasticnet', l1_ratio=0.9, alpha=0.00001)\n",
    "clf.fit(train_data_poly, train_target)\n",
    "score_train = mean_squared_error(train_target, clf.predict(train_data_poly))\n",
    "score_test = mean_squared_error(test_target, clf.predict(test_data_poly))\n",
    "print('SGDRegressor train MSE: {}'.format(score_train))\n",
    "print('SGDRegressor test MSE: {}'.format(score_test))"
   ],
   "metadata": {
    "collapsed": false,
    "pycharm": {
     "name": "#%%\n"
    }
   }
  },
  {
   "cell_type": "markdown",
   "source": [
    "#### 模型交叉验证"
   ],
   "metadata": {
    "collapsed": false,
    "pycharm": {
     "name": "#%% md\n"
    }
   }
  },
  {
   "cell_type": "code",
   "execution_count": 21,
   "outputs": [
    {
     "name": "stdout",
     "output_type": "stream",
     "text": [
      "SGDRegressor train MSE: 0.14143932438645734\n",
      "SGDRegressor test MSE: 0.14679823313011264\n"
     ]
    }
   ],
   "source": [
    "# 简单交叉验证\n",
    "from sklearn.model_selection import train_test_split\n",
    "train_data, test_data, train_target, test_target = train_test_split(\n",
    "    train, target, test_size=0.2, random_state=0\n",
    ")\n",
    "\n",
    "clf = SGDRegressor(max_iter=1000, tol=1e-3)\n",
    "clf.fit(train_data, train_target)\n",
    "score_train = mean_squared_error(train_target, clf.predict(train_data))\n",
    "score_test = mean_squared_error(test_target, clf.predict(test_data))\n",
    "print('SGDRegressor train MSE: {}'.format(score_train))\n",
    "print('SGDRegressor test MSE: {}'.format(score_test))"
   ],
   "metadata": {
    "collapsed": false,
    "pycharm": {
     "name": "#%%\n"
    }
   }
  },
  {
   "cell_type": "code",
   "execution_count": 22,
   "outputs": [
    {
     "name": "stdout",
     "output_type": "stream",
     "text": [
      "0 折 SGDRegressor train MSE: 0.14988099714247516\n",
      "0 折 SGDRegressor test MSE: 0.10630088992255252\n",
      "1 折 SGDRegressor train MSE: 0.1334677475591089\n",
      "1 折 SGDRegressor test MSE: 0.18250146089895147\n",
      "2 折 SGDRegressor train MSE: 0.14716144149208973\n",
      "2 折 SGDRegressor test MSE: 0.13332593634152873\n",
      "3 折 SGDRegressor train MSE: 0.14067424812261492\n",
      "3 折 SGDRegressor test MSE: 0.16307109246206972\n",
      "4 折 SGDRegressor train MSE: 0.13883993563423846\n",
      "4 折 SGDRegressor test MSE: 0.16534986902266802\n"
     ]
    }
   ],
   "source": [
    "# K折交叉验证\n",
    "from sklearn.model_selection import KFold\n",
    "kf = KFold(n_splits=5)\n",
    "\n",
    "for k, (train_index, test_index) in enumerate(kf.split(train)):\n",
    "    train_data, test_data, train_target, test_target = train.values[\n",
    "        train_index], train.values[test_index], target[train_index], target[test_index]\n",
    "    clf = SGDRegressor(max_iter=1000, tol=1e-3)\n",
    "    clf.fit(train_data, train_target)\n",
    "    score_train = mean_squared_error(train_target, clf.predict(train_data))\n",
    "    score_test = mean_squared_error(test_target, clf.predict(test_data))\n",
    "    print('{} 折 SGDRegressor train MSE: {}'.format(k, score_train))\n",
    "    print('{} 折 SGDRegressor test MSE: {}'.format(k, score_test))"
   ],
   "metadata": {
    "collapsed": false,
    "pycharm": {
     "name": "#%%\n"
    }
   }
  },
  {
   "cell_type": "code",
   "execution_count": 23,
   "outputs": [
    {
     "name": "stdout",
     "output_type": "stream",
     "text": [
      "0 个 SGDRegressor train MSE: 0.14172224047109752\n",
      "0 个 SGDRegressor test MSE: 0.013946182150328432\n",
      "1 个 SGDRegressor train MSE: 0.14154789107132307\n",
      "1 个 SGDRegressor test MSE: 0.12226573834985914\n",
      "2 个 SGDRegressor train MSE: 0.14151855472811797\n",
      "2 个 SGDRegressor test MSE: 0.038823648116813506\n",
      "3 个 SGDRegressor train MSE: 0.14168079267978742\n",
      "3 个 SGDRegressor test MSE: 0.003729327592523375\n",
      "4 个 SGDRegressor train MSE: 0.1416145855385393\n",
      "4 个 SGDRegressor test MSE: 0.012567070999554394\n",
      "5 个 SGDRegressor train MSE: 0.1416637779192909\n",
      "5 个 SGDRegressor test MSE: 0.13404231746870837\n",
      "6 个 SGDRegressor train MSE: 0.14101392999821705\n",
      "6 个 SGDRegressor test MSE: 0.024882528245243465\n",
      "7 个 SGDRegressor train MSE: 0.14172175538838677\n",
      "7 个 SGDRegressor test MSE: 0.000508279096660602\n",
      "8 个 SGDRegressor train MSE: 0.1417267631792139\n",
      "8 个 SGDRegressor test MSE: 0.08938921733985865\n",
      "9 个 SGDRegressor train MSE: 0.14093178854005334\n",
      "9 个 SGDRegressor test MSE: 0.054140613449177616\n"
     ]
    }
   ],
   "source": [
    "# 留一法交叉验证\n",
    "from sklearn.model_selection import LeaveOneOut\n",
    "loo = LeaveOneOut()\n",
    "\n",
    "for k, (train_index, test_index) in enumerate(loo.split(train)):\n",
    "    train_data, test_data, train_target, test_target = train.values[\n",
    "        train_index], train.values[test_index], target[train_index], target[test_index]\n",
    "    clf = SGDRegressor(max_iter=1000, tol=1e-3)\n",
    "    clf.fit(train_data, train_target)\n",
    "    score_train = mean_squared_error(train_target, clf.predict(train_data))\n",
    "    score_test = mean_squared_error(test_target, clf.predict(test_data))\n",
    "    print('{} 个 SGDRegressor train MSE: {}'.format(k, score_train))\n",
    "    print('{} 个 SGDRegressor test MSE: {}'.format(k, score_test))\n",
    "    if k >= 9:\n",
    "        break"
   ],
   "metadata": {
    "collapsed": false,
    "pycharm": {
     "name": "#%%\n"
    }
   }
  },
  {
   "cell_type": "code",
   "execution_count": 25,
   "outputs": [
    {
     "name": "stdout",
     "output_type": "stream",
     "text": [
      "0 10个 SGDRegressor train MSE: 0.14188300301327134\n",
      "0 10个 SGDRegressor test MSE: 0.049125440203224256\n",
      "1 10个 SGDRegressor train MSE: 0.1413738347744131\n",
      "1 10个 SGDRegressor test MSE: 0.04398226614097936\n",
      "2 10个 SGDRegressor train MSE: 0.14139130436542874\n",
      "2 10个 SGDRegressor test MSE: 0.045438818186059535\n",
      "3 10个 SGDRegressor train MSE: 0.1418717863962917\n",
      "3 10个 SGDRegressor test MSE: 0.05415701575389885\n",
      "4 10个 SGDRegressor train MSE: 0.14178291340191226\n",
      "4 10个 SGDRegressor test MSE: 0.0689278534457292\n",
      "5 10个 SGDRegressor train MSE: 0.14191367401417626\n",
      "5 10个 SGDRegressor test MSE: 0.04520598450098242\n",
      "6 10个 SGDRegressor train MSE: 0.1419099038621314\n",
      "6 10个 SGDRegressor test MSE: 0.04943466593514308\n",
      "7 10个 SGDRegressor train MSE: 0.1420207452015538\n",
      "7 10个 SGDRegressor test MSE: 0.05343014336480323\n",
      "8 10个 SGDRegressor train MSE: 0.1418937573562631\n",
      "8 10个 SGDRegressor test MSE: 0.046978711616200985\n",
      "9 10个 SGDRegressor train MSE: 0.14201124113490354\n",
      "9 10个 SGDRegressor test MSE: 0.045593421938409304\n"
     ]
    }
   ],
   "source": [
    "# 留P法交叉验证\n",
    "from sklearn.model_selection import LeavePOut\n",
    "lpo = LeavePOut(p=10)\n",
    "num = 100\n",
    "for k, (train_index, test_index) in enumerate(lpo.split(train)):\n",
    "    train_data, test_data, train_target, test_target = train.values[\n",
    "        train_index], train.values[test_index], target[train_index], target[test_index]\n",
    "    clf = SGDRegressor(max_iter=1000, tol=1e-3)\n",
    "    clf.fit(train_data, train_target)\n",
    "    score_train = mean_squared_error(train_target, clf.predict(train_data))\n",
    "    score_test = mean_squared_error(test_target, clf.predict(test_data))\n",
    "    print('{} 10个 SGDRegressor train MSE: {}'.format(k, score_train))\n",
    "    print('{} 10个 SGDRegressor test MSE: {}'.format(k, score_test))\n",
    "    if k >= 9:\n",
    "        break"
   ],
   "metadata": {
    "collapsed": false,
    "pycharm": {
     "name": "#%%\n"
    }
   }
  },
  {
   "cell_type": "markdown",
   "source": [
    "#### 模型超参空间及调参"
   ],
   "metadata": {
    "collapsed": false,
    "pycharm": {
     "name": "#%% md\n"
    }
   }
  },
  {
   "cell_type": "code",
   "execution_count": 26,
   "outputs": [
    {
     "name": "stdout",
     "output_type": "stream",
     "text": [
      "RandomForestRegressor GridSearchCV test MSE: 0.2558549377840238\n"
     ]
    },
    {
     "data": {
      "text/plain": "['mean_fit_time',\n 'mean_score_time',\n 'mean_test_score',\n 'param_max_depth',\n 'param_n_estimators',\n 'params',\n 'rank_test_score',\n 'split0_test_score',\n 'split1_test_score',\n 'split2_test_score',\n 'split3_test_score',\n 'split4_test_score',\n 'std_fit_time',\n 'std_score_time',\n 'std_test_score']"
     },
     "execution_count": 26,
     "metadata": {},
     "output_type": "execute_result"
    }
   ],
   "source": [
    "# 穷举网格搜索\n",
    "from sklearn.model_selection import GridSearchCV\n",
    "from sklearn.ensemble import RandomForestRegressor\n",
    "from sklearn.model_selection import train_test_split\n",
    "\n",
    "train_data, test_data, train_target, test_target = train_test_split(\n",
    "    train, target, test_size=0.2, random_state=0\n",
    ")\n",
    "\n",
    "randomForestRegressor = RandomForestRegressor()\n",
    "parameters = {'n_estimators': [50,100,200], 'max_depth':[1,2,3]}\n",
    "clf = GridSearchCV(randomForestRegressor, parameters, cv=5)\n",
    "clf.fit(train_data, train_target)\n",
    "score_test = mean_squared_error(test_target, clf.predict(test_data))\n",
    "print(\"RandomForestRegressor GridSearchCV test MSE: {}\".format(score_test))\n",
    "sorted(clf.cv_results_.keys())"
   ],
   "metadata": {
    "collapsed": false,
    "pycharm": {
     "name": "#%%\n"
    }
   }
  },
  {
   "cell_type": "code",
   "execution_count": 27,
   "outputs": [
    {
     "name": "stdout",
     "output_type": "stream",
     "text": [
      "RandomForestRegressor RandomizedSearchCV test MSE: 0.1966720925542268\n"
     ]
    },
    {
     "data": {
      "text/plain": "['mean_fit_time',\n 'mean_score_time',\n 'mean_test_score',\n 'param_max_depth',\n 'param_n_estimators',\n 'params',\n 'rank_test_score',\n 'split0_test_score',\n 'split1_test_score',\n 'split2_test_score',\n 'split3_test_score',\n 'split4_test_score',\n 'std_fit_time',\n 'std_score_time',\n 'std_test_score']"
     },
     "execution_count": 27,
     "metadata": {},
     "output_type": "execute_result"
    }
   ],
   "source": [
    "# 随机参数优化\n",
    "from sklearn.model_selection import RandomizedSearchCV\n",
    "from sklearn.ensemble import RandomForestRegressor\n",
    "from sklearn.model_selection import train_test_split\n",
    "\n",
    "train_data, test_data, train_target, test_target = train_test_split(\n",
    "    train, target, test_size=0.2, random_state=0\n",
    ")\n",
    "\n",
    "randomForestRegressor = RandomForestRegressor()\n",
    "parameters = {'n_estimators': [50,100,200,300], 'max_depth':[1,2,3,4,5]}\n",
    "clf = RandomizedSearchCV(randomForestRegressor, parameters, cv=5)\n",
    "clf.fit(train_data, train_target)\n",
    "score_test = mean_squared_error(test_target, clf.predict(test_data))\n",
    "print(\"RandomForestRegressor RandomizedSearchCV test MSE: {}\".format(score_test))\n",
    "sorted(clf.cv_results_.keys())"
   ],
   "metadata": {
    "collapsed": false,
    "pycharm": {
     "name": "#%%\n"
    }
   }
  },
  {
   "cell_type": "code",
   "execution_count": 30,
   "outputs": [
    {
     "name": "stdout",
     "output_type": "stream",
     "text": [
      "Best parameters found by grid search are:  {'learning_rate': 0.1, 'n_estimators': 40}\n",
      "LGBMRegressor GridSearchCV test MSE: 0.15207976273501952\n"
     ]
    }
   ],
   "source": [
    "# LGB调参\n",
    "clf = lgb.LGBMRegressor(num_leaves=31)\n",
    "parameters = {'learning_rate': [0.01,0.1,1], 'n_estimators':[20,40]}\n",
    "clf = GridSearchCV(clf, parameters, cv=5)\n",
    "clf.fit(train_data, train_target)\n",
    "print(\"Best parameters found by grid search are: \", clf.best_params_)\n",
    "score_test = mean_squared_error(test_target, clf.predict(test_data))\n",
    "print(\"LGBMRegressor GridSearchCV test MSE: {}\".format(score_test))"
   ],
   "metadata": {
    "collapsed": false,
    "pycharm": {
     "name": "#%%\n"
    }
   }
  },
  {
   "cell_type": "code",
   "execution_count": 28,
   "outputs": [
    {
     "data": {
      "text/plain": "{'mean_fit_time': array([0.32372341, 0.48003306, 1.69259458, 0.37501721, 0.95822296,\n        0.29720836, 0.17156267, 0.47148809, 0.10814223, 0.22817345]),\n 'std_fit_time': array([0.04080866, 0.00460156, 0.00890396, 0.00237968, 0.00598605,\n        0.01012714, 0.01786687, 0.01603483, 0.01749575, 0.02119174]),\n 'mean_score_time': array([0.00515599, 0.00820732, 0.02199402, 0.01268277, 0.01510272,\n        0.00794735, 0.00551429, 0.00862694, 0.00484095, 0.00576215]),\n 'std_score_time': array([0.0001972 , 0.00018794, 0.00022953, 0.00016838, 0.0004587 ,\n        0.00088877, 0.00065072, 0.00101519, 0.00082846, 0.00197751]),\n 'param_n_estimators': masked_array(data=[50, 100, 300, 200, 200, 100, 50, 100, 50, 50],\n              mask=[False, False, False, False, False, False, False, False,\n                    False, False],\n        fill_value='?',\n             dtype=object),\n 'param_max_depth': masked_array(data=[5, 4, 5, 1, 4, 2, 2, 3, 1, 3],\n              mask=[False, False, False, False, False, False, False, False,\n                    False, False],\n        fill_value='?',\n             dtype=object),\n 'params': [{'n_estimators': 50, 'max_depth': 5},\n  {'n_estimators': 100, 'max_depth': 4},\n  {'n_estimators': 300, 'max_depth': 5},\n  {'n_estimators': 200, 'max_depth': 1},\n  {'n_estimators': 200, 'max_depth': 4},\n  {'n_estimators': 100, 'max_depth': 2},\n  {'n_estimators': 50, 'max_depth': 2},\n  {'n_estimators': 100, 'max_depth': 3},\n  {'n_estimators': 50, 'max_depth': 1},\n  {'n_estimators': 50, 'max_depth': 3}],\n 'split0_test_score': array([0.78343301, 0.75741329, 0.78790917, 0.48724074, 0.75471702,\n        0.64298956, 0.64803797, 0.71667551, 0.48796876, 0.7153288 ]),\n 'split1_test_score': array([0.79676495, 0.77233305, 0.79897977, 0.52918444, 0.77393201,\n        0.67396723, 0.67438265, 0.73453996, 0.53515378, 0.73741275]),\n 'split2_test_score': array([0.79817733, 0.77221701, 0.79942363, 0.49468256, 0.77179259,\n        0.64837372, 0.65234234, 0.73667955, 0.47302094, 0.73372467]),\n 'split3_test_score': array([0.79222012, 0.77320663, 0.79566692, 0.51391618, 0.77021876,\n        0.6776286 , 0.67824441, 0.74897216, 0.50726093, 0.74943652]),\n 'split4_test_score': array([0.79765124, 0.77278797, 0.80044418, 0.51453758, 0.77365469,\n        0.6617047 , 0.66303425, 0.73850302, 0.51475212, 0.74188638]),\n 'mean_test_score': array([0.79364933, 0.76959159, 0.79648474, 0.5079123 , 0.76886301,\n        0.66093276, 0.66320832, 0.73507404, 0.50363131, 0.73555782]),\n 'std_test_score': array([0.00552523, 0.00609926, 0.00457709, 0.01506509, 0.00719978,\n        0.01363035, 0.0118253 , 0.0104526 , 0.02150731, 0.0113902 ]),\n 'rank_test_score': array([ 2,  3,  1,  9,  4,  8,  7,  6, 10,  5], dtype=int32)}"
     },
     "execution_count": 28,
     "metadata": {},
     "output_type": "execute_result"
    }
   ],
   "source": [
    "# LGB线下验证"
   ],
   "metadata": {
    "collapsed": false,
    "pycharm": {
     "name": "#%%\n"
    }
   }
  },
  {
   "cell_type": "markdown",
   "source": [
    "#### 学习曲线和验证曲线"
   ],
   "metadata": {
    "collapsed": false,
    "pycharm": {
     "name": "#%% md\n"
    }
   }
  },
  {
   "cell_type": "code",
   "execution_count": 34,
   "outputs": [
    {
     "data": {
      "text/plain": "<module 'matplotlib.pyplot' from '/Users/sunjiabin/anaconda3/envs/ml/lib/python3.7/site-packages/matplotlib/pyplot.py'>"
     },
     "execution_count": 34,
     "metadata": {},
     "output_type": "execute_result"
    },
    {
     "data": {
      "text/plain": "<Figure size 2700x1500 with 0 Axes>"
     },
     "metadata": {},
     "output_type": "display_data"
    },
    {
     "data": {
      "text/plain": "<Figure size 432x288 with 1 Axes>",
      "image/png": "[encoded data removed]"
     },
     "metadata": {
      "needs_background": "light"
     },
     "output_type": "display_data"
    }
   ],
   "source": [
    "import numpy as np\n",
    "import matplotlib.pyplot as plt\n",
    "from sklearn.model_selection import ShuffleSplit\n",
    "from sklearn.linear_model import SGDRegressor\n",
    "from sklearn.model_selection import learning_curve\n",
    "\n",
    "plt.figure(figsize=(18,10), dpi=150)\n",
    "\n",
    "def plot_learning_curve(estimator,\n",
    "                        title,\n",
    "                        X,\n",
    "                        y,\n",
    "                        ylim=None,\n",
    "                        cv=None,\n",
    "                        n_jobs=1,\n",
    "                        train_sizes=np.linspace(.1, 1.0, 5)):\n",
    "    plt.figure()\n",
    "    plt.title(title)\n",
    "    if ylim is not None:\n",
    "        plt.ylim(*ylim)\n",
    "    plt.xlabel('Training examples')\n",
    "    plt.ylabel('Score')\n",
    "    train_sizes, train_scores, test_scores = learning_curve(\n",
    "        estimator, X, y, cv=cv, n_jobs=n_jobs, train_sizes=train_sizes\n",
    "    )\n",
    "    train_scores_mean = np.mean(train_scores, axis=1)\n",
    "    train_scores_std = np.std(train_scores, axis=1)\n",
    "    test_scores_mean = np.mean(test_scores, axis=1)\n",
    "    test_scores_std = np.std(test_scores, axis=1)\n",
    "\n",
    "    plt.grid()\n",
    "\n",
    "    plt.fill_between(train_sizes,\n",
    "                     train_scores_mean - train_scores_std,\n",
    "                     train_scores_mean + train_scores_std,\n",
    "                     alpha=0.1,\n",
    "                     color='r')\n",
    "    plt.fill_between(train_sizes,\n",
    "                     test_scores_mean - test_scores_std,\n",
    "                     test_scores_mean + test_scores_std,\n",
    "                     alpha=0.1,\n",
    "                     color='g')\n",
    "    plt.plot(train_sizes,\n",
    "             train_scores_mean,\n",
    "             'o-',\n",
    "             color='r',\n",
    "             label='Training score')\n",
    "    plt.plot(train_sizes,\n",
    "             test_scores_mean,\n",
    "             'o-',\n",
    "             color='g',\n",
    "             label='Cross-validation score')\n",
    "    plt.legend(loc='best')\n",
    "    return plt\n",
    "train_data2 = pd.read_csv('./dataset/zhengqi_train.txt', sep='\\t')\n",
    "test_data2 = pd.read_csv('./dataset/zhengqi_test.txt', sep='\\t')\n",
    "\n",
    "X = train_data2[test_data2.columns].values\n",
    "y = train_data2['target'].values\n",
    "\n",
    "title = 'LinearRegressor'\n",
    "\n",
    "cv = ShuffleSplit(n_splits=100, test_size=0.2, random_state=0)\n",
    "estimator = SGDRegressor()\n",
    "plot_learning_curve(estimator, title, X, y, ylim=(0.7, 1.01), cv=cv, n_jobs=-1)"
   ],
   "metadata": {
    "collapsed": false,
    "pycharm": {
     "name": "#%%\n"
    }
   }
  },
  {
   "cell_type": "code",
   "execution_count": null,
   "outputs": [],
   "source": [
    "# 验证曲线\n"
   ],
   "metadata": {
    "collapsed": false,
    "pycharm": {
     "name": "#%%\n"
    }
   }
  }
 ],
 "metadata": {
  "kernelspec": {
   "display_name": "Python 3",
   "language": "python",
   "name": "python3"
  },
  "language_info": {
   "codemirror_mode": {
    "name": "ipython",
    "version": 2
   },
   "file_extension": ".py",
   "mimetype": "text/x-python",
   "name": "python",
   "nbconvert_exporter": "python",
   "pygments_lexer": "ipython2",
   "version": "2.7.6"
  }
 },
 "nbformat": 4,
 "nbformat_minor": 0
}