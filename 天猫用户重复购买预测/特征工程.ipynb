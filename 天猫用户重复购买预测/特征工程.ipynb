{
 "cells": [
  {
   "cell_type": "markdown",
   "metadata": {
    "collapsed": true,
    "pycharm": {
     "name": "#%% md\n"
    }
   },
   "source": [
    "## 特征工程"
   ]
  },
  {
   "cell_type": "code",
   "execution_count": 5,
   "outputs": [],
   "source": [
    "# 工具导入\n",
    "import numpy as np\n",
    "import pandas as pd\n",
    "import matplotlib.pyplot as plt\n",
    "import seaborn as sns\n",
    "from scipy import stats\n",
    "\n",
    "import gc\n",
    "from collections import Counter\n",
    "import copy\n",
    "\n",
    "import warnings\n",
    "warnings.filterwarnings('ignore')\n",
    "\n",
    "%matplotlib inline"
   ],
   "metadata": {
    "collapsed": false,
    "pycharm": {
     "name": "#%%\n"
    }
   }
  },
  {
   "cell_type": "code",
   "execution_count": 6,
   "outputs": [],
   "source": [
    "# 数据读取\n",
    "test_data = pd.read_csv('dataset/data_format1/test_format1.csv')\n",
    "train_data = pd.read_csv('dataset/data_format1/train_format1.csv')\n",
    "\n",
    "user_info = pd.read_csv('dataset/data_format1/user_info_format1.csv')\n",
    "user_log = pd.read_csv('dataset/data_format1/user_log_format1.csv')"
   ],
   "metadata": {
    "collapsed": false,
    "pycharm": {
     "name": "#%%\n"
    }
   }
  },
  {
   "cell_type": "code",
   "execution_count": 7,
   "outputs": [],
   "source": [
    "# 对数据进行内存压缩\n",
    "def reduce_mem_usage(df, verbose=True):\n",
    "    start_mem = df.memory_usage().sum() / 1024**2\n",
    "    numerics = ['int16', 'int32','int64','float16','float32','float64']\n",
    "    for col in df.columns:\n",
    "        col_type = df[col].dtypes\n",
    "        if col_type in numerics:\n",
    "            c_min = df[col].min()\n",
    "            c_max = df[col].max()\n",
    "            if str(col_type)[:3] == 'int':\n",
    "                if c_min > np.iinfo(np.int8).min and c_max < np.iinfo(np.int8).max:\n",
    "                    df[col] = df[col].astype(np.int8)\n",
    "                elif c_min > np.iinfo(np.int16).min and c_max < np.iinfo(np.int16).max:\n",
    "                    df[col] = df[col].astype(np.int16)\n",
    "                elif c_min > np.iinfo(np.int32).min and c_max < np.iinfo(np.int32).max:\n",
    "                    df[col] = df[col].astype(np.int32)\n",
    "                elif c_min > np.iinfo(np.int64).min and c_max < np.iinfo(np.int64).max:\n",
    "                    df[col] = df[col].astype(np.int64)\n",
    "            else:\n",
    "                if c_min > np.finfo(np.float16).min and c_max < np.finfo(np.float16).max:\n",
    "                    df[col] = df[col].astype(np.float16)\n",
    "                elif c_min > np.finfo(np.float32).min and c_max < np.finfo(np.float32).max:\n",
    "                    df[col] = df[col].astype(np.float32)\n",
    "                else:\n",
    "                    df[col] = df[col].astype(np.float64)\n",
    "    end_mem = df.memory_usage().sum() / 1024**2\n",
    "    print('memory usage after optimization is: {:.2f} MB'.format(end_mem))\n",
    "    print('decrease by {:.1f}%'.format(100 * (start_mem - end_mem) / start_mem))\n",
    "    return df"
   ],
   "metadata": {
    "collapsed": false,
    "pycharm": {
     "name": "#%%\n"
    }
   }
  },
  {
   "cell_type": "code",
   "execution_count": 8,
   "outputs": [],
   "source": [
    "num_rows = None\n",
    "train_file = './dataset/data_format1/train_format1.csv'\n",
    "test_file = './dataset/data_format1/test_format1.csv'\n",
    "\n",
    "user_info_file = './dataset/data_format1/user_info_format1.csv'\n",
    "user_log_file = './dataset/data_format1/user_log_format1.csv'\n",
    "\n",
    "# train_data = reduce_mem_usage(pd.read_csv(train_file, num_rows))\n",
    "# test_data = reduce_mem_usage(pd.read_csv(test_file, num_rows))\n",
    "# user_info = reduce_mem_usage(pd.read_csv(user_info_file, num_rows))\n",
    "# user_log = reduce_mem_usage(pd.read_csv(user_log_file, num_rows)) # 运行太慢"
   ],
   "metadata": {
    "collapsed": false,
    "pycharm": {
     "name": "#%%\n"
    }
   }
  },
  {
   "cell_type": "code",
   "execution_count": 9,
   "outputs": [
    {
     "name": "stdout",
     "output_type": "stream",
     "text": [
      "<class 'pandas.core.frame.DataFrame'>\n",
      "RangeIndex: 260864 entries, 0 to 260863\n",
      "Data columns (total 3 columns):\n",
      " #   Column       Non-Null Count   Dtype\n",
      "---  ------       --------------   -----\n",
      " 0   user_id      260864 non-null  int64\n",
      " 1   merchant_id  260864 non-null  int64\n",
      " 2   label        260864 non-null  int64\n",
      "dtypes: int64(3)\n",
      "memory usage: 6.0 MB\n"
     ]
    }
   ],
   "source": [
    "train_data.info()"
   ],
   "metadata": {
    "collapsed": false,
    "pycharm": {
     "name": "#%%\n"
    }
   }
  },
  {
   "cell_type": "code",
   "execution_count": 10,
   "outputs": [
    {
     "name": "stdout",
     "output_type": "stream",
     "text": [
      "<class 'pandas.core.frame.DataFrame'>\n",
      "RangeIndex: 261477 entries, 0 to 261476\n",
      "Data columns (total 3 columns):\n",
      " #   Column       Non-Null Count   Dtype  \n",
      "---  ------       --------------   -----  \n",
      " 0   user_id      261477 non-null  int64  \n",
      " 1   merchant_id  261477 non-null  int64  \n",
      " 2   prob         0 non-null       float64\n",
      "dtypes: float64(1), int64(2)\n",
      "memory usage: 6.0 MB\n"
     ]
    }
   ],
   "source": [
    "test_data.info()"
   ],
   "metadata": {
    "collapsed": false,
    "pycharm": {
     "name": "#%%\n"
    }
   }
  },
  {
   "cell_type": "code",
   "execution_count": 11,
   "outputs": [
    {
     "name": "stdout",
     "output_type": "stream",
     "text": [
      "<class 'pandas.core.frame.DataFrame'>\n",
      "RangeIndex: 424170 entries, 0 to 424169\n",
      "Data columns (total 3 columns):\n",
      " #   Column     Non-Null Count   Dtype  \n",
      "---  ------     --------------   -----  \n",
      " 0   user_id    424170 non-null  int64  \n",
      " 1   age_range  421953 non-null  float64\n",
      " 2   gender     417734 non-null  float64\n",
      "dtypes: float64(2), int64(1)\n",
      "memory usage: 9.7 MB\n"
     ]
    }
   ],
   "source": [
    "user_info.info()"
   ],
   "metadata": {
    "collapsed": false,
    "pycharm": {
     "name": "#%%\n"
    }
   }
  },
  {
   "cell_type": "code",
   "execution_count": 12,
   "outputs": [
    {
     "name": "stdout",
     "output_type": "stream",
     "text": [
      "<class 'pandas.core.frame.DataFrame'>\n",
      "RangeIndex: 54925330 entries, 0 to 54925329\n",
      "Data columns (total 7 columns):\n",
      " #   Column       Dtype  \n",
      "---  ------       -----  \n",
      " 0   user_id      int64  \n",
      " 1   item_id      int64  \n",
      " 2   cat_id       int64  \n",
      " 3   seller_id    int64  \n",
      " 4   brand_id     float64\n",
      " 5   time_stamp   int64  \n",
      " 6   action_type  int64  \n",
      "dtypes: float64(1), int64(6)\n",
      "memory usage: 2.9 GB\n"
     ]
    }
   ],
   "source": [
    "user_log.info()"
   ],
   "metadata": {
    "collapsed": false,
    "pycharm": {
     "name": "#%%\n"
    }
   }
  },
  {
   "cell_type": "code",
   "execution_count": 13,
   "outputs": [
    {
     "data": {
      "text/plain": "61"
     },
     "execution_count": 13,
     "metadata": {},
     "output_type": "execute_result"
    }
   ],
   "source": [
    "# 数据处理\n",
    "all_data = train_data.append(test_data)\n",
    "all_data = all_data.merge(user_info, on=['user_id'], how='left')\n",
    "del train_data, test_data, user_info\n",
    "gc.collect()"
   ],
   "metadata": {
    "collapsed": false,
    "pycharm": {
     "name": "#%%\n"
    }
   }
  },
  {
   "cell_type": "code",
   "execution_count": 14,
   "outputs": [
    {
     "data": {
      "text/plain": "   user_id  merchant_id  label  prob  age_range  gender\n0    34176         3906    0.0   NaN        6.0     0.0\n1    34176          121    0.0   NaN        6.0     0.0\n2    34176         4356    1.0   NaN        6.0     0.0\n3    34176         2217    0.0   NaN        6.0     0.0\n4   230784         4818    0.0   NaN        0.0     0.0",
      "text/html": "<div>\n<style scoped>\n    .dataframe tbody tr th:only-of-type {\n        vertical-align: middle;\n    }\n\n    .dataframe tbody tr th {\n        vertical-align: top;\n    }\n\n    .dataframe thead th {\n        text-align: right;\n    }\n</style>\n<table border=\"1\" class=\"dataframe\">\n  <thead>\n    <tr style=\"text-align: right;\">\n      <th></th>\n      <th>user_id</th>\n      <th>merchant_id</th>\n      <th>label</th>\n      <th>prob</th>\n      <th>age_range</th>\n      <th>gender</th>\n    </tr>\n  </thead>\n  <tbody>\n    <tr>\n      <th>0</th>\n      <td>34176</td>\n      <td>3906</td>\n      <td>0.0</td>\n      <td>NaN</td>\n      <td>6.0</td>\n      <td>0.0</td>\n    </tr>\n    <tr>\n      <th>1</th>\n      <td>34176</td>\n      <td>121</td>\n      <td>0.0</td>\n      <td>NaN</td>\n      <td>6.0</td>\n      <td>0.0</td>\n    </tr>\n    <tr>\n      <th>2</th>\n      <td>34176</td>\n      <td>4356</td>\n      <td>1.0</td>\n      <td>NaN</td>\n      <td>6.0</td>\n      <td>0.0</td>\n    </tr>\n    <tr>\n      <th>3</th>\n      <td>34176</td>\n      <td>2217</td>\n      <td>0.0</td>\n      <td>NaN</td>\n      <td>6.0</td>\n      <td>0.0</td>\n    </tr>\n    <tr>\n      <th>4</th>\n      <td>230784</td>\n      <td>4818</td>\n      <td>0.0</td>\n      <td>NaN</td>\n      <td>0.0</td>\n      <td>0.0</td>\n    </tr>\n  </tbody>\n</table>\n</div>"
     },
     "execution_count": 14,
     "metadata": {},
     "output_type": "execute_result"
    }
   ],
   "source": [
    "all_data.head()"
   ],
   "metadata": {
    "collapsed": false,
    "pycharm": {
     "name": "#%%\n"
    }
   }
  },
  {
   "cell_type": "code",
   "execution_count": 15,
   "outputs": [],
   "source": [
    "# 按时间排序\n",
    "user_log = user_log.sort_values(['user_id', 'time_stamp'])"
   ],
   "metadata": {
    "collapsed": false,
    "pycharm": {
     "name": "#%%\n"
    }
   }
  },
  {
   "cell_type": "code",
   "execution_count": 16,
   "outputs": [],
   "source": [
    "# 对每个用户合并所有字段，合并字段为item_id\n",
    "list_join_func = lambda x: \" \".join([str(i) for i in x])\n",
    "\n",
    "agg_dict = {\n",
    "    'item_id': list_join_func,\n",
    "    'cat_id': list_join_func,\n",
    "    'seller_id': list_join_func,\n",
    "    'brand_id': list_join_func,\n",
    "    'time_stamp': list_join_func,\n",
    "    'action_type': list_join_func,\n",
    "}\n",
    "\n",
    "rename_dict = {\n",
    "    'item_id': 'item_path',\n",
    "    'cat_id': 'cat_path',\n",
    "    'seller_id': 'seller_path',\n",
    "    'brand_id': 'brand_path',\n",
    "    'time_stamp': 'time_stamp_path',\n",
    "    'action_type': 'action_type_path',\n",
    "}\n",
    "\n",
    "def merge_list(df_ID, join_columns, df_data, agg_dict, rename_dict):\n",
    "    df_data = df_data\\\n",
    "        .groupby(join_columns)\\\n",
    "        .agg(agg_dict)\\\n",
    "        .reset_index()\\\n",
    "        .rename(columns=rename_dict)\n",
    "    df_ID = df_ID.merge(df_data, on=join_columns, how='left')\n",
    "    return df_ID\n",
    "\n",
    "all_data = merge_list(all_data, 'user_id', user_log, agg_dict, rename_dict)"
   ],
   "metadata": {
    "collapsed": false,
    "pycharm": {
     "name": "#%%\n"
    }
   }
  },
  {
   "cell_type": "code",
   "execution_count": 17,
   "outputs": [
    {
     "name": "stdout",
     "output_type": "stream",
     "text": [
      "<class 'pandas.core.frame.DataFrame'>\n",
      "Int64Index: 522341 entries, 0 to 522340\n",
      "Data columns (total 12 columns):\n",
      " #   Column            Non-Null Count   Dtype  \n",
      "---  ------            --------------   -----  \n",
      " 0   user_id           522341 non-null  int64  \n",
      " 1   merchant_id       522341 non-null  int64  \n",
      " 2   label             260864 non-null  float64\n",
      " 3   prob              0 non-null       float64\n",
      " 4   age_range         519763 non-null  float64\n",
      " 5   gender            514796 non-null  float64\n",
      " 6   item_path         522341 non-null  object \n",
      " 7   cat_path          522341 non-null  object \n",
      " 8   seller_path       522341 non-null  object \n",
      " 9   brand_path        522341 non-null  object \n",
      " 10  time_stamp_path   522341 non-null  object \n",
      " 11  action_type_path  522341 non-null  object \n",
      "dtypes: float64(4), int64(2), object(6)\n",
      "memory usage: 51.8+ MB\n"
     ]
    }
   ],
   "source": [
    "all_data.info()"
   ],
   "metadata": {
    "collapsed": false,
    "pycharm": {
     "name": "#%%\n"
    }
   }
  },
  {
   "cell_type": "code",
   "execution_count": 18,
   "outputs": [
    {
     "data": {
      "text/plain": "        user_id  merchant_id  label  prob  age_range  gender  \\\n0         34176         3906    0.0   NaN        6.0     0.0   \n1         34176          121    0.0   NaN        6.0     0.0   \n2         34176         4356    1.0   NaN        6.0     0.0   \n3         34176         2217    0.0   NaN        6.0     0.0   \n4        230784         4818    0.0   NaN        0.0     0.0   \n...         ...          ...    ...   ...        ...     ...   \n522336   228479         3111    NaN   NaN        6.0     0.0   \n522337    97919         2341    NaN   NaN        8.0     1.0   \n522338    97919         3971    NaN   NaN        8.0     1.0   \n522339    32639         3536    NaN   NaN        0.0     0.0   \n522340    32639         3319    NaN   NaN        0.0     0.0   \n\n                                                item_path  \\\n0       581818 879005 581818 581818 1011673 52343 2773...   \n1       581818 879005 581818 581818 1011673 52343 2773...   \n2       581818 879005 581818 581818 1011673 52343 2773...   \n3       581818 879005 581818 581818 1011673 52343 2773...   \n4       191923 191923 191923 191923 964906 229470 2294...   \n...                                                   ...   \n522336  802791 977305 351177 122937 21972 863063 10903...   \n522337  484765 128769 128769 995386 128769 645625 9953...   \n522338  484765 128769 128769 995386 128769 645625 9953...   \n522339  394570 394570 394570 28017 110194 314126 95836...   \n522340  394570 394570 394570 28017 110194 314126 95836...   \n\n                                                 cat_path  \\\n0       1505 662 1505 1505 1505 662 1095 1505 662 1095...   \n1       1505 662 1505 1505 1505 662 1095 1505 662 1095...   \n2       1505 662 1505 1505 1505 662 1095 1505 662 1095...   \n3       1505 662 1505 1505 1505 662 1095 1505 662 1095...   \n4       1023 1023 1023 1023 662 664 664 1544 664 662 6...   \n...                                                   ...   \n522336  602 602 602 602 552 1271 1271 662 662 821 662 ...   \n522337  737 464 464 464 464 464 464 464 464 464 464 46...   \n522338  737 464 464 464 464 464 464 464 464 464 464 46...   \n522339  1413 1413 1413 812 1271 1271 1271 1198 1271 11...   \n522340  1413 1413 1413 812 1271 1271 1271 1198 1271 11...   \n\n                                              seller_path  \\\n0       416 3606 416 416 416 3760 3606 416 1926 3004 4...   \n1       416 3606 416 416 416 3760 3606 416 1926 3004 4...   \n2       416 3606 416 416 416 3760 3606 416 1926 3004 4...   \n3       416 3606 416 416 416 3760 3606 416 1926 3004 4...   \n4       3545 3545 3545 3545 4566 2537 2537 2420 2537 4...   \n...                                                   ...   \n522336  2823 2823 2664 2664 1076 2946 2781 4949 2412 4...   \n522337  4408 235 235 235 235 3416 235 235 235 235 235 ...   \n522338  4408 235 235 235 235 3416 235 235 235 235 235 ...   \n522339  1065 1065 1065 1506 38 1890 2280 4873 2280 487...   \n522340  1065 1065 1065 1506 38 1890 2280 4873 2280 487...   \n\n                                               brand_path  \\\n0       4014.0 33.0 4014.0 4014.0 4014.0 3738.0 33.0 4...   \n1       4014.0 33.0 4014.0 4014.0 4014.0 3738.0 33.0 4...   \n2       4014.0 33.0 4014.0 4014.0 4014.0 3738.0 33.0 4...   \n3       4014.0 33.0 4014.0 4014.0 4014.0 3738.0 33.0 4...   \n4       5860.0 5860.0 5860.0 5860.0 6322.0 6066.0 6066...   \n...                                                   ...   \n522336  1128.0 1128.0 8154.0 8154.0 3549.0 5559.0 3305...   \n522337  6967.0 2020.0 2020.0 2020.0 2020.0 6242.0 2020...   \n522338  6967.0 2020.0 2020.0 2020.0 2020.0 6242.0 2020...   \n522339  6374.0 4468.0 6374.0 4888.0 7010.0 5683.0 5372...   \n522340  6374.0 4468.0 6374.0 4888.0 7010.0 5683.0 5372...   \n\n                                          time_stamp_path  \\\n0       521 521 521 521 521 521 521 521 521 521 521 52...   \n1       521 521 521 521 521 521 521 521 521 521 521 52...   \n2       521 521 521 521 521 521 521 521 521 521 521 52...   \n3       521 521 521 521 521 521 521 521 521 521 521 52...   \n4       601 601 601 601 614 614 614 614 614 614 618 61...   \n...                                                   ...   \n522336  511 511 512 512 512 516 516 521 521 521 521 52...   \n522337  626 707 707 710 710 710 710 710 710 710 710 71...   \n522338  626 707 707 710 710 710 710 710 710 710 710 71...   \n522339  523 523 523 525 617 617 723 723 723 723 807 81...   \n522340  523 523 523 525 617 617 723 723 723 723 807 81...   \n\n                                         action_type_path  \n0       0 0 0 0 0 0 0 0 0 0 0 0 0 2 0 0 0 0 0 0 2 0 2 ...  \n1       0 0 0 0 0 0 0 0 0 0 0 0 0 2 0 0 0 0 0 0 2 0 2 ...  \n2       0 0 0 0 0 0 0 0 0 0 0 0 0 2 0 0 0 0 0 0 2 0 2 ...  \n3       0 0 0 0 0 0 0 0 0 0 0 0 0 2 0 0 0 0 0 0 2 0 2 ...  \n4       0 2 0 0 0 0 0 0 0 0 0 0 0 0 0 0 2 2 0 0 0 0 0 ...  \n...                                                   ...  \n522336  3 3 2 2 2 3 3 0 0 0 0 3 0 0 0 0 0 0 0 0 0 0 0 ...  \n522337  2 0 0 0 0 0 2 0 0 0 0 0 0 0 0 0 0 2 0 0 0 0 3 ...  \n522338  2 0 0 0 0 0 2 0 0 0 0 0 0 0 0 0 0 2 0 0 0 0 3 ...  \n522339  0 2 0 0 0 0 0 0 0 2 0 0 0 0 2 0 2 0 0 3 0 0 0 ...  \n522340  0 2 0 0 0 0 0 0 0 2 0 0 0 0 2 0 2 0 0 3 0 0 0 ...  \n\n[522341 rows x 12 columns]",
      "text/html": "<div>\n<style scoped>\n    .dataframe tbody tr th:only-of-type {\n        vertical-align: middle;\n    }\n\n    .dataframe tbody tr th {\n        vertical-align: top;\n    }\n\n    .dataframe thead th {\n        text-align: right;\n    }\n</style>\n<table border=\"1\" class=\"dataframe\">\n  <thead>\n    <tr style=\"text-align: right;\">\n      <th></th>\n      <th>user_id</th>\n      <th>merchant_id</th>\n      <th>label</th>\n      <th>prob</th>\n      <th>age_range</th>\n      <th>gender</th>\n      <th>item_path</th>\n      <th>cat_path</th>\n      <th>seller_path</th>\n      <th>brand_path</th>\n      <th>time_stamp_path</th>\n      <th>action_type_path</th>\n    </tr>\n  </thead>\n  <tbody>\n    <tr>\n      <th>0</th>\n      <td>34176</td>\n      <td>3906</td>\n      <td>0.0</td>\n      <td>NaN</td>\n      <td>6.0</td>\n      <td>0.0</td>\n      <td>581818 879005 581818 581818 1011673 52343 2773...</td>\n      <td>1505 662 1505 1505 1505 662 1095 1505 662 1095...</td>\n      <td>416 3606 416 416 416 3760 3606 416 1926 3004 4...</td>\n      <td>4014.0 33.0 4014.0 4014.0 4014.0 3738.0 33.0 4...</td>\n      <td>521 521 521 521 521 521 521 521 521 521 521 52...</td>\n      <td>0 0 0 0 0 0 0 0 0 0 0 0 0 2 0 0 0 0 0 0 2 0 2 ...</td>\n    </tr>\n    <tr>\n      <th>1</th>\n      <td>34176</td>\n      <td>121</td>\n      <td>0.0</td>\n      <td>NaN</td>\n      <td>6.0</td>\n      <td>0.0</td>\n      <td>581818 879005 581818 581818 1011673 52343 2773...</td>\n      <td>1505 662 1505 1505 1505 662 1095 1505 662 1095...</td>\n      <td>416 3606 416 416 416 3760 3606 416 1926 3004 4...</td>\n      <td>4014.0 33.0 4014.0 4014.0 4014.0 3738.0 33.0 4...</td>\n      <td>521 521 521 521 521 521 521 521 521 521 521 52...</td>\n      <td>0 0 0 0 0 0 0 0 0 0 0 0 0 2 0 0 0 0 0 0 2 0 2 ...</td>\n    </tr>\n    <tr>\n      <th>2</th>\n      <td>34176</td>\n      <td>4356</td>\n      <td>1.0</td>\n      <td>NaN</td>\n      <td>6.0</td>\n      <td>0.0</td>\n      <td>581818 879005 581818 581818 1011673 52343 2773...</td>\n      <td>1505 662 1505 1505 1505 662 1095 1505 662 1095...</td>\n      <td>416 3606 416 416 416 3760 3606 416 1926 3004 4...</td>\n      <td>4014.0 33.0 4014.0 4014.0 4014.0 3738.0 33.0 4...</td>\n      <td>521 521 521 521 521 521 521 521 521 521 521 52...</td>\n      <td>0 0 0 0 0 0 0 0 0 0 0 0 0 2 0 0 0 0 0 0 2 0 2 ...</td>\n    </tr>\n    <tr>\n      <th>3</th>\n      <td>34176</td>\n      <td>2217</td>\n      <td>0.0</td>\n      <td>NaN</td>\n      <td>6.0</td>\n      <td>0.0</td>\n      <td>581818 879005 581818 581818 1011673 52343 2773...</td>\n      <td>1505 662 1505 1505 1505 662 1095 1505 662 1095...</td>\n      <td>416 3606 416 416 416 3760 3606 416 1926 3004 4...</td>\n      <td>4014.0 33.0 4014.0 4014.0 4014.0 3738.0 33.0 4...</td>\n      <td>521 521 521 521 521 521 521 521 521 521 521 52...</td>\n      <td>0 0 0 0 0 0 0 0 0 0 0 0 0 2 0 0 0 0 0 0 2 0 2 ...</td>\n    </tr>\n    <tr>\n      <th>4</th>\n      <td>230784</td>\n      <td>4818</td>\n      <td>0.0</td>\n      <td>NaN</td>\n      <td>0.0</td>\n      <td>0.0</td>\n      <td>191923 191923 191923 191923 964906 229470 2294...</td>\n      <td>1023 1023 1023 1023 662 664 664 1544 664 662 6...</td>\n      <td>3545 3545 3545 3545 4566 2537 2537 2420 2537 4...</td>\n      <td>5860.0 5860.0 5860.0 5860.0 6322.0 6066.0 6066...</td>\n      <td>601 601 601 601 614 614 614 614 614 614 618 61...</td>\n      <td>0 2 0 0 0 0 0 0 0 0 0 0 0 0 0 0 2 2 0 0 0 0 0 ...</td>\n    </tr>\n    <tr>\n      <th>...</th>\n      <td>...</td>\n      <td>...</td>\n      <td>...</td>\n      <td>...</td>\n      <td>...</td>\n      <td>...</td>\n      <td>...</td>\n      <td>...</td>\n      <td>...</td>\n      <td>...</td>\n      <td>...</td>\n      <td>...</td>\n    </tr>\n    <tr>\n      <th>522336</th>\n      <td>228479</td>\n      <td>3111</td>\n      <td>NaN</td>\n      <td>NaN</td>\n      <td>6.0</td>\n      <td>0.0</td>\n      <td>802791 977305 351177 122937 21972 863063 10903...</td>\n      <td>602 602 602 602 552 1271 1271 662 662 821 662 ...</td>\n      <td>2823 2823 2664 2664 1076 2946 2781 4949 2412 4...</td>\n      <td>1128.0 1128.0 8154.0 8154.0 3549.0 5559.0 3305...</td>\n      <td>511 511 512 512 512 516 516 521 521 521 521 52...</td>\n      <td>3 3 2 2 2 3 3 0 0 0 0 3 0 0 0 0 0 0 0 0 0 0 0 ...</td>\n    </tr>\n    <tr>\n      <th>522337</th>\n      <td>97919</td>\n      <td>2341</td>\n      <td>NaN</td>\n      <td>NaN</td>\n      <td>8.0</td>\n      <td>1.0</td>\n      <td>484765 128769 128769 995386 128769 645625 9953...</td>\n      <td>737 464 464 464 464 464 464 464 464 464 464 46...</td>\n      <td>4408 235 235 235 235 3416 235 235 235 235 235 ...</td>\n      <td>6967.0 2020.0 2020.0 2020.0 2020.0 6242.0 2020...</td>\n      <td>626 707 707 710 710 710 710 710 710 710 710 71...</td>\n      <td>2 0 0 0 0 0 2 0 0 0 0 0 0 0 0 0 0 2 0 0 0 0 3 ...</td>\n    </tr>\n    <tr>\n      <th>522338</th>\n      <td>97919</td>\n      <td>3971</td>\n      <td>NaN</td>\n      <td>NaN</td>\n      <td>8.0</td>\n      <td>1.0</td>\n      <td>484765 128769 128769 995386 128769 645625 9953...</td>\n      <td>737 464 464 464 464 464 464 464 464 464 464 46...</td>\n      <td>4408 235 235 235 235 3416 235 235 235 235 235 ...</td>\n      <td>6967.0 2020.0 2020.0 2020.0 2020.0 6242.0 2020...</td>\n      <td>626 707 707 710 710 710 710 710 710 710 710 71...</td>\n      <td>2 0 0 0 0 0 2 0 0 0 0 0 0 0 0 0 0 2 0 0 0 0 3 ...</td>\n    </tr>\n    <tr>\n      <th>522339</th>\n      <td>32639</td>\n      <td>3536</td>\n      <td>NaN</td>\n      <td>NaN</td>\n      <td>0.0</td>\n      <td>0.0</td>\n      <td>394570 394570 394570 28017 110194 314126 95836...</td>\n      <td>1413 1413 1413 812 1271 1271 1271 1198 1271 11...</td>\n      <td>1065 1065 1065 1506 38 1890 2280 4873 2280 487...</td>\n      <td>6374.0 4468.0 6374.0 4888.0 7010.0 5683.0 5372...</td>\n      <td>523 523 523 525 617 617 723 723 723 723 807 81...</td>\n      <td>0 2 0 0 0 0 0 0 0 2 0 0 0 0 2 0 2 0 0 3 0 0 0 ...</td>\n    </tr>\n    <tr>\n      <th>522340</th>\n      <td>32639</td>\n      <td>3319</td>\n      <td>NaN</td>\n      <td>NaN</td>\n      <td>0.0</td>\n      <td>0.0</td>\n      <td>394570 394570 394570 28017 110194 314126 95836...</td>\n      <td>1413 1413 1413 812 1271 1271 1271 1198 1271 11...</td>\n      <td>1065 1065 1065 1506 38 1890 2280 4873 2280 487...</td>\n      <td>6374.0 4468.0 6374.0 4888.0 7010.0 5683.0 5372...</td>\n      <td>523 523 523 525 617 617 723 723 723 723 807 81...</td>\n      <td>0 2 0 0 0 0 0 0 0 2 0 0 0 0 2 0 2 0 0 3 0 0 0 ...</td>\n    </tr>\n  </tbody>\n</table>\n<p>522341 rows × 12 columns</p>\n</div>"
     },
     "execution_count": 18,
     "metadata": {},
     "output_type": "execute_result"
    }
   ],
   "source": [
    "all_data"
   ],
   "metadata": {
    "collapsed": false,
    "pycharm": {
     "name": "#%%\n"
    }
   }
  },
  {
   "cell_type": "code",
   "execution_count": 19,
   "outputs": [
    {
     "data": {
      "text/plain": "19"
     },
     "execution_count": 19,
     "metadata": {},
     "output_type": "execute_result"
    }
   ],
   "source": [
    "del user_log\n",
    "gc.collect()"
   ],
   "metadata": {
    "collapsed": false,
    "pycharm": {
     "name": "#%%\n"
    }
   }
  },
  {
   "cell_type": "code",
   "source": [
    "# 定义特征统计函数\n",
    "def cnt_(x):\n",
    "    try:\n",
    "        return len(x.split(' '))\n",
    "    except:\n",
    "        return -1\n",
    "\n",
    "def nunique(x):\n",
    "    try:\n",
    "        return len(set(x.split(' ')))\n",
    "    except:\n",
    "        return -1\n",
    "\n",
    "def max_(x):\n",
    "    try:\n",
    "        return np.max([float(i) for i in x.split(' ')])\n",
    "    except:\n",
    "        return -1\n",
    "\n",
    "def min_(x):\n",
    "    try:\n",
    "        return np.min([float(i) for i in x.split(' ')])\n",
    "    except:\n",
    "        return -1\n",
    "\n",
    "def std_(x):\n",
    "    try:\n",
    "        return np.std([float(i) for i in x.split(' ')])\n",
    "    except:\n",
    "        return -1\n",
    "# 定义统计数据中对topN数据的函数\n",
    "def most_n(x, n):\n",
    "    try:\n",
    "        return Counter(x.split(' ')).most_common(n)[n-1][0]\n",
    "    except:\n",
    "        return -1\n",
    "# 定义统计数据中对topN数据总数的函数\n",
    "def most_n_cnt(x, n):\n",
    "    try:\n",
    "        return Counter(x.split(' ')).most_common(n)[n-1][1]\n",
    "    except:\n",
    "        return -1"
   ],
   "metadata": {
    "collapsed": false,
    "pycharm": {
     "name": "#%%\n"
    }
   },
   "execution_count": 20,
   "outputs": []
  },
  {
   "cell_type": "code",
   "execution_count": 21,
   "outputs": [],
   "source": [
    "# 调用定义的统计函数\n",
    "'''\n",
    "df_data: 数据\n",
    "single_col：要进行统计的列名\n",
    "name：统计完成新建的列名\n",
    "'''\n",
    "def user_cnt(df_data, single_col, name):\n",
    "    df_data[name] = df_data[single_col].apply(cnt_)\n",
    "    return df_data\n",
    "\n",
    "def user_nunique(df_data, single_col, name):\n",
    "    df_data[name] = df_data[single_col].apply(nunique)\n",
    "    return df_data\n",
    "\n",
    "def user_max(df_data, single_col, name):\n",
    "    df_data[name] = df_data[single_col].apply(max_)\n",
    "    return df_data\n",
    "\n",
    "def user_min(df_data, single_col, name):\n",
    "    df_data[name] = df_data[single_col].apply(min_)\n",
    "    return df_data\n",
    "\n",
    "def user_std(df_data, single_col, name):\n",
    "    df_data[name] = df_data[single_col].apply(std_)\n",
    "    return df_data\n",
    "\n",
    "def user_most_n(df_data, single_col, name, n=1):\n",
    "    func = lambda x: most_n(x, n)\n",
    "    df_data[name] = df_data[single_col].apply(func)\n",
    "    return df_data\n",
    "\n",
    "def user_most_n_cnt(df_data, single_col, name, n=1):\n",
    "    func = lambda x: most_n_cnt(x, n)\n",
    "    df_data[name] = df_data[single_col].apply(func)\n",
    "    return df_data"
   ],
   "metadata": {
    "collapsed": false,
    "pycharm": {
     "name": "#%%\n"
    }
   }
  },
  {
   "cell_type": "markdown",
   "source": [
    "### 提取统计特征"
   ],
   "metadata": {
    "collapsed": false,
    "pycharm": {
     "name": "#%% md\n"
    }
   }
  },
  {
   "cell_type": "code",
   "execution_count": 22,
   "outputs": [],
   "source": [
    "# 特征统计\n",
    "# 店铺特征统计：统计与店铺特点有关的特征，如店铺、商品、品牌等\n",
    "all_data_test = all_data.head(2000)\n",
    "# 统计用户点击、浏览、加购、购买行为\n",
    "# 总次数\n",
    "all_data_test = user_cnt(all_data_test, 'seller_path', 'user_cnt')\n",
    "# 不同店铺个数\n",
    "all_data_test = user_nunique(all_data_test, 'seller_path', 'seller_nunique')\n",
    "# 不同品类个数\n",
    "all_data_test = user_nunique(all_data_test, 'cat_path', 'cat_nunique')\n",
    "# 不同品牌个数\n",
    "all_data_test = user_nunique(all_data_test, 'brand_path', 'brand_nunique')\n",
    "# 不同商品个数\n",
    "all_data_test = user_nunique(all_data_test, 'item_path', 'item_nunique')\n",
    "# 活跃天数\n",
    "all_data_test = user_nunique(all_data_test, 'time_stamp_path', 'time_stamp_nunique')\n",
    "# 不同用户行为种数\n",
    "all_data_test = user_nunique(all_data_test, 'action_type_path', 'action_type_nunique')\n",
    "# 最晚时间\n",
    "all_data_test = user_max(all_data_test, 'action_type_path', 'time_stamp_max')\n",
    "# 最早时间\n",
    "all_data_test = user_min(all_data_test, 'action_type_path', 'time_stamp_min')\n",
    "# 活跃天数方差\n",
    "all_data_test = user_std(all_data_test, 'action_type_path', 'time_stamp_std')\n",
    "# 最早和最晚相差天数\n",
    "all_data_test['time_stamp_range'] = all_data_test['time_stamp_max'] - all_data_test['time_stamp_min']\n",
    "# 用户最喜欢的店铺\n",
    "all_data_test = user_most_n(all_data_test, 'seller_path', 'seller_most_1', n=1)\n",
    "# 最喜欢的类目\n",
    "all_data_test = user_most_n(all_data_test, 'cat_path', 'cat_most_1', n=1)\n",
    "# 最喜欢的品牌\n",
    "all_data_test = user_most_n(all_data_test, 'brand_path', 'brand_most_1', n=1)\n",
    "# 最常见的行为动作\n",
    "all_data_test = user_most_n(all_data_test, 'action_type_path', 'action_type_most_1', n=1)\n",
    "# ...\n",
    "# 用户最喜欢的店铺 行为次数\n",
    "all_data_test = user_most_n_cnt(all_data_test, 'seller_path', 'seller_most_1_cnt', n=1)\n",
    "# 最喜欢的类目 行为次数\n",
    "all_data_test = user_most_n_cnt(all_data_test, 'cat_path', 'cat_most_1_cnt', n=1)\n",
    "# 最喜欢的品牌 行为次数\n",
    "all_data_test = user_most_n_cnt(all_data_test, 'brand_path', 'brand_most_1_cnt', n=1)\n",
    "# 最常见的行为动作 行为次数\n",
    "all_data_test = user_most_n_cnt(all_data_test, 'action_type_path', 'action_type_most_1_cnt', n=1)"
   ],
   "metadata": {
    "collapsed": false,
    "pycharm": {
     "name": "#%%\n"
    }
   }
  },
  {
   "cell_type": "code",
   "execution_count": 23,
   "outputs": [
    {
     "data": {
      "text/plain": "             user_id  merchant_id        label  prob    age_range  \\\ncount    2000.000000  2000.000000  2000.000000   0.0  1995.000000   \nmean   208239.475500  2533.319000     0.064500   NaN     3.135840   \nstd    122331.596829  1457.359826     0.245703   NaN     1.889127   \nmin       132.000000    10.000000     0.000000   NaN     0.000000   \n25%    100930.500000  1329.500000     0.000000   NaN     2.000000   \n50%    206466.000000  2455.500000     0.000000   NaN     3.000000   \n75%    313024.500000  3910.000000     0.000000   NaN     4.000000   \nmax    424068.000000  4993.000000     1.000000   NaN     8.000000   \n\n            gender     user_cnt  seller_nunique  cat_nunique  brand_nunique  \\\ncount  1983.000000  2000.000000     2000.000000  2000.000000    2000.000000   \nmean      0.349975   140.082500       35.701500    23.987000      35.374000   \nstd       0.530178   202.303623       35.853021    18.091365      35.298146   \nmin       0.000000     2.000000        2.000000     1.000000       2.000000   \n25%       0.000000    39.000000       14.000000    12.000000      14.000000   \n50%       0.000000    84.000000       25.000000    20.000000      25.000000   \n75%       1.000000   163.000000       46.000000    31.000000      45.000000   \nmax       2.000000  2470.000000      344.000000   161.000000     320.000000   \n\n       ...  time_stamp_nunique  action_type_nunique  time_stamp_max  \\\ncount  ...         2000.000000           2000.00000     2000.000000   \nmean   ...           17.845500              2.63700        2.577000   \nstd    ...           14.733505              0.54807        0.494159   \nmin    ...            2.000000              1.00000        2.000000   \n25%    ...            7.000000              2.00000        2.000000   \n50%    ...           13.000000              3.00000        3.000000   \n75%    ...           24.000000              3.00000        3.000000   \nmax    ...          105.000000              4.00000        3.000000   \n\n       time_stamp_min  time_stamp_std  time_stamp_range  seller_most_1_cnt  \\\ncount     2000.000000     2000.000000        2000.00000        2000.000000   \nmean         0.004000        0.743902           2.57300          29.575000   \nstd          0.089376        0.264871           0.50279          46.845711   \nmin          0.000000        0.000000           0.00000           1.000000   \n25%          0.000000        0.554763           2.00000           9.000000   \n50%          0.000000        0.706387           3.00000          16.000000   \n75%          0.000000        0.903796           3.00000          32.250000   \nmax          2.000000        1.475535           3.00000         966.000000   \n\n       cat_most_1_cnt  brand_most_1_cnt  action_type_most_1_cnt  \ncount      2000.00000       2000.000000             2000.000000  \nmean         30.53200         29.844500              123.778000  \nstd          39.37676         47.037364              186.462639  \nmin           1.00000          1.000000                2.000000  \n25%          10.00000          9.000000               32.000000  \n50%          19.00000         16.000000               70.000000  \n75%          34.00000         32.000000              141.250000  \nmax         532.00000        966.000000             2270.000000  \n\n[8 rows x 21 columns]",
      "text/html": "<div>\n<style scoped>\n    .dataframe tbody tr th:only-of-type {\n        vertical-align: middle;\n    }\n\n    .dataframe tbody tr th {\n        vertical-align: top;\n    }\n\n    .dataframe thead th {\n        text-align: right;\n    }\n</style>\n<table border=\"1\" class=\"dataframe\">\n  <thead>\n    <tr style=\"text-align: right;\">\n      <th></th>\n      <th>user_id</th>\n      <th>merchant_id</th>\n      <th>label</th>\n      <th>prob</th>\n      <th>age_range</th>\n      <th>gender</th>\n      <th>user_cnt</th>\n      <th>seller_nunique</th>\n      <th>cat_nunique</th>\n      <th>brand_nunique</th>\n      <th>...</th>\n      <th>time_stamp_nunique</th>\n      <th>action_type_nunique</th>\n      <th>time_stamp_max</th>\n      <th>time_stamp_min</th>\n      <th>time_stamp_std</th>\n      <th>time_stamp_range</th>\n      <th>seller_most_1_cnt</th>\n      <th>cat_most_1_cnt</th>\n      <th>brand_most_1_cnt</th>\n      <th>action_type_most_1_cnt</th>\n    </tr>\n  </thead>\n  <tbody>\n    <tr>\n      <th>count</th>\n      <td>2000.000000</td>\n      <td>2000.000000</td>\n      <td>2000.000000</td>\n      <td>0.0</td>\n      <td>1995.000000</td>\n      <td>1983.000000</td>\n      <td>2000.000000</td>\n      <td>2000.000000</td>\n      <td>2000.000000</td>\n      <td>2000.000000</td>\n      <td>...</td>\n      <td>2000.000000</td>\n      <td>2000.00000</td>\n      <td>2000.000000</td>\n      <td>2000.000000</td>\n      <td>2000.000000</td>\n      <td>2000.00000</td>\n      <td>2000.000000</td>\n      <td>2000.00000</td>\n      <td>2000.000000</td>\n      <td>2000.000000</td>\n    </tr>\n    <tr>\n      <th>mean</th>\n      <td>208239.475500</td>\n      <td>2533.319000</td>\n      <td>0.064500</td>\n      <td>NaN</td>\n      <td>3.135840</td>\n      <td>0.349975</td>\n      <td>140.082500</td>\n      <td>35.701500</td>\n      <td>23.987000</td>\n      <td>35.374000</td>\n      <td>...</td>\n      <td>17.845500</td>\n      <td>2.63700</td>\n      <td>2.577000</td>\n      <td>0.004000</td>\n      <td>0.743902</td>\n      <td>2.57300</td>\n      <td>29.575000</td>\n      <td>30.53200</td>\n      <td>29.844500</td>\n      <td>123.778000</td>\n    </tr>\n    <tr>\n      <th>std</th>\n      <td>122331.596829</td>\n      <td>1457.359826</td>\n      <td>0.245703</td>\n      <td>NaN</td>\n      <td>1.889127</td>\n      <td>0.530178</td>\n      <td>202.303623</td>\n      <td>35.853021</td>\n      <td>18.091365</td>\n      <td>35.298146</td>\n      <td>...</td>\n      <td>14.733505</td>\n      <td>0.54807</td>\n      <td>0.494159</td>\n      <td>0.089376</td>\n      <td>0.264871</td>\n      <td>0.50279</td>\n      <td>46.845711</td>\n      <td>39.37676</td>\n      <td>47.037364</td>\n      <td>186.462639</td>\n    </tr>\n    <tr>\n      <th>min</th>\n      <td>132.000000</td>\n      <td>10.000000</td>\n      <td>0.000000</td>\n      <td>NaN</td>\n      <td>0.000000</td>\n      <td>0.000000</td>\n      <td>2.000000</td>\n      <td>2.000000</td>\n      <td>1.000000</td>\n      <td>2.000000</td>\n      <td>...</td>\n      <td>2.000000</td>\n      <td>1.00000</td>\n      <td>2.000000</td>\n      <td>0.000000</td>\n      <td>0.000000</td>\n      <td>0.00000</td>\n      <td>1.000000</td>\n      <td>1.00000</td>\n      <td>1.000000</td>\n      <td>2.000000</td>\n    </tr>\n    <tr>\n      <th>25%</th>\n      <td>100930.500000</td>\n      <td>1329.500000</td>\n      <td>0.000000</td>\n      <td>NaN</td>\n      <td>2.000000</td>\n      <td>0.000000</td>\n      <td>39.000000</td>\n      <td>14.000000</td>\n      <td>12.000000</td>\n      <td>14.000000</td>\n      <td>...</td>\n      <td>7.000000</td>\n      <td>2.00000</td>\n      <td>2.000000</td>\n      <td>0.000000</td>\n      <td>0.554763</td>\n      <td>2.00000</td>\n      <td>9.000000</td>\n      <td>10.00000</td>\n      <td>9.000000</td>\n      <td>32.000000</td>\n    </tr>\n    <tr>\n      <th>50%</th>\n      <td>206466.000000</td>\n      <td>2455.500000</td>\n      <td>0.000000</td>\n      <td>NaN</td>\n      <td>3.000000</td>\n      <td>0.000000</td>\n      <td>84.000000</td>\n      <td>25.000000</td>\n      <td>20.000000</td>\n      <td>25.000000</td>\n      <td>...</td>\n      <td>13.000000</td>\n      <td>3.00000</td>\n      <td>3.000000</td>\n      <td>0.000000</td>\n      <td>0.706387</td>\n      <td>3.00000</td>\n      <td>16.000000</td>\n      <td>19.00000</td>\n      <td>16.000000</td>\n      <td>70.000000</td>\n    </tr>\n    <tr>\n      <th>75%</th>\n      <td>313024.500000</td>\n      <td>3910.000000</td>\n      <td>0.000000</td>\n      <td>NaN</td>\n      <td>4.000000</td>\n      <td>1.000000</td>\n      <td>163.000000</td>\n      <td>46.000000</td>\n      <td>31.000000</td>\n      <td>45.000000</td>\n      <td>...</td>\n      <td>24.000000</td>\n      <td>3.00000</td>\n      <td>3.000000</td>\n      <td>0.000000</td>\n      <td>0.903796</td>\n      <td>3.00000</td>\n      <td>32.250000</td>\n      <td>34.00000</td>\n      <td>32.000000</td>\n      <td>141.250000</td>\n    </tr>\n    <tr>\n      <th>max</th>\n      <td>424068.000000</td>\n      <td>4993.000000</td>\n      <td>1.000000</td>\n      <td>NaN</td>\n      <td>8.000000</td>\n      <td>2.000000</td>\n      <td>2470.000000</td>\n      <td>344.000000</td>\n      <td>161.000000</td>\n      <td>320.000000</td>\n      <td>...</td>\n      <td>105.000000</td>\n      <td>4.00000</td>\n      <td>3.000000</td>\n      <td>2.000000</td>\n      <td>1.475535</td>\n      <td>3.00000</td>\n      <td>966.000000</td>\n      <td>532.00000</td>\n      <td>966.000000</td>\n      <td>2270.000000</td>\n    </tr>\n  </tbody>\n</table>\n<p>8 rows × 21 columns</p>\n</div>"
     },
     "execution_count": 23,
     "metadata": {},
     "output_type": "execute_result"
    }
   ],
   "source": [
    "all_data_test.describe()"
   ],
   "metadata": {
    "collapsed": false,
    "pycharm": {
     "name": "#%%\n"
    }
   }
  },
  {
   "cell_type": "code",
   "execution_count": 24,
   "outputs": [],
   "source": [
    "# 用户特征统计：对用户对点击、加购、购买、收藏等特征进行统计。\n",
    "def col_cnt_(df_data, columns_list, action_type):\n",
    "    try:\n",
    "        data_dict = {}\n",
    "        col_list = copy.deepcopy(columns_list)\n",
    "        if action_type != None:\n",
    "            col_list += ['action_type_path']\n",
    "        for col in col_list:\n",
    "            data_dict[col] = df_data[col].split(' ')\n",
    "        path_len = len(data_dict[col])\n",
    "\n",
    "        data_out = []\n",
    "        for i_ in range(path_len):\n",
    "            data_txt = ''\n",
    "            for col_ in columns_list:\n",
    "                if data_dict['action_type_path'][i_] == action_type:\n",
    "                    data_txt += '_' + data_dict[col_][i_]\n",
    "            data_out.append(data_txt)\n",
    "        return len(data_out)\n",
    "    except:\n",
    "        return -1\n",
    "\n",
    "def col_nunique_(df_data, columns_list, action_type):\n",
    "    try:\n",
    "        data_dict = {}\n",
    "        col_list = copy.deepcopy(columns_list)\n",
    "        if action_type != None:\n",
    "            col_list += ['action_type_path']\n",
    "        for col in col_list:\n",
    "            data_dict[col] = df_data[col].split(' ')\n",
    "        path_len = len(data_dict[col])\n",
    "\n",
    "        data_out = []\n",
    "        for i_ in range(path_len):\n",
    "            data_txt = ''\n",
    "            for col_ in columns_list:\n",
    "                if data_dict['action_type_path'][i_] == action_type:\n",
    "                    data_txt += '_' + data_dict[col_][i_]\n",
    "            data_out.append(data_txt)\n",
    "        return len(set(data_out))\n",
    "    except:\n",
    "        return -1\n",
    "\n",
    "'''\n",
    "columns_list: 要计算的列名\n",
    "action_type：\n",
    "'''\n",
    "def user_col_cnt(df_data, columns_list, action_type, name):\n",
    "    df_data[name] = df_data.apply(lambda x: col_cnt_(x, columns_list, action_type), axis=1)\n",
    "    return df_data\n",
    "\n",
    "def user_col_nunique(df_data, columns_list, action_type, name):\n",
    "    df_data[name] = df_data.apply(lambda x: col_nunique_(x, columns_list, action_type), axis=1)\n",
    "    return df_data"
   ],
   "metadata": {
    "collapsed": false,
    "pycharm": {
     "name": "#%%\n"
    }
   }
  },
  {
   "cell_type": "code",
   "execution_count": 25,
   "outputs": [],
   "source": [
    "# 统计用户和店铺的关系：对店铺的用户点击次数、加购次数、购买次数、收藏次数等\n",
    "# 点击次数\n",
    "all_data_test = user_col_cnt(all_data_test, ['seller_path'], '0', 'user_cnt_0')\n",
    "# 加购次数\n",
    "all_data_test = user_col_cnt(all_data_test, ['seller_path'], '1', 'user_cnt_1')"
   ],
   "metadata": {
    "collapsed": false,
    "pycharm": {
     "name": "#%%\n"
    }
   }
  },
  {
   "cell_type": "code",
   "execution_count": 26,
   "outputs": [
    {
     "data": {
      "text/plain": "      user_id  merchant_id  label  prob  age_range  gender  \\\n0       34176         3906    0.0   NaN        6.0     0.0   \n1       34176          121    0.0   NaN        6.0     0.0   \n2       34176         4356    1.0   NaN        6.0     0.0   \n3       34176         2217    0.0   NaN        6.0     0.0   \n4      230784         4818    0.0   NaN        0.0     0.0   \n...       ...          ...    ...   ...        ...     ...   \n1995   220293         2883    0.0   NaN        4.0     1.0   \n1996   155013         3727    0.0   NaN        2.0     0.0   \n1997    24453         1487    0.0   NaN        5.0     1.0   \n1998   155781         1861    0.0   NaN        0.0     2.0   \n1999    90501         3205    0.0   NaN        3.0     0.0   \n\n                                              item_path  \\\n0     581818 879005 581818 581818 1011673 52343 2773...   \n1     581818 879005 581818 581818 1011673 52343 2773...   \n2     581818 879005 581818 581818 1011673 52343 2773...   \n3     581818 879005 581818 581818 1011673 52343 2773...   \n4     191923 191923 191923 191923 964906 229470 2294...   \n...                                                 ...   \n1995  551995 497734 703172 468886 813265 1424 1424 1...   \n1996  881928 833279 961513 305410 305410 305410 1057...   \n1997  1049364 1049364 282508 251929 291529 166817 45...   \n1998  437216 1040600 305379 168779 463220 895836 305...   \n1999  966016 420078 463793 102071 402374 463793 1517...   \n\n                                               cat_path  \\\n0     1505 662 1505 1505 1505 662 1095 1505 662 1095...   \n1     1505 662 1505 1505 1505 662 1095 1505 662 1095...   \n2     1505 662 1505 1505 1505 662 1095 1505 662 1095...   \n3     1505 662 1505 1505 1505 662 1095 1505 662 1095...   \n4     1023 1023 1023 1023 662 664 664 1544 664 662 6...   \n...                                                 ...   \n1995  50 50 683 683 331 1401 1401 1401 1401 1401 737...   \n1996  737 737 737 1349 1349 1349 737 737 737 737 737...   \n1997  1075 1075 1213 1438 1200 407 1611 407 407 178 ...   \n1998  407 407 1438 1438 178 1505 656 612 1553 184 18...   \n1999  245 1656 720 720 125 720 1023 1023 177 177 177...   \n\n                                            seller_path  \\\n0     416 3606 416 416 416 3760 3606 416 1926 3004 4...   \n1     416 3606 416 416 416 3760 3606 416 1926 3004 4...   \n2     416 3606 416 416 416 3760 3606 416 1926 3004 4...   \n3     416 3606 416 416 416 3760 3606 416 1926 3004 4...   \n4     3545 3545 3545 3545 4566 2537 2537 2420 2537 4...   \n...                                                 ...   \n1995  638 2782 2884 192 2982 2982 2982 2982 2982 298...   \n1996  4390 3718 4993 702 702 702 3727 3727 3727 3727...   \n1997  3365 3365 1256 639 4016 4346 4346 4346 4346 43...   \n1998  3163 118 4211 4685 4645 3910 816 4364 1910 203...   \n1999  4600 4600 1071 3402 306 1071 206 344 2051 3155...   \n\n                                             brand_path  ... seller_most_1  \\\n0     4014.0 33.0 4014.0 4014.0 4014.0 3738.0 33.0 4...  ...           331   \n1     4014.0 33.0 4014.0 4014.0 4014.0 3738.0 33.0 4...  ...           331   \n2     4014.0 33.0 4014.0 4014.0 4014.0 3738.0 33.0 4...  ...           331   \n3     4014.0 33.0 4014.0 4014.0 4014.0 3738.0 33.0 4...  ...           331   \n4     5860.0 5860.0 5860.0 5860.0 6322.0 6066.0 6066...  ...          3556   \n...                                                 ...  ...           ...   \n1995  1444.0 84.0 7239.0 5638.0 5750.0 5750.0 5750.0...  ...          2677   \n1996  5223.0 3169.0 1865.0 1360.0 1360.0 1360.0 6816...  ...          3727   \n1997  7524.0 7524.0 1573.0 1565.0 4358.0 2919.0 2919...  ...          4346   \n1998  3881.0 6020.0 5242.0 7647.0 7837.0 5484.0 5784...  ...          1199   \n1999  404.0 1307.0 2100.0 4564.0 7592.0 2100.0 2512....  ...          1123   \n\n     cat_most_1  brand_most_1  action_type_most_1  seller_most_1_cnt  \\\n0           662        4094.0                   0                 70   \n1           662        4094.0                   0                 70   \n2           662        4094.0                   0                 70   \n3           662        4094.0                   0                 70   \n4           407        1236.0                   0                 10   \n...         ...           ...                 ...                ...   \n1995        656        1579.0                   0                 17   \n1996        737        6816.0                   0                 47   \n1997        407        2919.0                   0                 42   \n1998       1389        5409.0                   0                  5   \n1999        389        4029.0                   0                 11   \n\n      cat_most_1_cnt  brand_most_1_cnt  action_type_most_1_cnt  user_cnt_0  \\\n0                 98                70                     410         451   \n1                 98                70                     410         451   \n2                 98                70                     410         451   \n3                 98                70                     410         451   \n4                  9                10                      47          54   \n...              ...               ...                     ...         ...   \n1995              14                17                      41          45   \n1996              51                47                     104         106   \n1997              25                42                      69          81   \n1998              32                 5                      55          59   \n1999               7                11                      40          75   \n\n      user_cnt_1  \n0            451  \n1            451  \n2            451  \n3            451  \n4             54  \n...          ...  \n1995          45  \n1996         106  \n1997          81  \n1998          59  \n1999          75  \n\n[2000 rows x 33 columns]",
      "text/html": "<div>\n<style scoped>\n    .dataframe tbody tr th:only-of-type {\n        vertical-align: middle;\n    }\n\n    .dataframe tbody tr th {\n        vertical-align: top;\n    }\n\n    .dataframe thead th {\n        text-align: right;\n    }\n</style>\n<table border=\"1\" class=\"dataframe\">\n  <thead>\n    <tr style=\"text-align: right;\">\n      <th></th>\n      <th>user_id</th>\n      <th>merchant_id</th>\n      <th>label</th>\n      <th>prob</th>\n      <th>age_range</th>\n      <th>gender</th>\n      <th>item_path</th>\n      <th>cat_path</th>\n      <th>seller_path</th>\n      <th>brand_path</th>\n      <th>...</th>\n      <th>seller_most_1</th>\n      <th>cat_most_1</th>\n      <th>brand_most_1</th>\n      <th>action_type_most_1</th>\n      <th>seller_most_1_cnt</th>\n      <th>cat_most_1_cnt</th>\n      <th>brand_most_1_cnt</th>\n      <th>action_type_most_1_cnt</th>\n      <th>user_cnt_0</th>\n      <th>user_cnt_1</th>\n    </tr>\n  </thead>\n  <tbody>\n    <tr>\n      <th>0</th>\n      <td>34176</td>\n      <td>3906</td>\n      <td>0.0</td>\n      <td>NaN</td>\n      <td>6.0</td>\n      <td>0.0</td>\n      <td>581818 879005 581818 581818 1011673 52343 2773...</td>\n      <td>1505 662 1505 1505 1505 662 1095 1505 662 1095...</td>\n      <td>416 3606 416 416 416 3760 3606 416 1926 3004 4...</td>\n      <td>4014.0 33.0 4014.0 4014.0 4014.0 3738.0 33.0 4...</td>\n      <td>...</td>\n      <td>331</td>\n      <td>662</td>\n      <td>4094.0</td>\n      <td>0</td>\n      <td>70</td>\n      <td>98</td>\n      <td>70</td>\n      <td>410</td>\n      <td>451</td>\n      <td>451</td>\n    </tr>\n    <tr>\n      <th>1</th>\n      <td>34176</td>\n      <td>121</td>\n      <td>0.0</td>\n      <td>NaN</td>\n      <td>6.0</td>\n      <td>0.0</td>\n      <td>581818 879005 581818 581818 1011673 52343 2773...</td>\n      <td>1505 662 1505 1505 1505 662 1095 1505 662 1095...</td>\n      <td>416 3606 416 416 416 3760 3606 416 1926 3004 4...</td>\n      <td>4014.0 33.0 4014.0 4014.0 4014.0 3738.0 33.0 4...</td>\n      <td>...</td>\n      <td>331</td>\n      <td>662</td>\n      <td>4094.0</td>\n      <td>0</td>\n      <td>70</td>\n      <td>98</td>\n      <td>70</td>\n      <td>410</td>\n      <td>451</td>\n      <td>451</td>\n    </tr>\n    <tr>\n      <th>2</th>\n      <td>34176</td>\n      <td>4356</td>\n      <td>1.0</td>\n      <td>NaN</td>\n      <td>6.0</td>\n      <td>0.0</td>\n      <td>581818 879005 581818 581818 1011673 52343 2773...</td>\n      <td>1505 662 1505 1505 1505 662 1095 1505 662 1095...</td>\n      <td>416 3606 416 416 416 3760 3606 416 1926 3004 4...</td>\n      <td>4014.0 33.0 4014.0 4014.0 4014.0 3738.0 33.0 4...</td>\n      <td>...</td>\n      <td>331</td>\n      <td>662</td>\n      <td>4094.0</td>\n      <td>0</td>\n      <td>70</td>\n      <td>98</td>\n      <td>70</td>\n      <td>410</td>\n      <td>451</td>\n      <td>451</td>\n    </tr>\n    <tr>\n      <th>3</th>\n      <td>34176</td>\n      <td>2217</td>\n      <td>0.0</td>\n      <td>NaN</td>\n      <td>6.0</td>\n      <td>0.0</td>\n      <td>581818 879005 581818 581818 1011673 52343 2773...</td>\n      <td>1505 662 1505 1505 1505 662 1095 1505 662 1095...</td>\n      <td>416 3606 416 416 416 3760 3606 416 1926 3004 4...</td>\n      <td>4014.0 33.0 4014.0 4014.0 4014.0 3738.0 33.0 4...</td>\n      <td>...</td>\n      <td>331</td>\n      <td>662</td>\n      <td>4094.0</td>\n      <td>0</td>\n      <td>70</td>\n      <td>98</td>\n      <td>70</td>\n      <td>410</td>\n      <td>451</td>\n      <td>451</td>\n    </tr>\n    <tr>\n      <th>4</th>\n      <td>230784</td>\n      <td>4818</td>\n      <td>0.0</td>\n      <td>NaN</td>\n      <td>0.0</td>\n      <td>0.0</td>\n      <td>191923 191923 191923 191923 964906 229470 2294...</td>\n      <td>1023 1023 1023 1023 662 664 664 1544 664 662 6...</td>\n      <td>3545 3545 3545 3545 4566 2537 2537 2420 2537 4...</td>\n      <td>5860.0 5860.0 5860.0 5860.0 6322.0 6066.0 6066...</td>\n      <td>...</td>\n      <td>3556</td>\n      <td>407</td>\n      <td>1236.0</td>\n      <td>0</td>\n      <td>10</td>\n      <td>9</td>\n      <td>10</td>\n      <td>47</td>\n      <td>54</td>\n      <td>54</td>\n    </tr>\n    <tr>\n      <th>...</th>\n      <td>...</td>\n      <td>...</td>\n      <td>...</td>\n      <td>...</td>\n      <td>...</td>\n      <td>...</td>\n      <td>...</td>\n      <td>...</td>\n      <td>...</td>\n      <td>...</td>\n      <td>...</td>\n      <td>...</td>\n      <td>...</td>\n      <td>...</td>\n      <td>...</td>\n      <td>...</td>\n      <td>...</td>\n      <td>...</td>\n      <td>...</td>\n      <td>...</td>\n      <td>...</td>\n    </tr>\n    <tr>\n      <th>1995</th>\n      <td>220293</td>\n      <td>2883</td>\n      <td>0.0</td>\n      <td>NaN</td>\n      <td>4.0</td>\n      <td>1.0</td>\n      <td>551995 497734 703172 468886 813265 1424 1424 1...</td>\n      <td>50 50 683 683 331 1401 1401 1401 1401 1401 737...</td>\n      <td>638 2782 2884 192 2982 2982 2982 2982 2982 298...</td>\n      <td>1444.0 84.0 7239.0 5638.0 5750.0 5750.0 5750.0...</td>\n      <td>...</td>\n      <td>2677</td>\n      <td>656</td>\n      <td>1579.0</td>\n      <td>0</td>\n      <td>17</td>\n      <td>14</td>\n      <td>17</td>\n      <td>41</td>\n      <td>45</td>\n      <td>45</td>\n    </tr>\n    <tr>\n      <th>1996</th>\n      <td>155013</td>\n      <td>3727</td>\n      <td>0.0</td>\n      <td>NaN</td>\n      <td>2.0</td>\n      <td>0.0</td>\n      <td>881928 833279 961513 305410 305410 305410 1057...</td>\n      <td>737 737 737 1349 1349 1349 737 737 737 737 737...</td>\n      <td>4390 3718 4993 702 702 702 3727 3727 3727 3727...</td>\n      <td>5223.0 3169.0 1865.0 1360.0 1360.0 1360.0 6816...</td>\n      <td>...</td>\n      <td>3727</td>\n      <td>737</td>\n      <td>6816.0</td>\n      <td>0</td>\n      <td>47</td>\n      <td>51</td>\n      <td>47</td>\n      <td>104</td>\n      <td>106</td>\n      <td>106</td>\n    </tr>\n    <tr>\n      <th>1997</th>\n      <td>24453</td>\n      <td>1487</td>\n      <td>0.0</td>\n      <td>NaN</td>\n      <td>5.0</td>\n      <td>1.0</td>\n      <td>1049364 1049364 282508 251929 291529 166817 45...</td>\n      <td>1075 1075 1213 1438 1200 407 1611 407 407 178 ...</td>\n      <td>3365 3365 1256 639 4016 4346 4346 4346 4346 43...</td>\n      <td>7524.0 7524.0 1573.0 1565.0 4358.0 2919.0 2919...</td>\n      <td>...</td>\n      <td>4346</td>\n      <td>407</td>\n      <td>2919.0</td>\n      <td>0</td>\n      <td>42</td>\n      <td>25</td>\n      <td>42</td>\n      <td>69</td>\n      <td>81</td>\n      <td>81</td>\n    </tr>\n    <tr>\n      <th>1998</th>\n      <td>155781</td>\n      <td>1861</td>\n      <td>0.0</td>\n      <td>NaN</td>\n      <td>0.0</td>\n      <td>2.0</td>\n      <td>437216 1040600 305379 168779 463220 895836 305...</td>\n      <td>407 407 1438 1438 178 1505 656 612 1553 184 18...</td>\n      <td>3163 118 4211 4685 4645 3910 816 4364 1910 203...</td>\n      <td>3881.0 6020.0 5242.0 7647.0 7837.0 5484.0 5784...</td>\n      <td>...</td>\n      <td>1199</td>\n      <td>1389</td>\n      <td>5409.0</td>\n      <td>0</td>\n      <td>5</td>\n      <td>32</td>\n      <td>5</td>\n      <td>55</td>\n      <td>59</td>\n      <td>59</td>\n    </tr>\n    <tr>\n      <th>1999</th>\n      <td>90501</td>\n      <td>3205</td>\n      <td>0.0</td>\n      <td>NaN</td>\n      <td>3.0</td>\n      <td>0.0</td>\n      <td>966016 420078 463793 102071 402374 463793 1517...</td>\n      <td>245 1656 720 720 125 720 1023 1023 177 177 177...</td>\n      <td>4600 4600 1071 3402 306 1071 206 344 2051 3155...</td>\n      <td>404.0 1307.0 2100.0 4564.0 7592.0 2100.0 2512....</td>\n      <td>...</td>\n      <td>1123</td>\n      <td>389</td>\n      <td>4029.0</td>\n      <td>0</td>\n      <td>11</td>\n      <td>7</td>\n      <td>11</td>\n      <td>40</td>\n      <td>75</td>\n      <td>75</td>\n    </tr>\n  </tbody>\n</table>\n<p>2000 rows × 33 columns</p>\n</div>"
     },
     "execution_count": 26,
     "metadata": {},
     "output_type": "execute_result"
    }
   ],
   "source": [
    "all_data_test"
   ],
   "metadata": {
    "collapsed": false,
    "pycharm": {
     "name": "#%%\n"
    }
   }
  },
  {
   "cell_type": "code",
   "execution_count": null,
   "outputs": [],
   "source": [],
   "metadata": {
    "collapsed": false,
    "pycharm": {
     "name": "#%%\n"
    }
   }
  }
 ],
 "metadata": {
  "kernelspec": {
   "display_name": "Python 3",
   "language": "python",
   "name": "python3"
  },
  "language_info": {
   "codemirror_mode": {
    "name": "ipython",
    "version": 2
   },
   "file_extension": ".py",
   "mimetype": "text/x-python",
   "name": "python",
   "nbconvert_exporter": "python",
   "pygments_lexer": "ipython2",
   "version": "2.7.6"
  }
 },
 "nbformat": 4,
 "nbformat_minor": 0
}