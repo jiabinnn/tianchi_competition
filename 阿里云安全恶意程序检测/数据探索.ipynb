{
 "cells": [
  {
   "cell_type": "code",
   "execution_count": 1,
   "metadata": {
    "collapsed": true
   },
   "outputs": [],
   "source": [
    "# 2.1.1 数据特征类型\n",
    "import pandas as pd\n",
    "import numpy as np\n",
    "import seaborn as sns\n",
    "import matplotlib.pyplot as plt\n",
    "\n",
    "import warnings\n",
    "warnings.filterwarnings('ignore')\n",
    "\n",
    "%matplotlib inline\n",
    "\n",
    "# 读取数据\n",
    "path = './dataset/'\n",
    "train = pd.read_csv(path + 'security_train.csv')\n",
    "test = pd.read_csv(path + 'security_test.csv')"
   ]
  },
  {
   "cell_type": "code",
   "execution_count": 2,
   "outputs": [
    {
     "name": "stdout",
     "output_type": "stream",
     "text": [
      "<class 'pandas.core.frame.DataFrame'>\n",
      "RangeIndex: 89806693 entries, 0 to 89806692\n",
      "Data columns (total 5 columns):\n",
      " #   Column   Dtype \n",
      "---  ------   ----- \n",
      " 0   file_id  int64 \n",
      " 1   label    int64 \n",
      " 2   api      object\n",
      " 3   tid      int64 \n",
      " 4   index    int64 \n",
      "dtypes: int64(4), object(1)\n",
      "memory usage: 3.3+ GB\n"
     ]
    }
   ],
   "source": [
    "train.info()"
   ],
   "metadata": {
    "collapsed": false,
    "pycharm": {
     "name": "#%%\n"
    }
   }
  },
  {
   "cell_type": "code",
   "execution_count": 3,
   "outputs": [
    {
     "data": {
      "text/plain": "   file_id  label                     api   tid  index\n0        1      5              LdrLoadDll  2488      0\n1        1      5  LdrGetProcedureAddress  2488      1\n2        1      5  LdrGetProcedureAddress  2488      2\n3        1      5  LdrGetProcedureAddress  2488      3\n4        1      5  LdrGetProcedureAddress  2488      4",
      "text/html": "<div>\n<style scoped>\n    .dataframe tbody tr th:only-of-type {\n        vertical-align: middle;\n    }\n\n    .dataframe tbody tr th {\n        vertical-align: top;\n    }\n\n    .dataframe thead th {\n        text-align: right;\n    }\n</style>\n<table border=\"1\" class=\"dataframe\">\n  <thead>\n    <tr style=\"text-align: right;\">\n      <th></th>\n      <th>file_id</th>\n      <th>label</th>\n      <th>api</th>\n      <th>tid</th>\n      <th>index</th>\n    </tr>\n  </thead>\n  <tbody>\n    <tr>\n      <th>0</th>\n      <td>1</td>\n      <td>5</td>\n      <td>LdrLoadDll</td>\n      <td>2488</td>\n      <td>0</td>\n    </tr>\n    <tr>\n      <th>1</th>\n      <td>1</td>\n      <td>5</td>\n      <td>LdrGetProcedureAddress</td>\n      <td>2488</td>\n      <td>1</td>\n    </tr>\n    <tr>\n      <th>2</th>\n      <td>1</td>\n      <td>5</td>\n      <td>LdrGetProcedureAddress</td>\n      <td>2488</td>\n      <td>2</td>\n    </tr>\n    <tr>\n      <th>3</th>\n      <td>1</td>\n      <td>5</td>\n      <td>LdrGetProcedureAddress</td>\n      <td>2488</td>\n      <td>3</td>\n    </tr>\n    <tr>\n      <th>4</th>\n      <td>1</td>\n      <td>5</td>\n      <td>LdrGetProcedureAddress</td>\n      <td>2488</td>\n      <td>4</td>\n    </tr>\n  </tbody>\n</table>\n</div>"
     },
     "execution_count": 3,
     "metadata": {},
     "output_type": "execute_result"
    }
   ],
   "source": [
    "train.head()"
   ],
   "metadata": {
    "collapsed": false,
    "pycharm": {
     "name": "#%%\n"
    }
   }
  },
  {
   "cell_type": "code",
   "execution_count": 4,
   "outputs": [
    {
     "data": {
      "text/plain": "            file_id         label           tid         index\ncount  8.980669e+07  8.980669e+07  8.980669e+07  8.980669e+07\nmean   7.078770e+03  3.862835e+00  2.533028e+03  1.547521e+03\nstd    3.998794e+03  2.393783e+00  6.995798e+02  1.412249e+03\nmin    1.000000e+00  0.000000e+00  1.000000e+02  0.000000e+00\n25%    3.637000e+03  2.000000e+00  2.356000e+03  3.490000e+02\n50%    7.161000e+03  5.000000e+00  2.564000e+03  1.085000e+03\n75%    1.055100e+04  5.000000e+00  2.776000e+03  2.503000e+03\nmax    1.388700e+04  7.000000e+00  2.089600e+04  5.000000e+03",
      "text/html": "<div>\n<style scoped>\n    .dataframe tbody tr th:only-of-type {\n        vertical-align: middle;\n    }\n\n    .dataframe tbody tr th {\n        vertical-align: top;\n    }\n\n    .dataframe thead th {\n        text-align: right;\n    }\n</style>\n<table border=\"1\" class=\"dataframe\">\n  <thead>\n    <tr style=\"text-align: right;\">\n      <th></th>\n      <th>file_id</th>\n      <th>label</th>\n      <th>tid</th>\n      <th>index</th>\n    </tr>\n  </thead>\n  <tbody>\n    <tr>\n      <th>count</th>\n      <td>8.980669e+07</td>\n      <td>8.980669e+07</td>\n      <td>8.980669e+07</td>\n      <td>8.980669e+07</td>\n    </tr>\n    <tr>\n      <th>mean</th>\n      <td>7.078770e+03</td>\n      <td>3.862835e+00</td>\n      <td>2.533028e+03</td>\n      <td>1.547521e+03</td>\n    </tr>\n    <tr>\n      <th>std</th>\n      <td>3.998794e+03</td>\n      <td>2.393783e+00</td>\n      <td>6.995798e+02</td>\n      <td>1.412249e+03</td>\n    </tr>\n    <tr>\n      <th>min</th>\n      <td>1.000000e+00</td>\n      <td>0.000000e+00</td>\n      <td>1.000000e+02</td>\n      <td>0.000000e+00</td>\n    </tr>\n    <tr>\n      <th>25%</th>\n      <td>3.637000e+03</td>\n      <td>2.000000e+00</td>\n      <td>2.356000e+03</td>\n      <td>3.490000e+02</td>\n    </tr>\n    <tr>\n      <th>50%</th>\n      <td>7.161000e+03</td>\n      <td>5.000000e+00</td>\n      <td>2.564000e+03</td>\n      <td>1.085000e+03</td>\n    </tr>\n    <tr>\n      <th>75%</th>\n      <td>1.055100e+04</td>\n      <td>5.000000e+00</td>\n      <td>2.776000e+03</td>\n      <td>2.503000e+03</td>\n    </tr>\n    <tr>\n      <th>max</th>\n      <td>1.388700e+04</td>\n      <td>7.000000e+00</td>\n      <td>2.089600e+04</td>\n      <td>5.000000e+03</td>\n    </tr>\n  </tbody>\n</table>\n</div>"
     },
     "execution_count": 4,
     "metadata": {},
     "output_type": "execute_result"
    }
   ],
   "source": [
    "train.describe()"
   ],
   "metadata": {
    "collapsed": false,
    "pycharm": {
     "name": "#%%\n"
    }
   }
  },
  {
   "cell_type": "code",
   "execution_count": 5,
   "outputs": [
    {
     "data": {
      "text/plain": "<AxesSubplot:xlabel='tid'>"
     },
     "execution_count": 5,
     "metadata": {},
     "output_type": "execute_result"
    },
    {
     "data": {
      "text/plain": "<Figure size 432x288 with 1 Axes>",
      "image/png": "[encoded data removed]"
     },
     "metadata": {
      "needs_background": "light"
     },
     "output_type": "display_data"
    }
   ],
   "source": [
    "sns.boxplot(x=train.iloc[:10000]['tid'])"
   ],
   "metadata": {
    "collapsed": false,
    "pycharm": {
     "name": "#%%\n"
    }
   }
  },
  {
   "cell_type": "code",
   "execution_count": 6,
   "outputs": [
    {
     "data": {
      "text/plain": "file_id    13887\nlabel          8\napi          295\ntid         2782\nindex       5001\ndtype: int64"
     },
     "execution_count": 6,
     "metadata": {},
     "output_type": "execute_result"
    }
   ],
   "source": [
    "train.nunique()"
   ],
   "metadata": {
    "collapsed": false,
    "pycharm": {
     "name": "#%%\n"
    }
   }
  },
  {
   "cell_type": "code",
   "execution_count": 7,
   "outputs": [
    {
     "data": {
      "text/plain": "file_id    0\nlabel      0\napi        0\ntid        0\nindex      0\ndtype: int64"
     },
     "execution_count": 7,
     "metadata": {},
     "output_type": "execute_result"
    }
   ],
   "source": [
    "# 缺失值\n",
    "train.isnull().sum()"
   ],
   "metadata": {
    "collapsed": false,
    "pycharm": {
     "name": "#%%\n"
    }
   }
  },
  {
   "cell_type": "code",
   "execution_count": 8,
   "outputs": [
    {
     "data": {
      "text/plain": "count    8.980669e+07\nmean     1.547521e+03\nstd      1.412249e+03\nmin      0.000000e+00\n25%      3.490000e+02\n50%      1.085000e+03\n75%      2.503000e+03\nmax      5.000000e+03\nName: index, dtype: float64"
     },
     "execution_count": 8,
     "metadata": {},
     "output_type": "execute_result"
    }
   ],
   "source": [
    "# 异常值\n",
    "train['index'].describe()"
   ],
   "metadata": {
    "collapsed": false,
    "pycharm": {
     "name": "#%%\n"
    }
   }
  },
  {
   "cell_type": "code",
   "execution_count": 9,
   "outputs": [
    {
     "data": {
      "text/plain": "count    8.980669e+07\nmean     2.533028e+03\nstd      6.995798e+02\nmin      1.000000e+02\n25%      2.356000e+03\n50%      2.564000e+03\n75%      2.776000e+03\nmax      2.089600e+04\nName: tid, dtype: float64"
     },
     "execution_count": 9,
     "metadata": {},
     "output_type": "execute_result"
    }
   ],
   "source": [
    "train['tid'].describe()"
   ],
   "metadata": {
    "collapsed": false,
    "pycharm": {
     "name": "#%%\n"
    }
   }
  },
  {
   "cell_type": "code",
   "execution_count": 10,
   "outputs": [
    {
     "data": {
      "text/plain": "5    33033543\n0    16375107\n7    15081535\n2     9693969\n3     8117585\n6     4586578\n1     2254561\n4      663815\nName: label, dtype: int64"
     },
     "execution_count": 10,
     "metadata": {},
     "output_type": "execute_result"
    }
   ],
   "source": [
    "# 2.1.5 标签分布\n",
    "train['label'].value_counts()"
   ],
   "metadata": {
    "collapsed": false,
    "pycharm": {
     "name": "#%%\n"
    }
   }
  },
  {
   "cell_type": "code",
   "execution_count": 12,
   "outputs": [
    {
     "data": {
      "text/plain": "<AxesSubplot:ylabel='label'>"
     },
     "execution_count": 12,
     "metadata": {},
     "output_type": "execute_result"
    },
    {
     "data": {
      "text/plain": "<Figure size 432x288 with 1 Axes>",
      "image/png": "[encoded data removed]"
     },
     "metadata": {},
     "output_type": "display_data"
    }
   ],
   "source": [
    "# 直观化标签分布\n",
    "train['label'].value_counts().sort_index().plot(kind='bar')"
   ],
   "metadata": {
    "collapsed": false,
    "pycharm": {
     "name": "#%%\n"
    }
   }
  },
  {
   "cell_type": "code",
   "execution_count": 13,
   "outputs": [
    {
     "data": {
      "text/plain": "<AxesSubplot:ylabel='label'>"
     },
     "execution_count": 13,
     "metadata": {},
     "output_type": "execute_result"
    },
    {
     "data": {
      "text/plain": "<Figure size 432x288 with 1 Axes>",
      "image/png": "[encoded data removed]"
     },
     "metadata": {},
     "output_type": "display_data"
    }
   ],
   "source": [
    "train['label'].value_counts().sort_index().plot(kind='pie')"
   ],
   "metadata": {
    "collapsed": false,
    "pycharm": {
     "name": "#%%\n"
    }
   }
  },
  {
   "cell_type": "code",
   "execution_count": 14,
   "outputs": [
    {
     "data": {
      "text/plain": "   file_id             api   tid  index\n0        1   RegOpenKeyExA  2332      0\n1        1       CopyFileA  2332      1\n2        1  OpenSCManagerA  2332      2\n3        1  CreateServiceA  2332      3\n4        1   RegOpenKeyExA  2468      0",
      "text/html": "<div>\n<style scoped>\n    .dataframe tbody tr th:only-of-type {\n        vertical-align: middle;\n    }\n\n    .dataframe tbody tr th {\n        vertical-align: top;\n    }\n\n    .dataframe thead th {\n        text-align: right;\n    }\n</style>\n<table border=\"1\" class=\"dataframe\">\n  <thead>\n    <tr style=\"text-align: right;\">\n      <th></th>\n      <th>file_id</th>\n      <th>api</th>\n      <th>tid</th>\n      <th>index</th>\n    </tr>\n  </thead>\n  <tbody>\n    <tr>\n      <th>0</th>\n      <td>1</td>\n      <td>RegOpenKeyExA</td>\n      <td>2332</td>\n      <td>0</td>\n    </tr>\n    <tr>\n      <th>1</th>\n      <td>1</td>\n      <td>CopyFileA</td>\n      <td>2332</td>\n      <td>1</td>\n    </tr>\n    <tr>\n      <th>2</th>\n      <td>1</td>\n      <td>OpenSCManagerA</td>\n      <td>2332</td>\n      <td>2</td>\n    </tr>\n    <tr>\n      <th>3</th>\n      <td>1</td>\n      <td>CreateServiceA</td>\n      <td>2332</td>\n      <td>3</td>\n    </tr>\n    <tr>\n      <th>4</th>\n      <td>1</td>\n      <td>RegOpenKeyExA</td>\n      <td>2468</td>\n      <td>0</td>\n    </tr>\n  </tbody>\n</table>\n</div>"
     },
     "execution_count": 14,
     "metadata": {},
     "output_type": "execute_result"
    }
   ],
   "source": [
    "# 2.2 测试集数据探索\n",
    "# 2.2.1 数据信息\n",
    "test.head()"
   ],
   "metadata": {
    "collapsed": false,
    "pycharm": {
     "name": "#%%\n"
    }
   }
  },
  {
   "cell_type": "code",
   "execution_count": 15,
   "outputs": [
    {
     "name": "stdout",
     "output_type": "stream",
     "text": [
      "<class 'pandas.core.frame.DataFrame'>\n",
      "RangeIndex: 79288375 entries, 0 to 79288374\n",
      "Data columns (total 4 columns):\n",
      " #   Column   Dtype \n",
      "---  ------   ----- \n",
      " 0   file_id  int64 \n",
      " 1   api      object\n",
      " 2   tid      int64 \n",
      " 3   index    int64 \n",
      "dtypes: int64(3), object(1)\n",
      "memory usage: 2.4+ GB\n"
     ]
    }
   ],
   "source": [
    "test.info()"
   ],
   "metadata": {
    "collapsed": false,
    "pycharm": {
     "name": "#%%\n"
    }
   }
  },
  {
   "cell_type": "code",
   "execution_count": 16,
   "outputs": [
    {
     "data": {
      "text/plain": "file_id    0\napi        0\ntid        0\nindex      0\ndtype: int64"
     },
     "execution_count": 16,
     "metadata": {},
     "output_type": "execute_result"
    }
   ],
   "source": [
    "# 2.2.2 缺失值\n",
    "test.isnull().sum()"
   ],
   "metadata": {
    "collapsed": false,
    "pycharm": {
     "name": "#%%\n"
    }
   }
  },
  {
   "cell_type": "code",
   "execution_count": 17,
   "outputs": [
    {
     "data": {
      "text/plain": "file_id    12955\napi          298\ntid         2047\nindex       5001\ndtype: int64"
     },
     "execution_count": 17,
     "metadata": {},
     "output_type": "execute_result"
    }
   ],
   "source": [
    "# 2.2.3 数据分布\n",
    "test.nunique()"
   ],
   "metadata": {
    "collapsed": false,
    "pycharm": {
     "name": "#%%\n"
    }
   }
  },
  {
   "cell_type": "code",
   "execution_count": 18,
   "outputs": [
    {
     "data": {
      "text/plain": "count    7.928838e+07\nmean     1.584815e+03\nstd      1.411116e+03\nmin      0.000000e+00\n25%      3.900000e+02\n50%      1.131000e+03\n75%      2.547000e+03\nmax      5.000000e+03\nName: index, dtype: float64"
     },
     "execution_count": 18,
     "metadata": {},
     "output_type": "execute_result"
    }
   ],
   "source": [
    "# 2.2.4 异常值\n",
    "test['index'].describe()"
   ],
   "metadata": {
    "collapsed": false,
    "pycharm": {
     "name": "#%%\n"
    }
   }
  },
  {
   "cell_type": "code",
   "execution_count": 19,
   "outputs": [
    {
     "data": {
      "text/plain": "count    7.928838e+07\nmean     2.491914e+03\nstd      5.824600e+02\nmin      1.000000e+02\n25%      2.360000e+03\n50%      2.556000e+03\n75%      2.752000e+03\nmax      9.196000e+03\nName: tid, dtype: float64"
     },
     "execution_count": 19,
     "metadata": {},
     "output_type": "execute_result"
    }
   ],
   "source": [
    "test['tid'].describe()"
   ],
   "metadata": {
    "collapsed": false,
    "pycharm": {
     "name": "#%%\n"
    }
   }
  },
  {
   "cell_type": "code",
   "execution_count": 21,
   "outputs": [
    {
     "data": {
      "text/plain": "932"
     },
     "execution_count": 21,
     "metadata": {},
     "output_type": "execute_result"
    }
   ],
   "source": [
    "# 2.3\n",
    "# 2.3.1 file_id分析\n",
    "train_fileids = train['file_id'].unique()\n",
    "test_fileids = test['file_id'].unique()\n",
    "len(set(train_fileids) - set(test_fileids))"
   ],
   "metadata": {
    "collapsed": false,
    "pycharm": {
     "name": "#%%\n"
    }
   }
  },
  {
   "cell_type": "code",
   "execution_count": 22,
   "outputs": [
    {
     "data": {
      "text/plain": "0"
     },
     "execution_count": 22,
     "metadata": {},
     "output_type": "execute_result"
    }
   ],
   "source": [
    "len(set(test_fileids) - set(train_fileids))"
   ],
   "metadata": {
    "collapsed": false,
    "pycharm": {
     "name": "#%%\n"
    }
   }
  },
  {
   "cell_type": "code",
   "execution_count": 23,
   "outputs": [
    {
     "data": {
      "text/plain": "{'CreateDirectoryExW',\n 'InternetGetConnectedStateExA',\n 'MessageBoxTimeoutW',\n 'NtCreateUserProcess',\n 'NtDeleteFile',\n 'TaskDialog'}"
     },
     "execution_count": 23,
     "metadata": {},
     "output_type": "execute_result"
    }
   ],
   "source": [
    "# 2.3.2 API分析\n",
    "train_apis = train['api'].unique()\n",
    "test_apis = test['api'].unique()\n",
    "set(test_apis) - set(train_apis)"
   ],
   "metadata": {
    "collapsed": false,
    "pycharm": {
     "name": "#%%\n"
    }
   }
  },
  {
   "cell_type": "code",
   "execution_count": 24,
   "outputs": [
    {
     "data": {
      "text/plain": "{'EncryptMessage', 'RtlCompressBuffer', 'WSASendTo'}"
     },
     "execution_count": 24,
     "metadata": {},
     "output_type": "execute_result"
    }
   ],
   "source": [
    "set(train_apis) - set(test_apis)"
   ],
   "metadata": {
    "collapsed": false,
    "pycharm": {
     "name": "#%%\n"
    }
   }
  },
  {
   "cell_type": "code",
   "execution_count": null,
   "outputs": [],
   "source": [],
   "metadata": {
    "collapsed": false,
    "pycharm": {
     "name": "#%%\n"
    }
   }
  }
 ],
 "metadata": {
  "kernelspec": {
   "display_name": "Python 3",
   "language": "python",
   "name": "python3"
  },
  "language_info": {
   "codemirror_mode": {
    "name": "ipython",
    "version": 2
   },
   "file_extension": ".py",
   "mimetype": "text/x-python",
   "name": "python",
   "nbconvert_exporter": "python",
   "pygments_lexer": "ipython2",
   "version": "2.7.6"
  }
 },
 "nbformat": 4,
 "nbformat_minor": 0
}