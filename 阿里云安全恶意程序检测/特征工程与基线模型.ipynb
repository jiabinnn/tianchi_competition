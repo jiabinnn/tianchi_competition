{
 "cells": [
  {
   "cell_type": "code",
   "execution_count": 1,
   "metadata": {
    "collapsed": true
   },
   "outputs": [],
   "source": [
    "# 3.3 基线模型\n",
    "import pandas as pd\n",
    "import numpy as np\n",
    "import seaborn as sns\n",
    "import matplotlib.pyplot as plt\n",
    "import lightgbm as lgb\n",
    "import warnings\n",
    "warnings.filterwarnings('ignore')\n",
    "\n",
    "%matplotlib inline\n",
    "\n",
    "# 读取数据\n",
    "path = './dataset/'\n",
    "train = pd.read_csv(path + 'security_train.csv')\n",
    "test = pd.read_csv(path + 'security_test.csv')"
   ]
  },
  {
   "cell_type": "code",
   "execution_count": 3,
   "outputs": [],
   "source": [
    "# 3.3.2 特征工程\n",
    "# 利用count函数和nunique函数生成特征：反映样本调用api，tid，index的频率信息。\n",
    "def simple_sts_features(df):\n",
    "    simple_fea = pd.DataFrame()\n",
    "    simple_fea['file_id'] = df['file_id'].unique()\n",
    "    simple_fea = simple_fea.sort_values('file_id')\n",
    "\n",
    "    df_grp = df.groupby('file_id')\n",
    "    simple_fea['file_id_api_count'] = df_grp['api'].count().values\n",
    "    simple_fea['file_id_api_nunique'] = df_grp['api'].nunique().values\n",
    "\n",
    "    simple_fea['file_id_tid_count'] = df_grp['tid'].count().values\n",
    "    simple_fea['file_id_tid_nunique'] = df_grp['tid'].nunique().values\n",
    "\n",
    "    simple_fea['file_id_index_count'] = df_grp['index'].count().values\n",
    "    simple_fea['file_id_index_nunique'] = df_grp['index'].nunique().values\n",
    "\n",
    "    return simple_fea"
   ],
   "metadata": {
    "collapsed": false,
    "pycharm": {
     "name": "#%%\n"
    }
   }
  },
  {
   "cell_type": "code",
   "execution_count": 5,
   "outputs": [],
   "source": [
    "# 利用mean min std max生成特征\n",
    "def simple_numerical_sts_features(df):\n",
    "    simple_numerical_fea = pd.DataFrame()\n",
    "    simple_numerical_fea['file_id'] = df['file_id'].unique()\n",
    "    simple_numerical_fea = simple_numerical_fea.sort_values('file_id')\n",
    "\n",
    "    df_grp = df.groupby('file_id')\n",
    "    simple_numerical_fea['file_id_tid_mean'] = df_grp['tid'].mean().values\n",
    "    simple_numerical_fea['file_id_tid_min'] = df_grp['tid'].min().values\n",
    "    simple_numerical_fea['file_id_tid_std'] = df_grp['tid'].std().values\n",
    "    simple_numerical_fea['file_id_tid_max'] = df_grp['tid'].max().values\n",
    "\n",
    "    simple_numerical_fea['file_id_index_mean'] = df_grp['index'].mean().values\n",
    "    simple_numerical_fea['file_id_index_min'] = df_grp['index'].min().values\n",
    "    simple_numerical_fea['file_id_index_std'] = df_grp['index'].std().values\n",
    "    simple_numerical_fea['file_id_index_max'] = df_grp['index'].max().values\n",
    "\n",
    "    return simple_numerical_fea"
   ],
   "metadata": {
    "collapsed": false,
    "pycharm": {
     "name": "#%%\n"
    }
   }
  },
  {
   "cell_type": "code",
   "execution_count": 8,
   "outputs": [],
   "source": [
    "# 利用定义的特征生成函数，并生成训练集和测试集的统计特征。\n",
    "# 反映样本调用api，tid，index\n",
    "\n",
    "simple_train_fea1 = simple_sts_features(train)\n",
    "\n",
    "simple_test_fea1 = simple_sts_features(test)"
   ],
   "metadata": {
    "collapsed": false,
    "pycharm": {
     "name": "#%%\n"
    }
   }
  },
  {
   "cell_type": "code",
   "execution_count": 7,
   "outputs": [],
   "source": [
    "simple_train_fea2 = simple_numerical_sts_features(train)\n",
    "\n",
    "simple_test_fea2 = simple_numerical_sts_features(test)"
   ],
   "metadata": {
    "collapsed": false,
    "pycharm": {
     "name": "#%%\n"
    }
   }
  },
  {
   "cell_type": "code",
   "execution_count": 9,
   "outputs": [],
   "source": [
    "# 3.3.3 基线构建 获取标签\n",
    "train_label = train[['file_id', 'label']].drop_duplicates(subset=['file_id', 'label'], keep='first')\n",
    "test_submit = test[['file_id']].drop_duplicates(subset=['file_id'], keep='first')"
   ],
   "metadata": {
    "collapsed": false,
    "pycharm": {
     "name": "#%%\n"
    }
   }
  },
  {
   "cell_type": "code",
   "execution_count": 10,
   "outputs": [],
   "source": [
    "# 训练集和测试集的构建\n",
    "train_data = train_label.merge(simple_train_fea1, on='file_id', how='left')\n",
    "train_data = train_data.merge(simple_train_fea2, on='file_id', how='left')\n",
    "\n",
    "test_submit = test_submit.merge(simple_test_fea1, on='file_id', how='left')\n",
    "test_submit = test_submit.merge(simple_test_fea2, on='file_id', how='left')"
   ],
   "metadata": {
    "collapsed": false,
    "pycharm": {
     "name": "#%%\n"
    }
   }
  },
  {
   "cell_type": "code",
   "execution_count": 12,
   "outputs": [],
   "source": [
    "# 赛题模型评估函数\n",
    "def lgb_logloss(preds, data):\n",
    "    labels_ = data.get_label()\n",
    "    classes_ = np.unique(labels_)\n",
    "    preds_prob = []\n",
    "    for i in range(len(classes_)):\n",
    "        preds_prob.append(preds[i*len(labels_):(i+1) * len(labels_)])\n",
    "\n",
    "    preds_prob_ = np.vstack(preds_prob)\n",
    "    loss = []\n",
    "    for i in range(preds_prob_.shape[1]):\n",
    "        sum_ = 0\n",
    "        for j in range(preds_prob_.shape[0]):\n",
    "            pred = preds_prob_[j, i]\n",
    "            if j == labels_[i]:\n",
    "                sum_ += np.log(pred)\n",
    "            else:\n",
    "                sum_ += np.log(1 - pred)\n",
    "        loss.append(sum_)\n",
    "    return 'loss is: ', -1 * (np.sum(loss) / preds_prob_.shape[1]), False"
   ],
   "metadata": {
    "collapsed": false,
    "pycharm": {
     "name": "#%%\n"
    }
   }
  },
  {
   "cell_type": "code",
   "execution_count": 13,
   "outputs": [],
   "source": [
    "train_features = [col for col in train_data.columns if col not in ['label', 'file_id']]\n",
    "train_label = 'label'"
   ],
   "metadata": {
    "collapsed": false,
    "pycharm": {
     "name": "#%%\n"
    }
   }
  },
  {
   "cell_type": "code",
   "execution_count": null,
   "outputs": [],
   "source": [
    "# 使用5折交叉验证，采用lightgbm模型\n",
    "from sklearn.model_selection import StratifiedKFold, KFold\n",
    "params = {\n",
    "    'task': 'train',\n",
    "    'objective': 'multiclass',\n",
    "    'num_leaves': 255,\n",
    "    'num_class':8,\n",
    "    'min_data_in_leaf': 50,\n",
    "    'learning_rate': 0.05,\n",
    "    'feature_fraction': 0.85,\n",
    "    'bagging_fraction': 0.85,\n",
    "    'bagging_freq':5,\n",
    "    'max_bin': 128,\n",
    "    'random_state': 100\n",
    "}\n",
    "\n",
    "folds = KFold(n_splits=5, shuffle=True, random_state=15)\n",
    "\n",
    "predict_res = 0\n",
    "models = []\n",
    "\n",
    "for fold_, (trn_idx, val_idx) in enumerate(folds.split(train_data)):\n",
    "    print('fold n {}'.format(fold_))\n",
    "    trn_data = lgb.Dataset(train_data.iloc[trn_idx][train_features],\n",
    "                           label=train_data.iloc[trn_idx][train_label].values)\n",
    "    val_data = lgb.Dataset(train_data.iloc[val_idx][train_features],\n",
    "                           label=train_data.iloc[val_idx][train_label].values)\n",
    "\n",
    "    clf = lgb.train(params,\n",
    "                    trn_data,\n",
    "                    num_boost_round=2000,\n",
    "                    valid_sets=[trn_data, val_data],\n",
    "                    early_stopping_rounds=100,\n",
    "                    feval=lgb_logloss)\n",
    "    models.append(clf)"
   ],
   "metadata": {
    "collapsed": false,
    "pycharm": {
     "name": "#%%\n"
    }
   }
  },
  {
   "cell_type": "code",
   "execution_count": null,
   "outputs": [],
   "source": [
    "# 3.3.4 特征重要性分析\n",
    "feature_importance = pd.DataFrame()\n",
    "feature_importance['fea_name'] = train_features\n",
    "feature_importance['fea_imp'] = clf.feature_importance()\n",
    "feature_importance = feature_importance.sort_values('fea_imp', ascending=False)\n",
    "\n",
    "plt.figure(figsize=[20,10,])\n",
    "sns.barplot(x=feature_importance['fea_name'],\n",
    "            y=feature_importance['fea_imp'])"
   ],
   "metadata": {
    "collapsed": false,
    "pycharm": {
     "name": "#%%\n"
    }
   }
  },
  {
   "cell_type": "code",
   "execution_count": null,
   "outputs": [],
   "source": [
    "# 3.3.5 模型测试\n",
    "pred_res = 0\n",
    "fold = 5\n",
    "for model in models:\n",
    "    pred_res += model.predict(test_submit[train_features]) * 1.0 / fold\n",
    "test_submit['prob0'] = 0\n",
    "test_submit['prob1'] = 0\n",
    "\n",
    "test_submit[['prob0', 'prob1', 'prob2', 'prob3', 'prob4', 'prob5', 'prob6', 'prob7']] = pred_res\n",
    "test_submit[['file_id', 'prob0', 'prob1', 'prob2', 'prob3', 'prob4', 'prob5', 'prob6', 'prob7']].to_csv('baseline.csv', index=None)"
   ],
   "metadata": {
    "collapsed": false,
    "pycharm": {
     "name": "#%%\n"
    }
   }
  }
 ],
 "metadata": {
  "kernelspec": {
   "display_name": "Python 3",
   "language": "python",
   "name": "python3"
  },
  "language_info": {
   "codemirror_mode": {
    "name": "ipython",
    "version": 2
   },
   "file_extension": ".py",
   "mimetype": "text/x-python",
   "name": "python",
   "nbconvert_exporter": "python",
   "pygments_lexer": "ipython2",
   "version": "2.7.6"
  }
 },
 "nbformat": 4,
 "nbformat_minor": 0
}